{
 "cells": [
  {
   "cell_type": "code",
   "execution_count": null,
   "metadata": {},
   "outputs": [],
   "source": [
    "%pip install cufflinks\n",
    "%pip install nbformat"
   ]
  },
  {
   "cell_type": "code",
   "execution_count": 2,
   "metadata": {},
   "outputs": [
    {
     "data": {
      "text/html": [
       "        <script type=\"text/javascript\">\n",
       "        window.PlotlyConfig = {MathJaxConfig: 'local'};\n",
       "        if (window.MathJax && window.MathJax.Hub && window.MathJax.Hub.Config) {window.MathJax.Hub.Config({SVG: {font: \"STIX-Web\"}});}\n",
       "        if (typeof require !== 'undefined') {\n",
       "        require.undef(\"plotly\");\n",
       "        requirejs.config({\n",
       "            paths: {\n",
       "                'plotly': ['https://cdn.plot.ly/plotly-2.14.0.min']\n",
       "            }\n",
       "        });\n",
       "        require(['plotly'], function(Plotly) {\n",
       "            window._Plotly = Plotly;\n",
       "        });\n",
       "        }\n",
       "        </script>\n",
       "        "
      ]
     },
     "metadata": {},
     "output_type": "display_data"
    },
    {
     "data": {
      "text/html": [
       "        <script type=\"text/javascript\">\n",
       "        window.PlotlyConfig = {MathJaxConfig: 'local'};\n",
       "        if (window.MathJax && window.MathJax.Hub && window.MathJax.Hub.Config) {window.MathJax.Hub.Config({SVG: {font: \"STIX-Web\"}});}\n",
       "        if (typeof require !== 'undefined') {\n",
       "        require.undef(\"plotly\");\n",
       "        requirejs.config({\n",
       "            paths: {\n",
       "                'plotly': ['https://cdn.plot.ly/plotly-2.14.0.min']\n",
       "            }\n",
       "        });\n",
       "        require(['plotly'], function(Plotly) {\n",
       "            window._Plotly = Plotly;\n",
       "        });\n",
       "        }\n",
       "        </script>\n",
       "        "
      ]
     },
     "metadata": {},
     "output_type": "display_data"
    }
   ],
   "source": [
    "import pandas as pd\n",
    "import numpy as np\n",
    "import cufflinks as cf\n",
    "import matplotlib.pyplot as plt\n",
    "from IPython.display import display,HTML\n",
    "\n",
    "cf.set_config_file(sharing='public',theme='white',offline=True) # write cf.getThemes() to find all themes available"
   ]
  },
  {
   "cell_type": "code",
   "execution_count": 3,
   "metadata": {},
   "outputs": [
    {
     "data": {
      "text/html": [
       "<div>\n",
       "<style scoped>\n",
       "    .dataframe tbody tr th:only-of-type {\n",
       "        vertical-align: middle;\n",
       "    }\n",
       "\n",
       "    .dataframe tbody tr th {\n",
       "        vertical-align: top;\n",
       "    }\n",
       "\n",
       "    .dataframe thead th {\n",
       "        text-align: right;\n",
       "    }\n",
       "</style>\n",
       "<table border=\"1\" class=\"dataframe\">\n",
       "  <thead>\n",
       "    <tr style=\"text-align: right;\">\n",
       "      <th></th>\n",
       "      <th>PassengerId</th>\n",
       "      <th>Survived</th>\n",
       "      <th>Pclass</th>\n",
       "      <th>Name</th>\n",
       "      <th>Sex</th>\n",
       "      <th>Age</th>\n",
       "      <th>SibSp</th>\n",
       "      <th>Parch</th>\n",
       "      <th>Ticket</th>\n",
       "      <th>Fare</th>\n",
       "      <th>Cabin</th>\n",
       "      <th>Embarked</th>\n",
       "    </tr>\n",
       "  </thead>\n",
       "  <tbody>\n",
       "    <tr>\n",
       "      <th>0</th>\n",
       "      <td>1</td>\n",
       "      <td>0</td>\n",
       "      <td>3</td>\n",
       "      <td>Braund, Mr. Owen Harris</td>\n",
       "      <td>male</td>\n",
       "      <td>22.0</td>\n",
       "      <td>1</td>\n",
       "      <td>0</td>\n",
       "      <td>A/5 21171</td>\n",
       "      <td>7.2500</td>\n",
       "      <td>NaN</td>\n",
       "      <td>S</td>\n",
       "    </tr>\n",
       "    <tr>\n",
       "      <th>1</th>\n",
       "      <td>2</td>\n",
       "      <td>1</td>\n",
       "      <td>1</td>\n",
       "      <td>Cumings, Mrs. John Bradley (Florence Briggs Th...</td>\n",
       "      <td>female</td>\n",
       "      <td>38.0</td>\n",
       "      <td>1</td>\n",
       "      <td>0</td>\n",
       "      <td>PC 17599</td>\n",
       "      <td>71.2833</td>\n",
       "      <td>C85</td>\n",
       "      <td>C</td>\n",
       "    </tr>\n",
       "    <tr>\n",
       "      <th>2</th>\n",
       "      <td>3</td>\n",
       "      <td>1</td>\n",
       "      <td>3</td>\n",
       "      <td>Heikkinen, Miss. Laina</td>\n",
       "      <td>female</td>\n",
       "      <td>26.0</td>\n",
       "      <td>0</td>\n",
       "      <td>0</td>\n",
       "      <td>STON/O2. 3101282</td>\n",
       "      <td>7.9250</td>\n",
       "      <td>NaN</td>\n",
       "      <td>S</td>\n",
       "    </tr>\n",
       "    <tr>\n",
       "      <th>3</th>\n",
       "      <td>4</td>\n",
       "      <td>1</td>\n",
       "      <td>1</td>\n",
       "      <td>Futrelle, Mrs. Jacques Heath (Lily May Peel)</td>\n",
       "      <td>female</td>\n",
       "      <td>35.0</td>\n",
       "      <td>1</td>\n",
       "      <td>0</td>\n",
       "      <td>113803</td>\n",
       "      <td>53.1000</td>\n",
       "      <td>C123</td>\n",
       "      <td>S</td>\n",
       "    </tr>\n",
       "    <tr>\n",
       "      <th>4</th>\n",
       "      <td>5</td>\n",
       "      <td>0</td>\n",
       "      <td>3</td>\n",
       "      <td>Allen, Mr. William Henry</td>\n",
       "      <td>male</td>\n",
       "      <td>35.0</td>\n",
       "      <td>0</td>\n",
       "      <td>0</td>\n",
       "      <td>373450</td>\n",
       "      <td>8.0500</td>\n",
       "      <td>NaN</td>\n",
       "      <td>S</td>\n",
       "    </tr>\n",
       "    <tr>\n",
       "      <th>...</th>\n",
       "      <td>...</td>\n",
       "      <td>...</td>\n",
       "      <td>...</td>\n",
       "      <td>...</td>\n",
       "      <td>...</td>\n",
       "      <td>...</td>\n",
       "      <td>...</td>\n",
       "      <td>...</td>\n",
       "      <td>...</td>\n",
       "      <td>...</td>\n",
       "      <td>...</td>\n",
       "      <td>...</td>\n",
       "    </tr>\n",
       "    <tr>\n",
       "      <th>886</th>\n",
       "      <td>887</td>\n",
       "      <td>0</td>\n",
       "      <td>2</td>\n",
       "      <td>Montvila, Rev. Juozas</td>\n",
       "      <td>male</td>\n",
       "      <td>27.0</td>\n",
       "      <td>0</td>\n",
       "      <td>0</td>\n",
       "      <td>211536</td>\n",
       "      <td>13.0000</td>\n",
       "      <td>NaN</td>\n",
       "      <td>S</td>\n",
       "    </tr>\n",
       "    <tr>\n",
       "      <th>887</th>\n",
       "      <td>888</td>\n",
       "      <td>1</td>\n",
       "      <td>1</td>\n",
       "      <td>Graham, Miss. Margaret Edith</td>\n",
       "      <td>female</td>\n",
       "      <td>19.0</td>\n",
       "      <td>0</td>\n",
       "      <td>0</td>\n",
       "      <td>112053</td>\n",
       "      <td>30.0000</td>\n",
       "      <td>B42</td>\n",
       "      <td>S</td>\n",
       "    </tr>\n",
       "    <tr>\n",
       "      <th>888</th>\n",
       "      <td>889</td>\n",
       "      <td>0</td>\n",
       "      <td>3</td>\n",
       "      <td>Johnston, Miss. Catherine Helen \"Carrie\"</td>\n",
       "      <td>female</td>\n",
       "      <td>NaN</td>\n",
       "      <td>1</td>\n",
       "      <td>2</td>\n",
       "      <td>W./C. 6607</td>\n",
       "      <td>23.4500</td>\n",
       "      <td>NaN</td>\n",
       "      <td>S</td>\n",
       "    </tr>\n",
       "    <tr>\n",
       "      <th>889</th>\n",
       "      <td>890</td>\n",
       "      <td>1</td>\n",
       "      <td>1</td>\n",
       "      <td>Behr, Mr. Karl Howell</td>\n",
       "      <td>male</td>\n",
       "      <td>26.0</td>\n",
       "      <td>0</td>\n",
       "      <td>0</td>\n",
       "      <td>111369</td>\n",
       "      <td>30.0000</td>\n",
       "      <td>C148</td>\n",
       "      <td>C</td>\n",
       "    </tr>\n",
       "    <tr>\n",
       "      <th>890</th>\n",
       "      <td>891</td>\n",
       "      <td>0</td>\n",
       "      <td>3</td>\n",
       "      <td>Dooley, Mr. Patrick</td>\n",
       "      <td>male</td>\n",
       "      <td>32.0</td>\n",
       "      <td>0</td>\n",
       "      <td>0</td>\n",
       "      <td>370376</td>\n",
       "      <td>7.7500</td>\n",
       "      <td>NaN</td>\n",
       "      <td>Q</td>\n",
       "    </tr>\n",
       "  </tbody>\n",
       "</table>\n",
       "<p>891 rows × 12 columns</p>\n",
       "</div>"
      ],
      "text/plain": [
       "     PassengerId  Survived  Pclass  \\\n",
       "0              1         0       3   \n",
       "1              2         1       1   \n",
       "2              3         1       3   \n",
       "3              4         1       1   \n",
       "4              5         0       3   \n",
       "..           ...       ...     ...   \n",
       "886          887         0       2   \n",
       "887          888         1       1   \n",
       "888          889         0       3   \n",
       "889          890         1       1   \n",
       "890          891         0       3   \n",
       "\n",
       "                                                  Name     Sex   Age  SibSp  \\\n",
       "0                              Braund, Mr. Owen Harris    male  22.0      1   \n",
       "1    Cumings, Mrs. John Bradley (Florence Briggs Th...  female  38.0      1   \n",
       "2                               Heikkinen, Miss. Laina  female  26.0      0   \n",
       "3         Futrelle, Mrs. Jacques Heath (Lily May Peel)  female  35.0      1   \n",
       "4                             Allen, Mr. William Henry    male  35.0      0   \n",
       "..                                                 ...     ...   ...    ...   \n",
       "886                              Montvila, Rev. Juozas    male  27.0      0   \n",
       "887                       Graham, Miss. Margaret Edith  female  19.0      0   \n",
       "888           Johnston, Miss. Catherine Helen \"Carrie\"  female   NaN      1   \n",
       "889                              Behr, Mr. Karl Howell    male  26.0      0   \n",
       "890                                Dooley, Mr. Patrick    male  32.0      0   \n",
       "\n",
       "     Parch            Ticket     Fare Cabin Embarked  \n",
       "0        0         A/5 21171   7.2500   NaN        S  \n",
       "1        0          PC 17599  71.2833   C85        C  \n",
       "2        0  STON/O2. 3101282   7.9250   NaN        S  \n",
       "3        0            113803  53.1000  C123        S  \n",
       "4        0            373450   8.0500   NaN        S  \n",
       "..     ...               ...      ...   ...      ...  \n",
       "886      0            211536  13.0000   NaN        S  \n",
       "887      0            112053  30.0000   B42        S  \n",
       "888      2        W./C. 6607  23.4500   NaN        S  \n",
       "889      0            111369  30.0000  C148        C  \n",
       "890      0            370376   7.7500   NaN        Q  \n",
       "\n",
       "[891 rows x 12 columns]"
      ]
     },
     "execution_count": 3,
     "metadata": {},
     "output_type": "execute_result"
    }
   ],
   "source": [
    "#Carga desde un archivo .csv sin indice\n",
    "data= pd.read_csv('Titanic.csv') \n",
    "data"
   ]
  },
  {
   "cell_type": "code",
   "execution_count": 4,
   "metadata": {},
   "outputs": [
    {
     "data": {
      "text/html": [
       "<div>\n",
       "<style scoped>\n",
       "    .dataframe tbody tr th:only-of-type {\n",
       "        vertical-align: middle;\n",
       "    }\n",
       "\n",
       "    .dataframe tbody tr th {\n",
       "        vertical-align: top;\n",
       "    }\n",
       "\n",
       "    .dataframe thead th {\n",
       "        text-align: right;\n",
       "    }\n",
       "</style>\n",
       "<table border=\"1\" class=\"dataframe\">\n",
       "  <thead>\n",
       "    <tr style=\"text-align: right;\">\n",
       "      <th>Sex</th>\n",
       "      <th>female</th>\n",
       "      <th>male</th>\n",
       "    </tr>\n",
       "    <tr>\n",
       "      <th>Name</th>\n",
       "      <th></th>\n",
       "      <th></th>\n",
       "    </tr>\n",
       "  </thead>\n",
       "  <tbody>\n",
       "    <tr>\n",
       "      <th>Allen, Miss. Elisabeth Walton</th>\n",
       "      <td>29.0</td>\n",
       "      <td>NaN</td>\n",
       "    </tr>\n",
       "    <tr>\n",
       "      <th>Allison, Master. Hudson Trevor</th>\n",
       "      <td>NaN</td>\n",
       "      <td>0.92</td>\n",
       "    </tr>\n",
       "    <tr>\n",
       "      <th>Allison, Miss. Helen Loraine</th>\n",
       "      <td>2.0</td>\n",
       "      <td>NaN</td>\n",
       "    </tr>\n",
       "    <tr>\n",
       "      <th>Allison, Mrs. Hudson J C (Bessie Waldo Daniels)</th>\n",
       "      <td>25.0</td>\n",
       "      <td>NaN</td>\n",
       "    </tr>\n",
       "    <tr>\n",
       "      <th>Anderson, Mr. Harry</th>\n",
       "      <td>NaN</td>\n",
       "      <td>48.00</td>\n",
       "    </tr>\n",
       "    <tr>\n",
       "      <th>...</th>\n",
       "      <td>...</td>\n",
       "      <td>...</td>\n",
       "    </tr>\n",
       "    <tr>\n",
       "      <th>White, Mr. Percival Wayland</th>\n",
       "      <td>NaN</td>\n",
       "      <td>54.00</td>\n",
       "    </tr>\n",
       "    <tr>\n",
       "      <th>White, Mr. Richard Frasar</th>\n",
       "      <td>NaN</td>\n",
       "      <td>21.00</td>\n",
       "    </tr>\n",
       "    <tr>\n",
       "      <th>Wick, Miss. Mary Natalie</th>\n",
       "      <td>31.0</td>\n",
       "      <td>NaN</td>\n",
       "    </tr>\n",
       "    <tr>\n",
       "      <th>Widener, Mr. Harry Elkins</th>\n",
       "      <td>NaN</td>\n",
       "      <td>27.00</td>\n",
       "    </tr>\n",
       "    <tr>\n",
       "      <th>Young, Miss. Marie Grice</th>\n",
       "      <td>36.0</td>\n",
       "      <td>NaN</td>\n",
       "    </tr>\n",
       "  </tbody>\n",
       "</table>\n",
       "<p>183 rows × 2 columns</p>\n",
       "</div>"
      ],
      "text/plain": [
       "Sex                                              female   male\n",
       "Name                                                          \n",
       "Allen, Miss. Elisabeth Walton                      29.0    NaN\n",
       "Allison, Master. Hudson Trevor                      NaN   0.92\n",
       "Allison, Miss. Helen Loraine                        2.0    NaN\n",
       "Allison, Mrs. Hudson J C (Bessie Waldo Daniels)    25.0    NaN\n",
       "Anderson, Mr. Harry                                 NaN  48.00\n",
       "...                                                 ...    ...\n",
       "White, Mr. Percival Wayland                         NaN  54.00\n",
       "White, Mr. Richard Frasar                           NaN  21.00\n",
       "Wick, Miss. Mary Natalie                           31.0    NaN\n",
       "Widener, Mr. Harry Elkins                           NaN  27.00\n",
       "Young, Miss. Marie Grice                           36.0    NaN\n",
       "\n",
       "[183 rows x 2 columns]"
      ]
     },
     "execution_count": 4,
     "metadata": {},
     "output_type": "execute_result"
    }
   ],
   "source": [
    "#Reestructurar el Dataframe\n",
    "#el indice no debe tener entradas duplicadas\n",
    "data = data.dropna()\n",
    "Data= data.pivot(index='Name', columns='Sex',  values='Age')\n",
    "#Data=Data [['female']] #Aqui se pueden editar las columnas que se desean mostrar en values\n",
    "Data"
   ]
  },
  {
   "cell_type": "code",
   "execution_count": 5,
   "metadata": {},
   "outputs": [
    {
     "data": {
      "application/vnd.plotly.v1+json": {
       "config": {
        "linkText": "Export to plot.ly",
        "plotlyServerURL": "https://plot.ly",
        "showLink": true
       },
       "data": [
        {
         "line": {
          "color": "rgba(255, 153, 51, 1.0)",
          "dash": "solid",
          "shape": "linear",
          "width": 1.3
         },
         "mode": "lines",
         "name": "female",
         "text": "",
         "type": "scatter",
         "x": [
          "Allen, Miss. Elisabeth Walton",
          "Allison, Master. Hudson Trevor",
          "Allison, Miss. Helen Loraine",
          "Allison, Mrs. Hudson J C (Bessie Waldo Daniels)",
          "Anderson, Mr. Harry",
          "Andrews, Miss. Kornelia Theodosia",
          "Andrews, Mr. Thomas Jr",
          "Appleton, Mrs. Edward Dale (Charlotte Lamson)",
          "Astor, Mrs. John Jacob (Madeleine Talmadge Force)",
          "Aubart, Mme. Leontine Pauline",
          "Ball, Mrs. (Ada E Hall)",
          "Barkworth, Mr. Algernon Henry Wilson",
          "Baxter, Mr. Quigg Edmond",
          "Baxter, Mrs. James (Helene DeLaudeniere Chaput)",
          "Bazzani, Miss. Albina",
          "Becker, Master. Richard F",
          "Becker, Miss. Marion Louise",
          "Beckwith, Mr. Richard Leonard",
          "Beckwith, Mrs. Richard Leonard (Sallie Monypeny)",
          "Beesley, Mr. Lawrence",
          "Behr, Mr. Karl Howell",
          "Bishop, Mr. Dickinson H",
          "Bishop, Mrs. Dickinson H (Helen Walton)",
          "Bissette, Miss. Amelia",
          "Bjornstrom-Steffansson, Mr. Mauritz Hakan",
          "Blackwell, Mr. Stephen Weart",
          "Blank, Mr. Henry",
          "Bonnell, Miss. Elizabeth",
          "Bowerman, Miss. Elsie Edith",
          "Brown, Miss. Amelia \"Mildred\"",
          "Brown, Mrs. James Joseph (Margaret Tobin)",
          "Burns, Miss. Elizabeth Margaret",
          "Butt, Major. Archibald Willingham",
          "Calderhead, Mr. Edward Pennington",
          "Cardeza, Mr. Thomas Drake Martinez",
          "Carlsson, Mr. Frans Olof",
          "Carter, Master. William Thornton II",
          "Carter, Miss. Lucile Polk",
          "Carter, Mr. William Ernest",
          "Carter, Mrs. William Ernest (Lucile Polk)",
          "Cavendish, Mr. Tyrell William",
          "Chaffee, Mr. Herbert Fuller",
          "Chambers, Mr. Norman Campbell",
          "Chambers, Mrs. Norman Campbell (Bertha Griggs)",
          "Cherry, Miss. Gladys",
          "Colley, Mr. Edward Pomeroy",
          "Compton, Miss. Sara Rebecca",
          "Crosby, Capt. Edward Gifford",
          "Crosby, Miss. Harriet R",
          "Cumings, Mrs. John Bradley (Florence Briggs Thayer)",
          "Daly, Mr. Peter Denis ",
          "Davidson, Mr. Thornton",
          "Dick, Mr. Albert Adrian",
          "Dick, Mrs. Albert Adrian (Vera Gillespie)",
          "Dodge, Master. Washington",
          "Douglas, Mr. Walter Donald",
          "Duff Gordon, Lady. (Lucille Christiana Sutherland) (\"Mrs Morgan\")",
          "Duff Gordon, Sir. Cosmo Edmund (\"Mr Morgan\")",
          "Endres, Miss. Caroline Louise",
          "Eustis, Miss. Elizabeth Mussey",
          "Flynn, Mr. John Irwin (\"Irving\")",
          "Foreman, Mr. Benjamin Laventall",
          "Fortune, Miss. Alice Elizabeth",
          "Fortune, Miss. Mabel Helen",
          "Fortune, Mr. Charles Alexander",
          "Fortune, Mr. Mark",
          "Francatelli, Miss. Laura Mabel",
          "Frolicher, Miss. Hedwig Margaritha",
          "Frolicher-Stehli, Mr. Maxmillian",
          "Futrelle, Mr. Jacques Heath",
          "Futrelle, Mrs. Jacques Heath (Lily May Peel)",
          "Gee, Mr. Arthur H",
          "Giglio, Mr. Victor",
          "Goldenberg, Mr. Samuel L",
          "Goldschmidt, Mr. George B",
          "Graham, Miss. Margaret Edith",
          "Graham, Mr. George Edward",
          "Graham, Mrs. William Thompson (Edith Junkins)",
          "Greenfield, Mr. William Bertram",
          "Guggenheim, Mr. Benjamin",
          "Harder, Mr. George Achilles",
          "Harper, Mr. Henry Sleeper",
          "Harper, Mrs. Henry Sleeper (Myna Haxtun)",
          "Harris, Mr. Henry Birkhardt",
          "Harris, Mrs. Henry Birkhardt (Irene Wallach)",
          "Harrison, Mr. William",
          "Hassab, Mr. Hammad",
          "Hays, Miss. Margaret Bechstein",
          "Hays, Mrs. Charles Melville (Clara Jennings Gregg)",
          "Hippach, Miss. Jean Gertrude",
          "Hippach, Mrs. Louis Albert (Ida Sophia Fischer)",
          "Hogeboom, Mrs. John C (Anna Andrews)",
          "Hoyt, Mr. Frederick Maxfield",
          "Hoyt, Mrs. Frederick Maxfield (Jane Anne Forby)",
          "Humblen, Mr. Adolf Mathias Nicolai Olsen",
          "Isham, Miss. Ann Elizabeth",
          "Jerwan, Mrs. Amin S (Marie Marthe Thuillard)",
          "Kent, Mr. Edward Austin",
          "Kimball, Mr. Edwin Nelson Jr",
          "Leader, Dr. Alice (Farnham)",
          "Lemore, Mrs. (Amelia Milley)",
          "Lesurer, Mr. Gustave J",
          "Levy, Mr. Rene Jacques",
          "Lines, Miss. Mary Conover",
          "Long, Mr. Milton Clyde",
          "Longley, Miss. Gretchen Fiske",
          "Lurette, Miss. Elise",
          "Mack, Mrs. (Mary)",
          "Madill, Miss. Georgette Alexandra",
          "Maioni, Miss. Roberta",
          "Marvin, Mr. Daniel Warner",
          "Mayne, Mlle. Berthe Antonine (\"Mrs de Villiers\")",
          "McCarthy, Mr. Timothy J",
          "McGough, Mr. James Robert",
          "Millet, Mr. Francis Davis",
          "Minahan, Dr. William Edward",
          "Minahan, Miss. Daisy E",
          "Moen, Mr. Sigurd Hansen",
          "Molson, Mr. Harry Markland",
          "Moor, Master. Meier",
          "Moor, Mrs. (Beila)",
          "Natsch, Mr. Charles H",
          "Navratil, Master. Edmond Roger",
          "Navratil, Master. Michel M",
          "Navratil, Mr. Michel (\"Louis M Hoffman\")",
          "Newell, Miss. Madeleine",
          "Newell, Miss. Marjorie",
          "Newell, Mr. Arthur Webster",
          "Newsom, Miss. Helen Monypeny",
          "Nye, Mrs. (Elizabeth Ramell)",
          "Ostby, Mr. Engelhart Cornelius",
          "Partner, Mr. Austen",
          "Pears, Mr. Thomas Clinton",
          "Pears, Mrs. Thomas (Edith Wearne)",
          "Penasco y Castellana, Mr. Victor de Satode",
          "Penasco y Castellana, Mrs. Victor de Satode (Maria Josefa Perez de Soto y Vallejo)",
          "Perreault, Miss. Anne",
          "Peuchen, Major. Arthur Godfrey",
          "Pickard, Mr. Berk (Berk Trembisky)",
          "Porter, Mr. Walter Chamberlain",
          "Potter, Mrs. Thomas Jr (Lily Alexenia Wilson)",
          "Robert, Mrs. Edward Scott (Elisabeth Walton McMillan)",
          "Roebling, Mr. Washington Augustus II",
          "Ross, Mr. John Hugo",
          "Rothes, the Countess. of (Lucy Noel Martha Dyer-Edwards)",
          "Ryerson, Miss. Emily Borie",
          "Ryerson, Miss. Susan Parker \"Suzette\"",
          "Sagesser, Mlle. Emma",
          "Sandstrom, Miss. Marguerite Rut",
          "Sandstrom, Mrs. Hjalmar (Agnes Charlotta Bengtsson)",
          "Shutes, Miss. Elizabeth W",
          "Silverthorne, Mr. Spencer Victor",
          "Silvey, Mr. William Baird",
          "Silvey, Mrs. William Baird (Alice Munger)",
          "Simonius-Blumer, Col. Oberst Alfons",
          "Sloper, Mr. William Thompson",
          "Smith, Mr. James Clinch",
          "Soholt, Mr. Peter Andreas Lauritz Andersen",
          "Spedden, Mrs. Frederic Oakley (Margaretta Corning Stone)",
          "Stahelin-Maeglin, Dr. Max",
          "Stead, Mr. William Thomas",
          "Stephenson, Mrs. Walter Bertram (Martha Eustis)",
          "Strom, Miss. Telma Matilda",
          "Strom, Mrs. Wilhelm (Elna Matilda Persson)",
          "Sutton, Mr. Frederick",
          "Swift, Mrs. Frederick Joel (Margaret Welles Barron)",
          "Taussig, Miss. Ruth",
          "Taussig, Mr. Emil",
          "Taussig, Mrs. Emil (Tillie Mandelbaum)",
          "Taylor, Mr. Elmer Zebley",
          "Thayer, Mr. John Borland",
          "Thayer, Mr. John Borland Jr",
          "Thayer, Mrs. John Borland (Marian Longstreth Morris)",
          "Troutt, Miss. Edwina Celia \"Winnie\"",
          "Van der hoef, Mr. Wyckoff",
          "Walker, Mr. William Anderson",
          "Warren, Mrs. Frank Manley (Anna Sophia Atkinson)",
          "Webber, Miss. Susan",
          "White, Mr. Percival Wayland",
          "White, Mr. Richard Frasar",
          "Wick, Miss. Mary Natalie",
          "Widener, Mr. Harry Elkins",
          "Young, Miss. Marie Grice"
         ],
         "y": [
          29,
          "",
          2,
          25,
          "",
          63,
          "",
          53,
          18,
          24,
          36,
          "",
          "",
          50,
          32,
          "",
          4,
          "",
          47,
          "",
          "",
          "",
          19,
          35,
          "",
          "",
          "",
          58,
          22,
          24,
          44,
          41,
          "",
          "",
          "",
          "",
          "",
          14,
          "",
          36,
          "",
          "",
          "",
          33,
          30,
          "",
          39,
          "",
          36,
          38,
          "",
          "",
          "",
          17,
          "",
          "",
          48,
          "",
          38,
          54,
          "",
          "",
          24,
          23,
          "",
          "",
          30,
          22,
          "",
          "",
          35,
          "",
          "",
          "",
          "",
          19,
          "",
          58,
          "",
          "",
          "",
          "",
          49,
          "",
          35,
          "",
          "",
          24,
          52,
          16,
          44,
          51,
          "",
          35,
          "",
          50,
          23,
          "",
          "",
          49,
          34,
          "",
          "",
          16,
          "",
          21,
          58,
          57,
          15,
          16,
          "",
          24,
          "",
          "",
          "",
          "",
          33,
          "",
          "",
          "",
          27,
          "",
          "",
          "",
          "",
          31,
          23,
          "",
          19,
          29,
          "",
          "",
          "",
          22,
          "",
          17,
          30,
          "",
          "",
          "",
          56,
          43,
          "",
          "",
          33,
          18,
          21,
          24,
          4,
          24,
          40,
          "",
          "",
          39,
          "",
          "",
          "",
          "",
          40,
          "",
          "",
          52,
          2,
          29,
          "",
          48,
          18,
          "",
          39,
          "",
          "",
          "",
          39,
          27,
          "",
          "",
          60,
          32.5,
          "",
          "",
          31,
          "",
          36
         ]
        },
        {
         "line": {
          "color": "rgba(55, 128, 191, 1.0)",
          "dash": "solid",
          "shape": "linear",
          "width": 1.3
         },
         "mode": "lines",
         "name": "male",
         "text": "",
         "type": "scatter",
         "x": [
          "Allen, Miss. Elisabeth Walton",
          "Allison, Master. Hudson Trevor",
          "Allison, Miss. Helen Loraine",
          "Allison, Mrs. Hudson J C (Bessie Waldo Daniels)",
          "Anderson, Mr. Harry",
          "Andrews, Miss. Kornelia Theodosia",
          "Andrews, Mr. Thomas Jr",
          "Appleton, Mrs. Edward Dale (Charlotte Lamson)",
          "Astor, Mrs. John Jacob (Madeleine Talmadge Force)",
          "Aubart, Mme. Leontine Pauline",
          "Ball, Mrs. (Ada E Hall)",
          "Barkworth, Mr. Algernon Henry Wilson",
          "Baxter, Mr. Quigg Edmond",
          "Baxter, Mrs. James (Helene DeLaudeniere Chaput)",
          "Bazzani, Miss. Albina",
          "Becker, Master. Richard F",
          "Becker, Miss. Marion Louise",
          "Beckwith, Mr. Richard Leonard",
          "Beckwith, Mrs. Richard Leonard (Sallie Monypeny)",
          "Beesley, Mr. Lawrence",
          "Behr, Mr. Karl Howell",
          "Bishop, Mr. Dickinson H",
          "Bishop, Mrs. Dickinson H (Helen Walton)",
          "Bissette, Miss. Amelia",
          "Bjornstrom-Steffansson, Mr. Mauritz Hakan",
          "Blackwell, Mr. Stephen Weart",
          "Blank, Mr. Henry",
          "Bonnell, Miss. Elizabeth",
          "Bowerman, Miss. Elsie Edith",
          "Brown, Miss. Amelia \"Mildred\"",
          "Brown, Mrs. James Joseph (Margaret Tobin)",
          "Burns, Miss. Elizabeth Margaret",
          "Butt, Major. Archibald Willingham",
          "Calderhead, Mr. Edward Pennington",
          "Cardeza, Mr. Thomas Drake Martinez",
          "Carlsson, Mr. Frans Olof",
          "Carter, Master. William Thornton II",
          "Carter, Miss. Lucile Polk",
          "Carter, Mr. William Ernest",
          "Carter, Mrs. William Ernest (Lucile Polk)",
          "Cavendish, Mr. Tyrell William",
          "Chaffee, Mr. Herbert Fuller",
          "Chambers, Mr. Norman Campbell",
          "Chambers, Mrs. Norman Campbell (Bertha Griggs)",
          "Cherry, Miss. Gladys",
          "Colley, Mr. Edward Pomeroy",
          "Compton, Miss. Sara Rebecca",
          "Crosby, Capt. Edward Gifford",
          "Crosby, Miss. Harriet R",
          "Cumings, Mrs. John Bradley (Florence Briggs Thayer)",
          "Daly, Mr. Peter Denis ",
          "Davidson, Mr. Thornton",
          "Dick, Mr. Albert Adrian",
          "Dick, Mrs. Albert Adrian (Vera Gillespie)",
          "Dodge, Master. Washington",
          "Douglas, Mr. Walter Donald",
          "Duff Gordon, Lady. (Lucille Christiana Sutherland) (\"Mrs Morgan\")",
          "Duff Gordon, Sir. Cosmo Edmund (\"Mr Morgan\")",
          "Endres, Miss. Caroline Louise",
          "Eustis, Miss. Elizabeth Mussey",
          "Flynn, Mr. John Irwin (\"Irving\")",
          "Foreman, Mr. Benjamin Laventall",
          "Fortune, Miss. Alice Elizabeth",
          "Fortune, Miss. Mabel Helen",
          "Fortune, Mr. Charles Alexander",
          "Fortune, Mr. Mark",
          "Francatelli, Miss. Laura Mabel",
          "Frolicher, Miss. Hedwig Margaritha",
          "Frolicher-Stehli, Mr. Maxmillian",
          "Futrelle, Mr. Jacques Heath",
          "Futrelle, Mrs. Jacques Heath (Lily May Peel)",
          "Gee, Mr. Arthur H",
          "Giglio, Mr. Victor",
          "Goldenberg, Mr. Samuel L",
          "Goldschmidt, Mr. George B",
          "Graham, Miss. Margaret Edith",
          "Graham, Mr. George Edward",
          "Graham, Mrs. William Thompson (Edith Junkins)",
          "Greenfield, Mr. William Bertram",
          "Guggenheim, Mr. Benjamin",
          "Harder, Mr. George Achilles",
          "Harper, Mr. Henry Sleeper",
          "Harper, Mrs. Henry Sleeper (Myna Haxtun)",
          "Harris, Mr. Henry Birkhardt",
          "Harris, Mrs. Henry Birkhardt (Irene Wallach)",
          "Harrison, Mr. William",
          "Hassab, Mr. Hammad",
          "Hays, Miss. Margaret Bechstein",
          "Hays, Mrs. Charles Melville (Clara Jennings Gregg)",
          "Hippach, Miss. Jean Gertrude",
          "Hippach, Mrs. Louis Albert (Ida Sophia Fischer)",
          "Hogeboom, Mrs. John C (Anna Andrews)",
          "Hoyt, Mr. Frederick Maxfield",
          "Hoyt, Mrs. Frederick Maxfield (Jane Anne Forby)",
          "Humblen, Mr. Adolf Mathias Nicolai Olsen",
          "Isham, Miss. Ann Elizabeth",
          "Jerwan, Mrs. Amin S (Marie Marthe Thuillard)",
          "Kent, Mr. Edward Austin",
          "Kimball, Mr. Edwin Nelson Jr",
          "Leader, Dr. Alice (Farnham)",
          "Lemore, Mrs. (Amelia Milley)",
          "Lesurer, Mr. Gustave J",
          "Levy, Mr. Rene Jacques",
          "Lines, Miss. Mary Conover",
          "Long, Mr. Milton Clyde",
          "Longley, Miss. Gretchen Fiske",
          "Lurette, Miss. Elise",
          "Mack, Mrs. (Mary)",
          "Madill, Miss. Georgette Alexandra",
          "Maioni, Miss. Roberta",
          "Marvin, Mr. Daniel Warner",
          "Mayne, Mlle. Berthe Antonine (\"Mrs de Villiers\")",
          "McCarthy, Mr. Timothy J",
          "McGough, Mr. James Robert",
          "Millet, Mr. Francis Davis",
          "Minahan, Dr. William Edward",
          "Minahan, Miss. Daisy E",
          "Moen, Mr. Sigurd Hansen",
          "Molson, Mr. Harry Markland",
          "Moor, Master. Meier",
          "Moor, Mrs. (Beila)",
          "Natsch, Mr. Charles H",
          "Navratil, Master. Edmond Roger",
          "Navratil, Master. Michel M",
          "Navratil, Mr. Michel (\"Louis M Hoffman\")",
          "Newell, Miss. Madeleine",
          "Newell, Miss. Marjorie",
          "Newell, Mr. Arthur Webster",
          "Newsom, Miss. Helen Monypeny",
          "Nye, Mrs. (Elizabeth Ramell)",
          "Ostby, Mr. Engelhart Cornelius",
          "Partner, Mr. Austen",
          "Pears, Mr. Thomas Clinton",
          "Pears, Mrs. Thomas (Edith Wearne)",
          "Penasco y Castellana, Mr. Victor de Satode",
          "Penasco y Castellana, Mrs. Victor de Satode (Maria Josefa Perez de Soto y Vallejo)",
          "Perreault, Miss. Anne",
          "Peuchen, Major. Arthur Godfrey",
          "Pickard, Mr. Berk (Berk Trembisky)",
          "Porter, Mr. Walter Chamberlain",
          "Potter, Mrs. Thomas Jr (Lily Alexenia Wilson)",
          "Robert, Mrs. Edward Scott (Elisabeth Walton McMillan)",
          "Roebling, Mr. Washington Augustus II",
          "Ross, Mr. John Hugo",
          "Rothes, the Countess. of (Lucy Noel Martha Dyer-Edwards)",
          "Ryerson, Miss. Emily Borie",
          "Ryerson, Miss. Susan Parker \"Suzette\"",
          "Sagesser, Mlle. Emma",
          "Sandstrom, Miss. Marguerite Rut",
          "Sandstrom, Mrs. Hjalmar (Agnes Charlotta Bengtsson)",
          "Shutes, Miss. Elizabeth W",
          "Silverthorne, Mr. Spencer Victor",
          "Silvey, Mr. William Baird",
          "Silvey, Mrs. William Baird (Alice Munger)",
          "Simonius-Blumer, Col. Oberst Alfons",
          "Sloper, Mr. William Thompson",
          "Smith, Mr. James Clinch",
          "Soholt, Mr. Peter Andreas Lauritz Andersen",
          "Spedden, Mrs. Frederic Oakley (Margaretta Corning Stone)",
          "Stahelin-Maeglin, Dr. Max",
          "Stead, Mr. William Thomas",
          "Stephenson, Mrs. Walter Bertram (Martha Eustis)",
          "Strom, Miss. Telma Matilda",
          "Strom, Mrs. Wilhelm (Elna Matilda Persson)",
          "Sutton, Mr. Frederick",
          "Swift, Mrs. Frederick Joel (Margaret Welles Barron)",
          "Taussig, Miss. Ruth",
          "Taussig, Mr. Emil",
          "Taussig, Mrs. Emil (Tillie Mandelbaum)",
          "Taylor, Mr. Elmer Zebley",
          "Thayer, Mr. John Borland",
          "Thayer, Mr. John Borland Jr",
          "Thayer, Mrs. John Borland (Marian Longstreth Morris)",
          "Troutt, Miss. Edwina Celia \"Winnie\"",
          "Van der hoef, Mr. Wyckoff",
          "Walker, Mr. William Anderson",
          "Warren, Mrs. Frank Manley (Anna Sophia Atkinson)",
          "Webber, Miss. Susan",
          "White, Mr. Percival Wayland",
          "White, Mr. Richard Frasar",
          "Wick, Miss. Mary Natalie",
          "Widener, Mr. Harry Elkins",
          "Young, Miss. Marie Grice"
         ],
         "y": [
          "",
          0.92,
          "",
          "",
          48,
          "",
          39,
          "",
          "",
          "",
          "",
          80,
          24,
          "",
          "",
          1,
          "",
          37,
          "",
          34,
          26,
          25,
          "",
          "",
          28,
          45,
          40,
          "",
          "",
          "",
          "",
          "",
          45,
          42,
          36,
          33,
          11,
          "",
          36,
          "",
          36,
          46,
          27,
          "",
          "",
          47,
          "",
          70,
          "",
          "",
          51,
          31,
          31,
          "",
          4,
          50,
          "",
          49,
          "",
          "",
          36,
          30,
          "",
          "",
          19,
          64,
          "",
          "",
          60,
          37,
          "",
          47,
          24,
          49,
          71,
          "",
          38,
          "",
          23,
          46,
          25,
          48,
          "",
          45,
          "",
          40,
          27,
          "",
          "",
          "",
          "",
          "",
          38,
          "",
          42,
          "",
          "",
          58,
          42,
          "",
          "",
          35,
          36,
          "",
          29,
          "",
          "",
          "",
          "",
          "",
          19,
          "",
          54,
          36,
          65,
          44,
          "",
          25,
          55,
          6,
          "",
          37,
          2,
          3,
          36.5,
          "",
          "",
          58,
          "",
          "",
          65,
          45.5,
          29,
          "",
          18,
          "",
          "",
          52,
          32,
          47,
          "",
          "",
          31,
          36,
          "",
          "",
          "",
          "",
          "",
          "",
          "",
          35,
          50,
          "",
          56,
          28,
          56,
          19,
          "",
          32,
          62,
          "",
          "",
          "",
          61,
          "",
          "",
          52,
          "",
          48,
          49,
          17,
          "",
          "",
          61,
          47,
          "",
          "",
          54,
          21,
          "",
          27,
          ""
         ]
        }
       ],
       "layout": {
        "legend": {
         "bgcolor": "#FFFFFF",
         "font": {
          "color": "#4D5663"
         }
        },
        "paper_bgcolor": "#FFFFFF",
        "plot_bgcolor": "#FFFFFF",
        "template": {
         "data": {
          "bar": [
           {
            "error_x": {
             "color": "#2a3f5f"
            },
            "error_y": {
             "color": "#2a3f5f"
            },
            "marker": {
             "line": {
              "color": "#E5ECF6",
              "width": 0.5
             },
             "pattern": {
              "fillmode": "overlay",
              "size": 10,
              "solidity": 0.2
             }
            },
            "type": "bar"
           }
          ],
          "barpolar": [
           {
            "marker": {
             "line": {
              "color": "#E5ECF6",
              "width": 0.5
             },
             "pattern": {
              "fillmode": "overlay",
              "size": 10,
              "solidity": 0.2
             }
            },
            "type": "barpolar"
           }
          ],
          "carpet": [
           {
            "aaxis": {
             "endlinecolor": "#2a3f5f",
             "gridcolor": "white",
             "linecolor": "white",
             "minorgridcolor": "white",
             "startlinecolor": "#2a3f5f"
            },
            "baxis": {
             "endlinecolor": "#2a3f5f",
             "gridcolor": "white",
             "linecolor": "white",
             "minorgridcolor": "white",
             "startlinecolor": "#2a3f5f"
            },
            "type": "carpet"
           }
          ],
          "choropleth": [
           {
            "colorbar": {
             "outlinewidth": 0,
             "ticks": ""
            },
            "type": "choropleth"
           }
          ],
          "contour": [
           {
            "colorbar": {
             "outlinewidth": 0,
             "ticks": ""
            },
            "colorscale": [
             [
              0,
              "#0d0887"
             ],
             [
              0.1111111111111111,
              "#46039f"
             ],
             [
              0.2222222222222222,
              "#7201a8"
             ],
             [
              0.3333333333333333,
              "#9c179e"
             ],
             [
              0.4444444444444444,
              "#bd3786"
             ],
             [
              0.5555555555555556,
              "#d8576b"
             ],
             [
              0.6666666666666666,
              "#ed7953"
             ],
             [
              0.7777777777777778,
              "#fb9f3a"
             ],
             [
              0.8888888888888888,
              "#fdca26"
             ],
             [
              1,
              "#f0f921"
             ]
            ],
            "type": "contour"
           }
          ],
          "contourcarpet": [
           {
            "colorbar": {
             "outlinewidth": 0,
             "ticks": ""
            },
            "type": "contourcarpet"
           }
          ],
          "heatmap": [
           {
            "colorbar": {
             "outlinewidth": 0,
             "ticks": ""
            },
            "colorscale": [
             [
              0,
              "#0d0887"
             ],
             [
              0.1111111111111111,
              "#46039f"
             ],
             [
              0.2222222222222222,
              "#7201a8"
             ],
             [
              0.3333333333333333,
              "#9c179e"
             ],
             [
              0.4444444444444444,
              "#bd3786"
             ],
             [
              0.5555555555555556,
              "#d8576b"
             ],
             [
              0.6666666666666666,
              "#ed7953"
             ],
             [
              0.7777777777777778,
              "#fb9f3a"
             ],
             [
              0.8888888888888888,
              "#fdca26"
             ],
             [
              1,
              "#f0f921"
             ]
            ],
            "type": "heatmap"
           }
          ],
          "heatmapgl": [
           {
            "colorbar": {
             "outlinewidth": 0,
             "ticks": ""
            },
            "colorscale": [
             [
              0,
              "#0d0887"
             ],
             [
              0.1111111111111111,
              "#46039f"
             ],
             [
              0.2222222222222222,
              "#7201a8"
             ],
             [
              0.3333333333333333,
              "#9c179e"
             ],
             [
              0.4444444444444444,
              "#bd3786"
             ],
             [
              0.5555555555555556,
              "#d8576b"
             ],
             [
              0.6666666666666666,
              "#ed7953"
             ],
             [
              0.7777777777777778,
              "#fb9f3a"
             ],
             [
              0.8888888888888888,
              "#fdca26"
             ],
             [
              1,
              "#f0f921"
             ]
            ],
            "type": "heatmapgl"
           }
          ],
          "histogram": [
           {
            "marker": {
             "pattern": {
              "fillmode": "overlay",
              "size": 10,
              "solidity": 0.2
             }
            },
            "type": "histogram"
           }
          ],
          "histogram2d": [
           {
            "colorbar": {
             "outlinewidth": 0,
             "ticks": ""
            },
            "colorscale": [
             [
              0,
              "#0d0887"
             ],
             [
              0.1111111111111111,
              "#46039f"
             ],
             [
              0.2222222222222222,
              "#7201a8"
             ],
             [
              0.3333333333333333,
              "#9c179e"
             ],
             [
              0.4444444444444444,
              "#bd3786"
             ],
             [
              0.5555555555555556,
              "#d8576b"
             ],
             [
              0.6666666666666666,
              "#ed7953"
             ],
             [
              0.7777777777777778,
              "#fb9f3a"
             ],
             [
              0.8888888888888888,
              "#fdca26"
             ],
             [
              1,
              "#f0f921"
             ]
            ],
            "type": "histogram2d"
           }
          ],
          "histogram2dcontour": [
           {
            "colorbar": {
             "outlinewidth": 0,
             "ticks": ""
            },
            "colorscale": [
             [
              0,
              "#0d0887"
             ],
             [
              0.1111111111111111,
              "#46039f"
             ],
             [
              0.2222222222222222,
              "#7201a8"
             ],
             [
              0.3333333333333333,
              "#9c179e"
             ],
             [
              0.4444444444444444,
              "#bd3786"
             ],
             [
              0.5555555555555556,
              "#d8576b"
             ],
             [
              0.6666666666666666,
              "#ed7953"
             ],
             [
              0.7777777777777778,
              "#fb9f3a"
             ],
             [
              0.8888888888888888,
              "#fdca26"
             ],
             [
              1,
              "#f0f921"
             ]
            ],
            "type": "histogram2dcontour"
           }
          ],
          "mesh3d": [
           {
            "colorbar": {
             "outlinewidth": 0,
             "ticks": ""
            },
            "type": "mesh3d"
           }
          ],
          "parcoords": [
           {
            "line": {
             "colorbar": {
              "outlinewidth": 0,
              "ticks": ""
             }
            },
            "type": "parcoords"
           }
          ],
          "pie": [
           {
            "automargin": true,
            "type": "pie"
           }
          ],
          "scatter": [
           {
            "fillpattern": {
             "fillmode": "overlay",
             "size": 10,
             "solidity": 0.2
            },
            "type": "scatter"
           }
          ],
          "scatter3d": [
           {
            "line": {
             "colorbar": {
              "outlinewidth": 0,
              "ticks": ""
             }
            },
            "marker": {
             "colorbar": {
              "outlinewidth": 0,
              "ticks": ""
             }
            },
            "type": "scatter3d"
           }
          ],
          "scattercarpet": [
           {
            "marker": {
             "colorbar": {
              "outlinewidth": 0,
              "ticks": ""
             }
            },
            "type": "scattercarpet"
           }
          ],
          "scattergeo": [
           {
            "marker": {
             "colorbar": {
              "outlinewidth": 0,
              "ticks": ""
             }
            },
            "type": "scattergeo"
           }
          ],
          "scattergl": [
           {
            "marker": {
             "colorbar": {
              "outlinewidth": 0,
              "ticks": ""
             }
            },
            "type": "scattergl"
           }
          ],
          "scattermapbox": [
           {
            "marker": {
             "colorbar": {
              "outlinewidth": 0,
              "ticks": ""
             }
            },
            "type": "scattermapbox"
           }
          ],
          "scatterpolar": [
           {
            "marker": {
             "colorbar": {
              "outlinewidth": 0,
              "ticks": ""
             }
            },
            "type": "scatterpolar"
           }
          ],
          "scatterpolargl": [
           {
            "marker": {
             "colorbar": {
              "outlinewidth": 0,
              "ticks": ""
             }
            },
            "type": "scatterpolargl"
           }
          ],
          "scatterternary": [
           {
            "marker": {
             "colorbar": {
              "outlinewidth": 0,
              "ticks": ""
             }
            },
            "type": "scatterternary"
           }
          ],
          "surface": [
           {
            "colorbar": {
             "outlinewidth": 0,
             "ticks": ""
            },
            "colorscale": [
             [
              0,
              "#0d0887"
             ],
             [
              0.1111111111111111,
              "#46039f"
             ],
             [
              0.2222222222222222,
              "#7201a8"
             ],
             [
              0.3333333333333333,
              "#9c179e"
             ],
             [
              0.4444444444444444,
              "#bd3786"
             ],
             [
              0.5555555555555556,
              "#d8576b"
             ],
             [
              0.6666666666666666,
              "#ed7953"
             ],
             [
              0.7777777777777778,
              "#fb9f3a"
             ],
             [
              0.8888888888888888,
              "#fdca26"
             ],
             [
              1,
              "#f0f921"
             ]
            ],
            "type": "surface"
           }
          ],
          "table": [
           {
            "cells": {
             "fill": {
              "color": "#EBF0F8"
             },
             "line": {
              "color": "white"
             }
            },
            "header": {
             "fill": {
              "color": "#C8D4E3"
             },
             "line": {
              "color": "white"
             }
            },
            "type": "table"
           }
          ]
         },
         "layout": {
          "annotationdefaults": {
           "arrowcolor": "#2a3f5f",
           "arrowhead": 0,
           "arrowwidth": 1
          },
          "autotypenumbers": "strict",
          "coloraxis": {
           "colorbar": {
            "outlinewidth": 0,
            "ticks": ""
           }
          },
          "colorscale": {
           "diverging": [
            [
             0,
             "#8e0152"
            ],
            [
             0.1,
             "#c51b7d"
            ],
            [
             0.2,
             "#de77ae"
            ],
            [
             0.3,
             "#f1b6da"
            ],
            [
             0.4,
             "#fde0ef"
            ],
            [
             0.5,
             "#f7f7f7"
            ],
            [
             0.6,
             "#e6f5d0"
            ],
            [
             0.7,
             "#b8e186"
            ],
            [
             0.8,
             "#7fbc41"
            ],
            [
             0.9,
             "#4d9221"
            ],
            [
             1,
             "#276419"
            ]
           ],
           "sequential": [
            [
             0,
             "#0d0887"
            ],
            [
             0.1111111111111111,
             "#46039f"
            ],
            [
             0.2222222222222222,
             "#7201a8"
            ],
            [
             0.3333333333333333,
             "#9c179e"
            ],
            [
             0.4444444444444444,
             "#bd3786"
            ],
            [
             0.5555555555555556,
             "#d8576b"
            ],
            [
             0.6666666666666666,
             "#ed7953"
            ],
            [
             0.7777777777777778,
             "#fb9f3a"
            ],
            [
             0.8888888888888888,
             "#fdca26"
            ],
            [
             1,
             "#f0f921"
            ]
           ],
           "sequentialminus": [
            [
             0,
             "#0d0887"
            ],
            [
             0.1111111111111111,
             "#46039f"
            ],
            [
             0.2222222222222222,
             "#7201a8"
            ],
            [
             0.3333333333333333,
             "#9c179e"
            ],
            [
             0.4444444444444444,
             "#bd3786"
            ],
            [
             0.5555555555555556,
             "#d8576b"
            ],
            [
             0.6666666666666666,
             "#ed7953"
            ],
            [
             0.7777777777777778,
             "#fb9f3a"
            ],
            [
             0.8888888888888888,
             "#fdca26"
            ],
            [
             1,
             "#f0f921"
            ]
           ]
          },
          "colorway": [
           "#636efa",
           "#EF553B",
           "#00cc96",
           "#ab63fa",
           "#FFA15A",
           "#19d3f3",
           "#FF6692",
           "#B6E880",
           "#FF97FF",
           "#FECB52"
          ],
          "font": {
           "color": "#2a3f5f"
          },
          "geo": {
           "bgcolor": "white",
           "lakecolor": "white",
           "landcolor": "#E5ECF6",
           "showlakes": true,
           "showland": true,
           "subunitcolor": "white"
          },
          "hoverlabel": {
           "align": "left"
          },
          "hovermode": "closest",
          "mapbox": {
           "style": "light"
          },
          "paper_bgcolor": "white",
          "plot_bgcolor": "#E5ECF6",
          "polar": {
           "angularaxis": {
            "gridcolor": "white",
            "linecolor": "white",
            "ticks": ""
           },
           "bgcolor": "#E5ECF6",
           "radialaxis": {
            "gridcolor": "white",
            "linecolor": "white",
            "ticks": ""
           }
          },
          "scene": {
           "xaxis": {
            "backgroundcolor": "#E5ECF6",
            "gridcolor": "white",
            "gridwidth": 2,
            "linecolor": "white",
            "showbackground": true,
            "ticks": "",
            "zerolinecolor": "white"
           },
           "yaxis": {
            "backgroundcolor": "#E5ECF6",
            "gridcolor": "white",
            "gridwidth": 2,
            "linecolor": "white",
            "showbackground": true,
            "ticks": "",
            "zerolinecolor": "white"
           },
           "zaxis": {
            "backgroundcolor": "#E5ECF6",
            "gridcolor": "white",
            "gridwidth": 2,
            "linecolor": "white",
            "showbackground": true,
            "ticks": "",
            "zerolinecolor": "white"
           }
          },
          "shapedefaults": {
           "line": {
            "color": "#2a3f5f"
           }
          },
          "ternary": {
           "aaxis": {
            "gridcolor": "white",
            "linecolor": "white",
            "ticks": ""
           },
           "baxis": {
            "gridcolor": "white",
            "linecolor": "white",
            "ticks": ""
           },
           "bgcolor": "#E5ECF6",
           "caxis": {
            "gridcolor": "white",
            "linecolor": "white",
            "ticks": ""
           }
          },
          "title": {
           "x": 0.05
          },
          "xaxis": {
           "automargin": true,
           "gridcolor": "white",
           "linecolor": "white",
           "ticks": "",
           "title": {
            "standoff": 15
           },
           "zerolinecolor": "white",
           "zerolinewidth": 2
          },
          "yaxis": {
           "automargin": true,
           "gridcolor": "white",
           "linecolor": "white",
           "ticks": "",
           "title": {
            "standoff": 15
           },
           "zerolinecolor": "white",
           "zerolinewidth": 2
          }
         }
        },
        "title": {
         "font": {
          "color": "#4D5663"
         },
         "text": "Edad de pasajeros del Titanic"
        },
        "xaxis": {
         "gridcolor": "#E1E5ED",
         "showgrid": true,
         "tickfont": {
          "color": "#4D5663"
         },
         "title": {
          "font": {
           "color": "#4D5663"
          },
          "text": "Nombre"
         },
         "zerolinecolor": "#E1E5ED"
        },
        "yaxis": {
         "gridcolor": "#E1E5ED",
         "showgrid": true,
         "tickfont": {
          "color": "#4D5663"
         },
         "title": {
          "font": {
           "color": "#4D5663"
          },
          "text": "Edad"
         },
         "zerolinecolor": "#E1E5ED"
        }
       }
      },
      "text/html": [
       "<div>                            <div id=\"fe5936d7-d37f-410b-827e-38c0822209af\" class=\"plotly-graph-div\" style=\"height:525px; width:100%;\"></div>            <script type=\"text/javascript\">                require([\"plotly\"], function(Plotly) {                    window.PLOTLYENV=window.PLOTLYENV || {};\n",
       "                    window.PLOTLYENV.BASE_URL='https://plot.ly';                                    if (document.getElementById(\"fe5936d7-d37f-410b-827e-38c0822209af\")) {                    Plotly.newPlot(                        \"fe5936d7-d37f-410b-827e-38c0822209af\",                        [{\"line\":{\"color\":\"rgba(255, 153, 51, 1.0)\",\"dash\":\"solid\",\"shape\":\"linear\",\"width\":1.3},\"mode\":\"lines\",\"name\":\"female\",\"text\":\"\",\"x\":[\"Allen, Miss. Elisabeth Walton\",\"Allison, Master. Hudson Trevor\",\"Allison, Miss. Helen Loraine\",\"Allison, Mrs. Hudson J C (Bessie Waldo Daniels)\",\"Anderson, Mr. Harry\",\"Andrews, Miss. Kornelia Theodosia\",\"Andrews, Mr. Thomas Jr\",\"Appleton, Mrs. Edward Dale (Charlotte Lamson)\",\"Astor, Mrs. John Jacob (Madeleine Talmadge Force)\",\"Aubart, Mme. Leontine Pauline\",\"Ball, Mrs. (Ada E Hall)\",\"Barkworth, Mr. Algernon Henry Wilson\",\"Baxter, Mr. Quigg Edmond\",\"Baxter, Mrs. James (Helene DeLaudeniere Chaput)\",\"Bazzani, Miss. Albina\",\"Becker, Master. Richard F\",\"Becker, Miss. Marion Louise\",\"Beckwith, Mr. Richard Leonard\",\"Beckwith, Mrs. Richard Leonard (Sallie Monypeny)\",\"Beesley, Mr. Lawrence\",\"Behr, Mr. Karl Howell\",\"Bishop, Mr. Dickinson H\",\"Bishop, Mrs. Dickinson H (Helen Walton)\",\"Bissette, Miss. Amelia\",\"Bjornstrom-Steffansson, Mr. Mauritz Hakan\",\"Blackwell, Mr. Stephen Weart\",\"Blank, Mr. Henry\",\"Bonnell, Miss. Elizabeth\",\"Bowerman, Miss. Elsie Edith\",\"Brown, Miss. Amelia \\\"Mildred\\\"\",\"Brown, Mrs. James Joseph (Margaret Tobin)\",\"Burns, Miss. Elizabeth Margaret\",\"Butt, Major. Archibald Willingham\",\"Calderhead, Mr. Edward Pennington\",\"Cardeza, Mr. Thomas Drake Martinez\",\"Carlsson, Mr. Frans Olof\",\"Carter, Master. William Thornton II\",\"Carter, Miss. Lucile Polk\",\"Carter, Mr. William Ernest\",\"Carter, Mrs. William Ernest (Lucile Polk)\",\"Cavendish, Mr. Tyrell William\",\"Chaffee, Mr. Herbert Fuller\",\"Chambers, Mr. Norman Campbell\",\"Chambers, Mrs. Norman Campbell (Bertha Griggs)\",\"Cherry, Miss. Gladys\",\"Colley, Mr. Edward Pomeroy\",\"Compton, Miss. Sara Rebecca\",\"Crosby, Capt. Edward Gifford\",\"Crosby, Miss. Harriet R\",\"Cumings, Mrs. John Bradley (Florence Briggs Thayer)\",\"Daly, Mr. Peter Denis \",\"Davidson, Mr. Thornton\",\"Dick, Mr. Albert Adrian\",\"Dick, Mrs. Albert Adrian (Vera Gillespie)\",\"Dodge, Master. Washington\",\"Douglas, Mr. Walter Donald\",\"Duff Gordon, Lady. (Lucille Christiana Sutherland) (\\\"Mrs Morgan\\\")\",\"Duff Gordon, Sir. Cosmo Edmund (\\\"Mr Morgan\\\")\",\"Endres, Miss. Caroline Louise\",\"Eustis, Miss. Elizabeth Mussey\",\"Flynn, Mr. John Irwin (\\\"Irving\\\")\",\"Foreman, Mr. Benjamin Laventall\",\"Fortune, Miss. Alice Elizabeth\",\"Fortune, Miss. Mabel Helen\",\"Fortune, Mr. Charles Alexander\",\"Fortune, Mr. Mark\",\"Francatelli, Miss. Laura Mabel\",\"Frolicher, Miss. Hedwig Margaritha\",\"Frolicher-Stehli, Mr. Maxmillian\",\"Futrelle, Mr. Jacques Heath\",\"Futrelle, Mrs. Jacques Heath (Lily May Peel)\",\"Gee, Mr. Arthur H\",\"Giglio, Mr. Victor\",\"Goldenberg, Mr. Samuel L\",\"Goldschmidt, Mr. George B\",\"Graham, Miss. Margaret Edith\",\"Graham, Mr. George Edward\",\"Graham, Mrs. William Thompson (Edith Junkins)\",\"Greenfield, Mr. William Bertram\",\"Guggenheim, Mr. Benjamin\",\"Harder, Mr. George Achilles\",\"Harper, Mr. Henry Sleeper\",\"Harper, Mrs. Henry Sleeper (Myna Haxtun)\",\"Harris, Mr. Henry Birkhardt\",\"Harris, Mrs. Henry Birkhardt (Irene Wallach)\",\"Harrison, Mr. William\",\"Hassab, Mr. Hammad\",\"Hays, Miss. Margaret Bechstein\",\"Hays, Mrs. Charles Melville (Clara Jennings Gregg)\",\"Hippach, Miss. Jean Gertrude\",\"Hippach, Mrs. Louis Albert (Ida Sophia Fischer)\",\"Hogeboom, Mrs. John C (Anna Andrews)\",\"Hoyt, Mr. Frederick Maxfield\",\"Hoyt, Mrs. Frederick Maxfield (Jane Anne Forby)\",\"Humblen, Mr. Adolf Mathias Nicolai Olsen\",\"Isham, Miss. Ann Elizabeth\",\"Jerwan, Mrs. Amin S (Marie Marthe Thuillard)\",\"Kent, Mr. Edward Austin\",\"Kimball, Mr. Edwin Nelson Jr\",\"Leader, Dr. Alice (Farnham)\",\"Lemore, Mrs. (Amelia Milley)\",\"Lesurer, Mr. Gustave J\",\"Levy, Mr. Rene Jacques\",\"Lines, Miss. Mary Conover\",\"Long, Mr. Milton Clyde\",\"Longley, Miss. Gretchen Fiske\",\"Lurette, Miss. Elise\",\"Mack, Mrs. (Mary)\",\"Madill, Miss. Georgette Alexandra\",\"Maioni, Miss. Roberta\",\"Marvin, Mr. Daniel Warner\",\"Mayne, Mlle. Berthe Antonine (\\\"Mrs de Villiers\\\")\",\"McCarthy, Mr. Timothy J\",\"McGough, Mr. James Robert\",\"Millet, Mr. Francis Davis\",\"Minahan, Dr. William Edward\",\"Minahan, Miss. Daisy E\",\"Moen, Mr. Sigurd Hansen\",\"Molson, Mr. Harry Markland\",\"Moor, Master. Meier\",\"Moor, Mrs. (Beila)\",\"Natsch, Mr. Charles H\",\"Navratil, Master. Edmond Roger\",\"Navratil, Master. Michel M\",\"Navratil, Mr. Michel (\\\"Louis M Hoffman\\\")\",\"Newell, Miss. Madeleine\",\"Newell, Miss. Marjorie\",\"Newell, Mr. Arthur Webster\",\"Newsom, Miss. Helen Monypeny\",\"Nye, Mrs. (Elizabeth Ramell)\",\"Ostby, Mr. Engelhart Cornelius\",\"Partner, Mr. Austen\",\"Pears, Mr. Thomas Clinton\",\"Pears, Mrs. Thomas (Edith Wearne)\",\"Penasco y Castellana, Mr. Victor de Satode\",\"Penasco y Castellana, Mrs. Victor de Satode (Maria Josefa Perez de Soto y Vallejo)\",\"Perreault, Miss. Anne\",\"Peuchen, Major. Arthur Godfrey\",\"Pickard, Mr. Berk (Berk Trembisky)\",\"Porter, Mr. Walter Chamberlain\",\"Potter, Mrs. Thomas Jr (Lily Alexenia Wilson)\",\"Robert, Mrs. Edward Scott (Elisabeth Walton McMillan)\",\"Roebling, Mr. Washington Augustus II\",\"Ross, Mr. John Hugo\",\"Rothes, the Countess. of (Lucy Noel Martha Dyer-Edwards)\",\"Ryerson, Miss. Emily Borie\",\"Ryerson, Miss. Susan Parker \\\"Suzette\\\"\",\"Sagesser, Mlle. Emma\",\"Sandstrom, Miss. Marguerite Rut\",\"Sandstrom, Mrs. Hjalmar (Agnes Charlotta Bengtsson)\",\"Shutes, Miss. Elizabeth W\",\"Silverthorne, Mr. Spencer Victor\",\"Silvey, Mr. William Baird\",\"Silvey, Mrs. William Baird (Alice Munger)\",\"Simonius-Blumer, Col. Oberst Alfons\",\"Sloper, Mr. William Thompson\",\"Smith, Mr. James Clinch\",\"Soholt, Mr. Peter Andreas Lauritz Andersen\",\"Spedden, Mrs. Frederic Oakley (Margaretta Corning Stone)\",\"Stahelin-Maeglin, Dr. Max\",\"Stead, Mr. William Thomas\",\"Stephenson, Mrs. Walter Bertram (Martha Eustis)\",\"Strom, Miss. Telma Matilda\",\"Strom, Mrs. Wilhelm (Elna Matilda Persson)\",\"Sutton, Mr. Frederick\",\"Swift, Mrs. Frederick Joel (Margaret Welles Barron)\",\"Taussig, Miss. Ruth\",\"Taussig, Mr. Emil\",\"Taussig, Mrs. Emil (Tillie Mandelbaum)\",\"Taylor, Mr. Elmer Zebley\",\"Thayer, Mr. John Borland\",\"Thayer, Mr. John Borland Jr\",\"Thayer, Mrs. John Borland (Marian Longstreth Morris)\",\"Troutt, Miss. Edwina Celia \\\"Winnie\\\"\",\"Van der hoef, Mr. Wyckoff\",\"Walker, Mr. William Anderson\",\"Warren, Mrs. Frank Manley (Anna Sophia Atkinson)\",\"Webber, Miss. Susan\",\"White, Mr. Percival Wayland\",\"White, Mr. Richard Frasar\",\"Wick, Miss. Mary Natalie\",\"Widener, Mr. Harry Elkins\",\"Young, Miss. Marie Grice\"],\"y\":[29.0,\"\",2.0,25.0,\"\",63.0,\"\",53.0,18.0,24.0,36.0,\"\",\"\",50.0,32.0,\"\",4.0,\"\",47.0,\"\",\"\",\"\",19.0,35.0,\"\",\"\",\"\",58.0,22.0,24.0,44.0,41.0,\"\",\"\",\"\",\"\",\"\",14.0,\"\",36.0,\"\",\"\",\"\",33.0,30.0,\"\",39.0,\"\",36.0,38.0,\"\",\"\",\"\",17.0,\"\",\"\",48.0,\"\",38.0,54.0,\"\",\"\",24.0,23.0,\"\",\"\",30.0,22.0,\"\",\"\",35.0,\"\",\"\",\"\",\"\",19.0,\"\",58.0,\"\",\"\",\"\",\"\",49.0,\"\",35.0,\"\",\"\",24.0,52.0,16.0,44.0,51.0,\"\",35.0,\"\",50.0,23.0,\"\",\"\",49.0,34.0,\"\",\"\",16.0,\"\",21.0,58.0,57.0,15.0,16.0,\"\",24.0,\"\",\"\",\"\",\"\",33.0,\"\",\"\",\"\",27.0,\"\",\"\",\"\",\"\",31.0,23.0,\"\",19.0,29.0,\"\",\"\",\"\",22.0,\"\",17.0,30.0,\"\",\"\",\"\",56.0,43.0,\"\",\"\",33.0,18.0,21.0,24.0,4.0,24.0,40.0,\"\",\"\",39.0,\"\",\"\",\"\",\"\",40.0,\"\",\"\",52.0,2.0,29.0,\"\",48.0,18.0,\"\",39.0,\"\",\"\",\"\",39.0,27.0,\"\",\"\",60.0,32.5,\"\",\"\",31.0,\"\",36.0],\"type\":\"scatter\"},{\"line\":{\"color\":\"rgba(55, 128, 191, 1.0)\",\"dash\":\"solid\",\"shape\":\"linear\",\"width\":1.3},\"mode\":\"lines\",\"name\":\"male\",\"text\":\"\",\"x\":[\"Allen, Miss. Elisabeth Walton\",\"Allison, Master. Hudson Trevor\",\"Allison, Miss. Helen Loraine\",\"Allison, Mrs. Hudson J C (Bessie Waldo Daniels)\",\"Anderson, Mr. Harry\",\"Andrews, Miss. Kornelia Theodosia\",\"Andrews, Mr. Thomas Jr\",\"Appleton, Mrs. Edward Dale (Charlotte Lamson)\",\"Astor, Mrs. John Jacob (Madeleine Talmadge Force)\",\"Aubart, Mme. Leontine Pauline\",\"Ball, Mrs. (Ada E Hall)\",\"Barkworth, Mr. Algernon Henry Wilson\",\"Baxter, Mr. Quigg Edmond\",\"Baxter, Mrs. James (Helene DeLaudeniere Chaput)\",\"Bazzani, Miss. Albina\",\"Becker, Master. Richard F\",\"Becker, Miss. Marion Louise\",\"Beckwith, Mr. Richard Leonard\",\"Beckwith, Mrs. Richard Leonard (Sallie Monypeny)\",\"Beesley, Mr. Lawrence\",\"Behr, Mr. Karl Howell\",\"Bishop, Mr. Dickinson H\",\"Bishop, Mrs. Dickinson H (Helen Walton)\",\"Bissette, Miss. Amelia\",\"Bjornstrom-Steffansson, Mr. Mauritz Hakan\",\"Blackwell, Mr. Stephen Weart\",\"Blank, Mr. Henry\",\"Bonnell, Miss. Elizabeth\",\"Bowerman, Miss. Elsie Edith\",\"Brown, Miss. Amelia \\\"Mildred\\\"\",\"Brown, Mrs. James Joseph (Margaret Tobin)\",\"Burns, Miss. Elizabeth Margaret\",\"Butt, Major. Archibald Willingham\",\"Calderhead, Mr. Edward Pennington\",\"Cardeza, Mr. Thomas Drake Martinez\",\"Carlsson, Mr. Frans Olof\",\"Carter, Master. William Thornton II\",\"Carter, Miss. Lucile Polk\",\"Carter, Mr. William Ernest\",\"Carter, Mrs. William Ernest (Lucile Polk)\",\"Cavendish, Mr. Tyrell William\",\"Chaffee, Mr. Herbert Fuller\",\"Chambers, Mr. Norman Campbell\",\"Chambers, Mrs. Norman Campbell (Bertha Griggs)\",\"Cherry, Miss. Gladys\",\"Colley, Mr. Edward Pomeroy\",\"Compton, Miss. Sara Rebecca\",\"Crosby, Capt. Edward Gifford\",\"Crosby, Miss. Harriet R\",\"Cumings, Mrs. John Bradley (Florence Briggs Thayer)\",\"Daly, Mr. Peter Denis \",\"Davidson, Mr. Thornton\",\"Dick, Mr. Albert Adrian\",\"Dick, Mrs. Albert Adrian (Vera Gillespie)\",\"Dodge, Master. Washington\",\"Douglas, Mr. Walter Donald\",\"Duff Gordon, Lady. (Lucille Christiana Sutherland) (\\\"Mrs Morgan\\\")\",\"Duff Gordon, Sir. Cosmo Edmund (\\\"Mr Morgan\\\")\",\"Endres, Miss. Caroline Louise\",\"Eustis, Miss. Elizabeth Mussey\",\"Flynn, Mr. John Irwin (\\\"Irving\\\")\",\"Foreman, Mr. Benjamin Laventall\",\"Fortune, Miss. Alice Elizabeth\",\"Fortune, Miss. Mabel Helen\",\"Fortune, Mr. Charles Alexander\",\"Fortune, Mr. Mark\",\"Francatelli, Miss. Laura Mabel\",\"Frolicher, Miss. Hedwig Margaritha\",\"Frolicher-Stehli, Mr. Maxmillian\",\"Futrelle, Mr. Jacques Heath\",\"Futrelle, Mrs. Jacques Heath (Lily May Peel)\",\"Gee, Mr. Arthur H\",\"Giglio, Mr. Victor\",\"Goldenberg, Mr. Samuel L\",\"Goldschmidt, Mr. George B\",\"Graham, Miss. Margaret Edith\",\"Graham, Mr. George Edward\",\"Graham, Mrs. William Thompson (Edith Junkins)\",\"Greenfield, Mr. William Bertram\",\"Guggenheim, Mr. Benjamin\",\"Harder, Mr. George Achilles\",\"Harper, Mr. Henry Sleeper\",\"Harper, Mrs. Henry Sleeper (Myna Haxtun)\",\"Harris, Mr. Henry Birkhardt\",\"Harris, Mrs. Henry Birkhardt (Irene Wallach)\",\"Harrison, Mr. William\",\"Hassab, Mr. Hammad\",\"Hays, Miss. Margaret Bechstein\",\"Hays, Mrs. Charles Melville (Clara Jennings Gregg)\",\"Hippach, Miss. Jean Gertrude\",\"Hippach, Mrs. Louis Albert (Ida Sophia Fischer)\",\"Hogeboom, Mrs. John C (Anna Andrews)\",\"Hoyt, Mr. Frederick Maxfield\",\"Hoyt, Mrs. Frederick Maxfield (Jane Anne Forby)\",\"Humblen, Mr. Adolf Mathias Nicolai Olsen\",\"Isham, Miss. Ann Elizabeth\",\"Jerwan, Mrs. Amin S (Marie Marthe Thuillard)\",\"Kent, Mr. Edward Austin\",\"Kimball, Mr. Edwin Nelson Jr\",\"Leader, Dr. Alice (Farnham)\",\"Lemore, Mrs. (Amelia Milley)\",\"Lesurer, Mr. Gustave J\",\"Levy, Mr. Rene Jacques\",\"Lines, Miss. Mary Conover\",\"Long, Mr. Milton Clyde\",\"Longley, Miss. Gretchen Fiske\",\"Lurette, Miss. Elise\",\"Mack, Mrs. (Mary)\",\"Madill, Miss. Georgette Alexandra\",\"Maioni, Miss. Roberta\",\"Marvin, Mr. Daniel Warner\",\"Mayne, Mlle. Berthe Antonine (\\\"Mrs de Villiers\\\")\",\"McCarthy, Mr. Timothy J\",\"McGough, Mr. James Robert\",\"Millet, Mr. Francis Davis\",\"Minahan, Dr. William Edward\",\"Minahan, Miss. Daisy E\",\"Moen, Mr. Sigurd Hansen\",\"Molson, Mr. Harry Markland\",\"Moor, Master. Meier\",\"Moor, Mrs. (Beila)\",\"Natsch, Mr. Charles H\",\"Navratil, Master. Edmond Roger\",\"Navratil, Master. Michel M\",\"Navratil, Mr. Michel (\\\"Louis M Hoffman\\\")\",\"Newell, Miss. Madeleine\",\"Newell, Miss. Marjorie\",\"Newell, Mr. Arthur Webster\",\"Newsom, Miss. Helen Monypeny\",\"Nye, Mrs. (Elizabeth Ramell)\",\"Ostby, Mr. Engelhart Cornelius\",\"Partner, Mr. Austen\",\"Pears, Mr. Thomas Clinton\",\"Pears, Mrs. Thomas (Edith Wearne)\",\"Penasco y Castellana, Mr. Victor de Satode\",\"Penasco y Castellana, Mrs. Victor de Satode (Maria Josefa Perez de Soto y Vallejo)\",\"Perreault, Miss. Anne\",\"Peuchen, Major. Arthur Godfrey\",\"Pickard, Mr. Berk (Berk Trembisky)\",\"Porter, Mr. Walter Chamberlain\",\"Potter, Mrs. Thomas Jr (Lily Alexenia Wilson)\",\"Robert, Mrs. Edward Scott (Elisabeth Walton McMillan)\",\"Roebling, Mr. Washington Augustus II\",\"Ross, Mr. John Hugo\",\"Rothes, the Countess. of (Lucy Noel Martha Dyer-Edwards)\",\"Ryerson, Miss. Emily Borie\",\"Ryerson, Miss. Susan Parker \\\"Suzette\\\"\",\"Sagesser, Mlle. Emma\",\"Sandstrom, Miss. Marguerite Rut\",\"Sandstrom, Mrs. Hjalmar (Agnes Charlotta Bengtsson)\",\"Shutes, Miss. Elizabeth W\",\"Silverthorne, Mr. Spencer Victor\",\"Silvey, Mr. William Baird\",\"Silvey, Mrs. William Baird (Alice Munger)\",\"Simonius-Blumer, Col. Oberst Alfons\",\"Sloper, Mr. William Thompson\",\"Smith, Mr. James Clinch\",\"Soholt, Mr. Peter Andreas Lauritz Andersen\",\"Spedden, Mrs. Frederic Oakley (Margaretta Corning Stone)\",\"Stahelin-Maeglin, Dr. Max\",\"Stead, Mr. William Thomas\",\"Stephenson, Mrs. Walter Bertram (Martha Eustis)\",\"Strom, Miss. Telma Matilda\",\"Strom, Mrs. Wilhelm (Elna Matilda Persson)\",\"Sutton, Mr. Frederick\",\"Swift, Mrs. Frederick Joel (Margaret Welles Barron)\",\"Taussig, Miss. Ruth\",\"Taussig, Mr. Emil\",\"Taussig, Mrs. Emil (Tillie Mandelbaum)\",\"Taylor, Mr. Elmer Zebley\",\"Thayer, Mr. John Borland\",\"Thayer, Mr. John Borland Jr\",\"Thayer, Mrs. John Borland (Marian Longstreth Morris)\",\"Troutt, Miss. Edwina Celia \\\"Winnie\\\"\",\"Van der hoef, Mr. Wyckoff\",\"Walker, Mr. William Anderson\",\"Warren, Mrs. Frank Manley (Anna Sophia Atkinson)\",\"Webber, Miss. Susan\",\"White, Mr. Percival Wayland\",\"White, Mr. Richard Frasar\",\"Wick, Miss. Mary Natalie\",\"Widener, Mr. Harry Elkins\",\"Young, Miss. Marie Grice\"],\"y\":[\"\",0.92,\"\",\"\",48.0,\"\",39.0,\"\",\"\",\"\",\"\",80.0,24.0,\"\",\"\",1.0,\"\",37.0,\"\",34.0,26.0,25.0,\"\",\"\",28.0,45.0,40.0,\"\",\"\",\"\",\"\",\"\",45.0,42.0,36.0,33.0,11.0,\"\",36.0,\"\",36.0,46.0,27.0,\"\",\"\",47.0,\"\",70.0,\"\",\"\",51.0,31.0,31.0,\"\",4.0,50.0,\"\",49.0,\"\",\"\",36.0,30.0,\"\",\"\",19.0,64.0,\"\",\"\",60.0,37.0,\"\",47.0,24.0,49.0,71.0,\"\",38.0,\"\",23.0,46.0,25.0,48.0,\"\",45.0,\"\",40.0,27.0,\"\",\"\",\"\",\"\",\"\",38.0,\"\",42.0,\"\",\"\",58.0,42.0,\"\",\"\",35.0,36.0,\"\",29.0,\"\",\"\",\"\",\"\",\"\",19.0,\"\",54.0,36.0,65.0,44.0,\"\",25.0,55.0,6.0,\"\",37.0,2.0,3.0,36.5,\"\",\"\",58.0,\"\",\"\",65.0,45.5,29.0,\"\",18.0,\"\",\"\",52.0,32.0,47.0,\"\",\"\",31.0,36.0,\"\",\"\",\"\",\"\",\"\",\"\",\"\",35.0,50.0,\"\",56.0,28.0,56.0,19.0,\"\",32.0,62.0,\"\",\"\",\"\",61.0,\"\",\"\",52.0,\"\",48.0,49.0,17.0,\"\",\"\",61.0,47.0,\"\",\"\",54.0,21.0,\"\",27.0,\"\"],\"type\":\"scatter\"}],                        {\"legend\":{\"bgcolor\":\"#FFFFFF\",\"font\":{\"color\":\"#4D5663\"}},\"paper_bgcolor\":\"#FFFFFF\",\"plot_bgcolor\":\"#FFFFFF\",\"template\":{\"data\":{\"barpolar\":[{\"marker\":{\"line\":{\"color\":\"#E5ECF6\",\"width\":0.5},\"pattern\":{\"fillmode\":\"overlay\",\"size\":10,\"solidity\":0.2}},\"type\":\"barpolar\"}],\"bar\":[{\"error_x\":{\"color\":\"#2a3f5f\"},\"error_y\":{\"color\":\"#2a3f5f\"},\"marker\":{\"line\":{\"color\":\"#E5ECF6\",\"width\":0.5},\"pattern\":{\"fillmode\":\"overlay\",\"size\":10,\"solidity\":0.2}},\"type\":\"bar\"}],\"carpet\":[{\"aaxis\":{\"endlinecolor\":\"#2a3f5f\",\"gridcolor\":\"white\",\"linecolor\":\"white\",\"minorgridcolor\":\"white\",\"startlinecolor\":\"#2a3f5f\"},\"baxis\":{\"endlinecolor\":\"#2a3f5f\",\"gridcolor\":\"white\",\"linecolor\":\"white\",\"minorgridcolor\":\"white\",\"startlinecolor\":\"#2a3f5f\"},\"type\":\"carpet\"}],\"choropleth\":[{\"colorbar\":{\"outlinewidth\":0,\"ticks\":\"\"},\"type\":\"choropleth\"}],\"contourcarpet\":[{\"colorbar\":{\"outlinewidth\":0,\"ticks\":\"\"},\"type\":\"contourcarpet\"}],\"contour\":[{\"colorbar\":{\"outlinewidth\":0,\"ticks\":\"\"},\"colorscale\":[[0.0,\"#0d0887\"],[0.1111111111111111,\"#46039f\"],[0.2222222222222222,\"#7201a8\"],[0.3333333333333333,\"#9c179e\"],[0.4444444444444444,\"#bd3786\"],[0.5555555555555556,\"#d8576b\"],[0.6666666666666666,\"#ed7953\"],[0.7777777777777778,\"#fb9f3a\"],[0.8888888888888888,\"#fdca26\"],[1.0,\"#f0f921\"]],\"type\":\"contour\"}],\"heatmapgl\":[{\"colorbar\":{\"outlinewidth\":0,\"ticks\":\"\"},\"colorscale\":[[0.0,\"#0d0887\"],[0.1111111111111111,\"#46039f\"],[0.2222222222222222,\"#7201a8\"],[0.3333333333333333,\"#9c179e\"],[0.4444444444444444,\"#bd3786\"],[0.5555555555555556,\"#d8576b\"],[0.6666666666666666,\"#ed7953\"],[0.7777777777777778,\"#fb9f3a\"],[0.8888888888888888,\"#fdca26\"],[1.0,\"#f0f921\"]],\"type\":\"heatmapgl\"}],\"heatmap\":[{\"colorbar\":{\"outlinewidth\":0,\"ticks\":\"\"},\"colorscale\":[[0.0,\"#0d0887\"],[0.1111111111111111,\"#46039f\"],[0.2222222222222222,\"#7201a8\"],[0.3333333333333333,\"#9c179e\"],[0.4444444444444444,\"#bd3786\"],[0.5555555555555556,\"#d8576b\"],[0.6666666666666666,\"#ed7953\"],[0.7777777777777778,\"#fb9f3a\"],[0.8888888888888888,\"#fdca26\"],[1.0,\"#f0f921\"]],\"type\":\"heatmap\"}],\"histogram2dcontour\":[{\"colorbar\":{\"outlinewidth\":0,\"ticks\":\"\"},\"colorscale\":[[0.0,\"#0d0887\"],[0.1111111111111111,\"#46039f\"],[0.2222222222222222,\"#7201a8\"],[0.3333333333333333,\"#9c179e\"],[0.4444444444444444,\"#bd3786\"],[0.5555555555555556,\"#d8576b\"],[0.6666666666666666,\"#ed7953\"],[0.7777777777777778,\"#fb9f3a\"],[0.8888888888888888,\"#fdca26\"],[1.0,\"#f0f921\"]],\"type\":\"histogram2dcontour\"}],\"histogram2d\":[{\"colorbar\":{\"outlinewidth\":0,\"ticks\":\"\"},\"colorscale\":[[0.0,\"#0d0887\"],[0.1111111111111111,\"#46039f\"],[0.2222222222222222,\"#7201a8\"],[0.3333333333333333,\"#9c179e\"],[0.4444444444444444,\"#bd3786\"],[0.5555555555555556,\"#d8576b\"],[0.6666666666666666,\"#ed7953\"],[0.7777777777777778,\"#fb9f3a\"],[0.8888888888888888,\"#fdca26\"],[1.0,\"#f0f921\"]],\"type\":\"histogram2d\"}],\"histogram\":[{\"marker\":{\"pattern\":{\"fillmode\":\"overlay\",\"size\":10,\"solidity\":0.2}},\"type\":\"histogram\"}],\"mesh3d\":[{\"colorbar\":{\"outlinewidth\":0,\"ticks\":\"\"},\"type\":\"mesh3d\"}],\"parcoords\":[{\"line\":{\"colorbar\":{\"outlinewidth\":0,\"ticks\":\"\"}},\"type\":\"parcoords\"}],\"pie\":[{\"automargin\":true,\"type\":\"pie\"}],\"scatter3d\":[{\"line\":{\"colorbar\":{\"outlinewidth\":0,\"ticks\":\"\"}},\"marker\":{\"colorbar\":{\"outlinewidth\":0,\"ticks\":\"\"}},\"type\":\"scatter3d\"}],\"scattercarpet\":[{\"marker\":{\"colorbar\":{\"outlinewidth\":0,\"ticks\":\"\"}},\"type\":\"scattercarpet\"}],\"scattergeo\":[{\"marker\":{\"colorbar\":{\"outlinewidth\":0,\"ticks\":\"\"}},\"type\":\"scattergeo\"}],\"scattergl\":[{\"marker\":{\"colorbar\":{\"outlinewidth\":0,\"ticks\":\"\"}},\"type\":\"scattergl\"}],\"scattermapbox\":[{\"marker\":{\"colorbar\":{\"outlinewidth\":0,\"ticks\":\"\"}},\"type\":\"scattermapbox\"}],\"scatterpolargl\":[{\"marker\":{\"colorbar\":{\"outlinewidth\":0,\"ticks\":\"\"}},\"type\":\"scatterpolargl\"}],\"scatterpolar\":[{\"marker\":{\"colorbar\":{\"outlinewidth\":0,\"ticks\":\"\"}},\"type\":\"scatterpolar\"}],\"scatter\":[{\"fillpattern\":{\"fillmode\":\"overlay\",\"size\":10,\"solidity\":0.2},\"type\":\"scatter\"}],\"scatterternary\":[{\"marker\":{\"colorbar\":{\"outlinewidth\":0,\"ticks\":\"\"}},\"type\":\"scatterternary\"}],\"surface\":[{\"colorbar\":{\"outlinewidth\":0,\"ticks\":\"\"},\"colorscale\":[[0.0,\"#0d0887\"],[0.1111111111111111,\"#46039f\"],[0.2222222222222222,\"#7201a8\"],[0.3333333333333333,\"#9c179e\"],[0.4444444444444444,\"#bd3786\"],[0.5555555555555556,\"#d8576b\"],[0.6666666666666666,\"#ed7953\"],[0.7777777777777778,\"#fb9f3a\"],[0.8888888888888888,\"#fdca26\"],[1.0,\"#f0f921\"]],\"type\":\"surface\"}],\"table\":[{\"cells\":{\"fill\":{\"color\":\"#EBF0F8\"},\"line\":{\"color\":\"white\"}},\"header\":{\"fill\":{\"color\":\"#C8D4E3\"},\"line\":{\"color\":\"white\"}},\"type\":\"table\"}]},\"layout\":{\"annotationdefaults\":{\"arrowcolor\":\"#2a3f5f\",\"arrowhead\":0,\"arrowwidth\":1},\"autotypenumbers\":\"strict\",\"coloraxis\":{\"colorbar\":{\"outlinewidth\":0,\"ticks\":\"\"}},\"colorscale\":{\"diverging\":[[0,\"#8e0152\"],[0.1,\"#c51b7d\"],[0.2,\"#de77ae\"],[0.3,\"#f1b6da\"],[0.4,\"#fde0ef\"],[0.5,\"#f7f7f7\"],[0.6,\"#e6f5d0\"],[0.7,\"#b8e186\"],[0.8,\"#7fbc41\"],[0.9,\"#4d9221\"],[1,\"#276419\"]],\"sequential\":[[0.0,\"#0d0887\"],[0.1111111111111111,\"#46039f\"],[0.2222222222222222,\"#7201a8\"],[0.3333333333333333,\"#9c179e\"],[0.4444444444444444,\"#bd3786\"],[0.5555555555555556,\"#d8576b\"],[0.6666666666666666,\"#ed7953\"],[0.7777777777777778,\"#fb9f3a\"],[0.8888888888888888,\"#fdca26\"],[1.0,\"#f0f921\"]],\"sequentialminus\":[[0.0,\"#0d0887\"],[0.1111111111111111,\"#46039f\"],[0.2222222222222222,\"#7201a8\"],[0.3333333333333333,\"#9c179e\"],[0.4444444444444444,\"#bd3786\"],[0.5555555555555556,\"#d8576b\"],[0.6666666666666666,\"#ed7953\"],[0.7777777777777778,\"#fb9f3a\"],[0.8888888888888888,\"#fdca26\"],[1.0,\"#f0f921\"]]},\"colorway\":[\"#636efa\",\"#EF553B\",\"#00cc96\",\"#ab63fa\",\"#FFA15A\",\"#19d3f3\",\"#FF6692\",\"#B6E880\",\"#FF97FF\",\"#FECB52\"],\"font\":{\"color\":\"#2a3f5f\"},\"geo\":{\"bgcolor\":\"white\",\"lakecolor\":\"white\",\"landcolor\":\"#E5ECF6\",\"showlakes\":true,\"showland\":true,\"subunitcolor\":\"white\"},\"hoverlabel\":{\"align\":\"left\"},\"hovermode\":\"closest\",\"mapbox\":{\"style\":\"light\"},\"paper_bgcolor\":\"white\",\"plot_bgcolor\":\"#E5ECF6\",\"polar\":{\"angularaxis\":{\"gridcolor\":\"white\",\"linecolor\":\"white\",\"ticks\":\"\"},\"bgcolor\":\"#E5ECF6\",\"radialaxis\":{\"gridcolor\":\"white\",\"linecolor\":\"white\",\"ticks\":\"\"}},\"scene\":{\"xaxis\":{\"backgroundcolor\":\"#E5ECF6\",\"gridcolor\":\"white\",\"gridwidth\":2,\"linecolor\":\"white\",\"showbackground\":true,\"ticks\":\"\",\"zerolinecolor\":\"white\"},\"yaxis\":{\"backgroundcolor\":\"#E5ECF6\",\"gridcolor\":\"white\",\"gridwidth\":2,\"linecolor\":\"white\",\"showbackground\":true,\"ticks\":\"\",\"zerolinecolor\":\"white\"},\"zaxis\":{\"backgroundcolor\":\"#E5ECF6\",\"gridcolor\":\"white\",\"gridwidth\":2,\"linecolor\":\"white\",\"showbackground\":true,\"ticks\":\"\",\"zerolinecolor\":\"white\"}},\"shapedefaults\":{\"line\":{\"color\":\"#2a3f5f\"}},\"ternary\":{\"aaxis\":{\"gridcolor\":\"white\",\"linecolor\":\"white\",\"ticks\":\"\"},\"baxis\":{\"gridcolor\":\"white\",\"linecolor\":\"white\",\"ticks\":\"\"},\"bgcolor\":\"#E5ECF6\",\"caxis\":{\"gridcolor\":\"white\",\"linecolor\":\"white\",\"ticks\":\"\"}},\"title\":{\"x\":0.05},\"xaxis\":{\"automargin\":true,\"gridcolor\":\"white\",\"linecolor\":\"white\",\"ticks\":\"\",\"title\":{\"standoff\":15},\"zerolinecolor\":\"white\",\"zerolinewidth\":2},\"yaxis\":{\"automargin\":true,\"gridcolor\":\"white\",\"linecolor\":\"white\",\"ticks\":\"\",\"title\":{\"standoff\":15},\"zerolinecolor\":\"white\",\"zerolinewidth\":2}}},\"title\":{\"font\":{\"color\":\"#4D5663\"},\"text\":\"Edad de pasajeros del Titanic\"},\"xaxis\":{\"gridcolor\":\"#E1E5ED\",\"showgrid\":true,\"tickfont\":{\"color\":\"#4D5663\"},\"title\":{\"font\":{\"color\":\"#4D5663\"},\"text\":\"Nombre\"},\"zerolinecolor\":\"#E1E5ED\"},\"yaxis\":{\"gridcolor\":\"#E1E5ED\",\"showgrid\":true,\"tickfont\":{\"color\":\"#4D5663\"},\"title\":{\"font\":{\"color\":\"#4D5663\"},\"text\":\"Edad\"},\"zerolinecolor\":\"#E1E5ED\"}},                        {\"showLink\": true, \"linkText\": \"Export to plot.ly\", \"plotlyServerURL\": \"https://plot.ly\", \"responsive\": true}                    ).then(function(){\n",
       "                            \n",
       "var gd = document.getElementById('fe5936d7-d37f-410b-827e-38c0822209af');\n",
       "var x = new MutationObserver(function (mutations, observer) {{\n",
       "        var display = window.getComputedStyle(gd).display;\n",
       "        if (!display || display === 'none') {{\n",
       "            console.log([gd, 'removed!']);\n",
       "            Plotly.purge(gd);\n",
       "            observer.disconnect();\n",
       "        }}\n",
       "}});\n",
       "\n",
       "// Listen for the removal of the full notebook cells\n",
       "var notebookContainer = gd.closest('#notebook-container');\n",
       "if (notebookContainer) {{\n",
       "    x.observe(notebookContainer, {childList: true});\n",
       "}}\n",
       "\n",
       "// Listen for the clearing of the current output cell\n",
       "var outputEl = gd.closest('.output');\n",
       "if (outputEl) {{\n",
       "    x.observe(outputEl, {childList: true});\n",
       "}}\n",
       "\n",
       "                        })                };                });            </script>        </div>"
      ]
     },
     "metadata": {},
     "output_type": "display_data"
    }
   ],
   "source": [
    "#Lineplot o grafico lineal\n",
    "Data.iplot(kind='line', xTitle='Nombre', yTitle='Edad', title='Edad de pasajeros del Titanic')"
   ]
  },
  {
   "cell_type": "code",
   "execution_count": 6,
   "metadata": {},
   "outputs": [
    {
     "data": {
      "application/vnd.plotly.v1+json": {
       "config": {
        "linkText": "Export to plot.ly",
        "plotlyServerURL": "https://plot.ly",
        "showLink": true
       },
       "data": [
        {
         "marker": {
          "color": "rgba(255, 153, 51, 0.6)",
          "line": {
           "color": "rgba(255, 153, 51, 1.0)",
           "width": 1
          }
         },
         "name": "female",
         "orientation": "v",
         "text": "",
         "type": "bar",
         "x": [
          "White, Mr. Percival Wayland",
          "Wick, Miss. Mary Natalie"
         ],
         "y": [
          "",
          31
         ]
        },
        {
         "marker": {
          "color": "rgba(55, 128, 191, 0.6)",
          "line": {
           "color": "rgba(55, 128, 191, 1.0)",
           "width": 1
          }
         },
         "name": "male",
         "orientation": "v",
         "text": "",
         "type": "bar",
         "x": [
          "White, Mr. Percival Wayland",
          "Wick, Miss. Mary Natalie"
         ],
         "y": [
          54,
          ""
         ]
        }
       ],
       "layout": {
        "legend": {
         "bgcolor": "#FFFFFF",
         "font": {
          "color": "#4D5663"
         }
        },
        "paper_bgcolor": "#FFFFFF",
        "plot_bgcolor": "#FFFFFF",
        "template": {
         "data": {
          "bar": [
           {
            "error_x": {
             "color": "#2a3f5f"
            },
            "error_y": {
             "color": "#2a3f5f"
            },
            "marker": {
             "line": {
              "color": "#E5ECF6",
              "width": 0.5
             },
             "pattern": {
              "fillmode": "overlay",
              "size": 10,
              "solidity": 0.2
             }
            },
            "type": "bar"
           }
          ],
          "barpolar": [
           {
            "marker": {
             "line": {
              "color": "#E5ECF6",
              "width": 0.5
             },
             "pattern": {
              "fillmode": "overlay",
              "size": 10,
              "solidity": 0.2
             }
            },
            "type": "barpolar"
           }
          ],
          "carpet": [
           {
            "aaxis": {
             "endlinecolor": "#2a3f5f",
             "gridcolor": "white",
             "linecolor": "white",
             "minorgridcolor": "white",
             "startlinecolor": "#2a3f5f"
            },
            "baxis": {
             "endlinecolor": "#2a3f5f",
             "gridcolor": "white",
             "linecolor": "white",
             "minorgridcolor": "white",
             "startlinecolor": "#2a3f5f"
            },
            "type": "carpet"
           }
          ],
          "choropleth": [
           {
            "colorbar": {
             "outlinewidth": 0,
             "ticks": ""
            },
            "type": "choropleth"
           }
          ],
          "contour": [
           {
            "colorbar": {
             "outlinewidth": 0,
             "ticks": ""
            },
            "colorscale": [
             [
              0,
              "#0d0887"
             ],
             [
              0.1111111111111111,
              "#46039f"
             ],
             [
              0.2222222222222222,
              "#7201a8"
             ],
             [
              0.3333333333333333,
              "#9c179e"
             ],
             [
              0.4444444444444444,
              "#bd3786"
             ],
             [
              0.5555555555555556,
              "#d8576b"
             ],
             [
              0.6666666666666666,
              "#ed7953"
             ],
             [
              0.7777777777777778,
              "#fb9f3a"
             ],
             [
              0.8888888888888888,
              "#fdca26"
             ],
             [
              1,
              "#f0f921"
             ]
            ],
            "type": "contour"
           }
          ],
          "contourcarpet": [
           {
            "colorbar": {
             "outlinewidth": 0,
             "ticks": ""
            },
            "type": "contourcarpet"
           }
          ],
          "heatmap": [
           {
            "colorbar": {
             "outlinewidth": 0,
             "ticks": ""
            },
            "colorscale": [
             [
              0,
              "#0d0887"
             ],
             [
              0.1111111111111111,
              "#46039f"
             ],
             [
              0.2222222222222222,
              "#7201a8"
             ],
             [
              0.3333333333333333,
              "#9c179e"
             ],
             [
              0.4444444444444444,
              "#bd3786"
             ],
             [
              0.5555555555555556,
              "#d8576b"
             ],
             [
              0.6666666666666666,
              "#ed7953"
             ],
             [
              0.7777777777777778,
              "#fb9f3a"
             ],
             [
              0.8888888888888888,
              "#fdca26"
             ],
             [
              1,
              "#f0f921"
             ]
            ],
            "type": "heatmap"
           }
          ],
          "heatmapgl": [
           {
            "colorbar": {
             "outlinewidth": 0,
             "ticks": ""
            },
            "colorscale": [
             [
              0,
              "#0d0887"
             ],
             [
              0.1111111111111111,
              "#46039f"
             ],
             [
              0.2222222222222222,
              "#7201a8"
             ],
             [
              0.3333333333333333,
              "#9c179e"
             ],
             [
              0.4444444444444444,
              "#bd3786"
             ],
             [
              0.5555555555555556,
              "#d8576b"
             ],
             [
              0.6666666666666666,
              "#ed7953"
             ],
             [
              0.7777777777777778,
              "#fb9f3a"
             ],
             [
              0.8888888888888888,
              "#fdca26"
             ],
             [
              1,
              "#f0f921"
             ]
            ],
            "type": "heatmapgl"
           }
          ],
          "histogram": [
           {
            "marker": {
             "pattern": {
              "fillmode": "overlay",
              "size": 10,
              "solidity": 0.2
             }
            },
            "type": "histogram"
           }
          ],
          "histogram2d": [
           {
            "colorbar": {
             "outlinewidth": 0,
             "ticks": ""
            },
            "colorscale": [
             [
              0,
              "#0d0887"
             ],
             [
              0.1111111111111111,
              "#46039f"
             ],
             [
              0.2222222222222222,
              "#7201a8"
             ],
             [
              0.3333333333333333,
              "#9c179e"
             ],
             [
              0.4444444444444444,
              "#bd3786"
             ],
             [
              0.5555555555555556,
              "#d8576b"
             ],
             [
              0.6666666666666666,
              "#ed7953"
             ],
             [
              0.7777777777777778,
              "#fb9f3a"
             ],
             [
              0.8888888888888888,
              "#fdca26"
             ],
             [
              1,
              "#f0f921"
             ]
            ],
            "type": "histogram2d"
           }
          ],
          "histogram2dcontour": [
           {
            "colorbar": {
             "outlinewidth": 0,
             "ticks": ""
            },
            "colorscale": [
             [
              0,
              "#0d0887"
             ],
             [
              0.1111111111111111,
              "#46039f"
             ],
             [
              0.2222222222222222,
              "#7201a8"
             ],
             [
              0.3333333333333333,
              "#9c179e"
             ],
             [
              0.4444444444444444,
              "#bd3786"
             ],
             [
              0.5555555555555556,
              "#d8576b"
             ],
             [
              0.6666666666666666,
              "#ed7953"
             ],
             [
              0.7777777777777778,
              "#fb9f3a"
             ],
             [
              0.8888888888888888,
              "#fdca26"
             ],
             [
              1,
              "#f0f921"
             ]
            ],
            "type": "histogram2dcontour"
           }
          ],
          "mesh3d": [
           {
            "colorbar": {
             "outlinewidth": 0,
             "ticks": ""
            },
            "type": "mesh3d"
           }
          ],
          "parcoords": [
           {
            "line": {
             "colorbar": {
              "outlinewidth": 0,
              "ticks": ""
             }
            },
            "type": "parcoords"
           }
          ],
          "pie": [
           {
            "automargin": true,
            "type": "pie"
           }
          ],
          "scatter": [
           {
            "fillpattern": {
             "fillmode": "overlay",
             "size": 10,
             "solidity": 0.2
            },
            "type": "scatter"
           }
          ],
          "scatter3d": [
           {
            "line": {
             "colorbar": {
              "outlinewidth": 0,
              "ticks": ""
             }
            },
            "marker": {
             "colorbar": {
              "outlinewidth": 0,
              "ticks": ""
             }
            },
            "type": "scatter3d"
           }
          ],
          "scattercarpet": [
           {
            "marker": {
             "colorbar": {
              "outlinewidth": 0,
              "ticks": ""
             }
            },
            "type": "scattercarpet"
           }
          ],
          "scattergeo": [
           {
            "marker": {
             "colorbar": {
              "outlinewidth": 0,
              "ticks": ""
             }
            },
            "type": "scattergeo"
           }
          ],
          "scattergl": [
           {
            "marker": {
             "colorbar": {
              "outlinewidth": 0,
              "ticks": ""
             }
            },
            "type": "scattergl"
           }
          ],
          "scattermapbox": [
           {
            "marker": {
             "colorbar": {
              "outlinewidth": 0,
              "ticks": ""
             }
            },
            "type": "scattermapbox"
           }
          ],
          "scatterpolar": [
           {
            "marker": {
             "colorbar": {
              "outlinewidth": 0,
              "ticks": ""
             }
            },
            "type": "scatterpolar"
           }
          ],
          "scatterpolargl": [
           {
            "marker": {
             "colorbar": {
              "outlinewidth": 0,
              "ticks": ""
             }
            },
            "type": "scatterpolargl"
           }
          ],
          "scatterternary": [
           {
            "marker": {
             "colorbar": {
              "outlinewidth": 0,
              "ticks": ""
             }
            },
            "type": "scatterternary"
           }
          ],
          "surface": [
           {
            "colorbar": {
             "outlinewidth": 0,
             "ticks": ""
            },
            "colorscale": [
             [
              0,
              "#0d0887"
             ],
             [
              0.1111111111111111,
              "#46039f"
             ],
             [
              0.2222222222222222,
              "#7201a8"
             ],
             [
              0.3333333333333333,
              "#9c179e"
             ],
             [
              0.4444444444444444,
              "#bd3786"
             ],
             [
              0.5555555555555556,
              "#d8576b"
             ],
             [
              0.6666666666666666,
              "#ed7953"
             ],
             [
              0.7777777777777778,
              "#fb9f3a"
             ],
             [
              0.8888888888888888,
              "#fdca26"
             ],
             [
              1,
              "#f0f921"
             ]
            ],
            "type": "surface"
           }
          ],
          "table": [
           {
            "cells": {
             "fill": {
              "color": "#EBF0F8"
             },
             "line": {
              "color": "white"
             }
            },
            "header": {
             "fill": {
              "color": "#C8D4E3"
             },
             "line": {
              "color": "white"
             }
            },
            "type": "table"
           }
          ]
         },
         "layout": {
          "annotationdefaults": {
           "arrowcolor": "#2a3f5f",
           "arrowhead": 0,
           "arrowwidth": 1
          },
          "autotypenumbers": "strict",
          "coloraxis": {
           "colorbar": {
            "outlinewidth": 0,
            "ticks": ""
           }
          },
          "colorscale": {
           "diverging": [
            [
             0,
             "#8e0152"
            ],
            [
             0.1,
             "#c51b7d"
            ],
            [
             0.2,
             "#de77ae"
            ],
            [
             0.3,
             "#f1b6da"
            ],
            [
             0.4,
             "#fde0ef"
            ],
            [
             0.5,
             "#f7f7f7"
            ],
            [
             0.6,
             "#e6f5d0"
            ],
            [
             0.7,
             "#b8e186"
            ],
            [
             0.8,
             "#7fbc41"
            ],
            [
             0.9,
             "#4d9221"
            ],
            [
             1,
             "#276419"
            ]
           ],
           "sequential": [
            [
             0,
             "#0d0887"
            ],
            [
             0.1111111111111111,
             "#46039f"
            ],
            [
             0.2222222222222222,
             "#7201a8"
            ],
            [
             0.3333333333333333,
             "#9c179e"
            ],
            [
             0.4444444444444444,
             "#bd3786"
            ],
            [
             0.5555555555555556,
             "#d8576b"
            ],
            [
             0.6666666666666666,
             "#ed7953"
            ],
            [
             0.7777777777777778,
             "#fb9f3a"
            ],
            [
             0.8888888888888888,
             "#fdca26"
            ],
            [
             1,
             "#f0f921"
            ]
           ],
           "sequentialminus": [
            [
             0,
             "#0d0887"
            ],
            [
             0.1111111111111111,
             "#46039f"
            ],
            [
             0.2222222222222222,
             "#7201a8"
            ],
            [
             0.3333333333333333,
             "#9c179e"
            ],
            [
             0.4444444444444444,
             "#bd3786"
            ],
            [
             0.5555555555555556,
             "#d8576b"
            ],
            [
             0.6666666666666666,
             "#ed7953"
            ],
            [
             0.7777777777777778,
             "#fb9f3a"
            ],
            [
             0.8888888888888888,
             "#fdca26"
            ],
            [
             1,
             "#f0f921"
            ]
           ]
          },
          "colorway": [
           "#636efa",
           "#EF553B",
           "#00cc96",
           "#ab63fa",
           "#FFA15A",
           "#19d3f3",
           "#FF6692",
           "#B6E880",
           "#FF97FF",
           "#FECB52"
          ],
          "font": {
           "color": "#2a3f5f"
          },
          "geo": {
           "bgcolor": "white",
           "lakecolor": "white",
           "landcolor": "#E5ECF6",
           "showlakes": true,
           "showland": true,
           "subunitcolor": "white"
          },
          "hoverlabel": {
           "align": "left"
          },
          "hovermode": "closest",
          "mapbox": {
           "style": "light"
          },
          "paper_bgcolor": "white",
          "plot_bgcolor": "#E5ECF6",
          "polar": {
           "angularaxis": {
            "gridcolor": "white",
            "linecolor": "white",
            "ticks": ""
           },
           "bgcolor": "#E5ECF6",
           "radialaxis": {
            "gridcolor": "white",
            "linecolor": "white",
            "ticks": ""
           }
          },
          "scene": {
           "xaxis": {
            "backgroundcolor": "#E5ECF6",
            "gridcolor": "white",
            "gridwidth": 2,
            "linecolor": "white",
            "showbackground": true,
            "ticks": "",
            "zerolinecolor": "white"
           },
           "yaxis": {
            "backgroundcolor": "#E5ECF6",
            "gridcolor": "white",
            "gridwidth": 2,
            "linecolor": "white",
            "showbackground": true,
            "ticks": "",
            "zerolinecolor": "white"
           },
           "zaxis": {
            "backgroundcolor": "#E5ECF6",
            "gridcolor": "white",
            "gridwidth": 2,
            "linecolor": "white",
            "showbackground": true,
            "ticks": "",
            "zerolinecolor": "white"
           }
          },
          "shapedefaults": {
           "line": {
            "color": "#2a3f5f"
           }
          },
          "ternary": {
           "aaxis": {
            "gridcolor": "white",
            "linecolor": "white",
            "ticks": ""
           },
           "baxis": {
            "gridcolor": "white",
            "linecolor": "white",
            "ticks": ""
           },
           "bgcolor": "#E5ECF6",
           "caxis": {
            "gridcolor": "white",
            "linecolor": "white",
            "ticks": ""
           }
          },
          "title": {
           "x": 0.05
          },
          "xaxis": {
           "automargin": true,
           "gridcolor": "white",
           "linecolor": "white",
           "ticks": "",
           "title": {
            "standoff": 15
           },
           "zerolinecolor": "white",
           "zerolinewidth": 2
          },
          "yaxis": {
           "automargin": true,
           "gridcolor": "white",
           "linecolor": "white",
           "ticks": "",
           "title": {
            "standoff": 15
           },
           "zerolinecolor": "white",
           "zerolinewidth": 2
          }
         }
        },
        "title": {
         "font": {
          "color": "#4D5663"
         },
         "text": "Muestra de 2 pasajeros del Titanic"
        },
        "xaxis": {
         "gridcolor": "#E1E5ED",
         "showgrid": true,
         "tickfont": {
          "color": "#4D5663"
         },
         "title": {
          "font": {
           "color": "#4D5663"
          },
          "text": "Nombre"
         },
         "zerolinecolor": "#E1E5ED"
        },
        "yaxis": {
         "gridcolor": "#E1E5ED",
         "showgrid": true,
         "tickfont": {
          "color": "#4D5663"
         },
         "title": {
          "font": {
           "color": "#4D5663"
          },
          "text": "Edad"
         },
         "zerolinecolor": "#E1E5ED"
        }
       }
      },
      "text/html": [
       "<div>                            <div id=\"45c6eeba-5496-49f7-b5d9-fdedb9d55b89\" class=\"plotly-graph-div\" style=\"height:525px; width:100%;\"></div>            <script type=\"text/javascript\">                require([\"plotly\"], function(Plotly) {                    window.PLOTLYENV=window.PLOTLYENV || {};\n",
       "                    window.PLOTLYENV.BASE_URL='https://plot.ly';                                    if (document.getElementById(\"45c6eeba-5496-49f7-b5d9-fdedb9d55b89\")) {                    Plotly.newPlot(                        \"45c6eeba-5496-49f7-b5d9-fdedb9d55b89\",                        [{\"marker\":{\"color\":\"rgba(255, 153, 51, 0.6)\",\"line\":{\"color\":\"rgba(255, 153, 51, 1.0)\",\"width\":1}},\"name\":\"female\",\"orientation\":\"v\",\"text\":\"\",\"x\":[\"White, Mr. Percival Wayland\",\"Wick, Miss. Mary Natalie\"],\"y\":[\"\",31.0],\"type\":\"bar\"},{\"marker\":{\"color\":\"rgba(55, 128, 191, 0.6)\",\"line\":{\"color\":\"rgba(55, 128, 191, 1.0)\",\"width\":1}},\"name\":\"male\",\"orientation\":\"v\",\"text\":\"\",\"x\":[\"White, Mr. Percival Wayland\",\"Wick, Miss. Mary Natalie\"],\"y\":[54.0,\"\"],\"type\":\"bar\"}],                        {\"legend\":{\"bgcolor\":\"#FFFFFF\",\"font\":{\"color\":\"#4D5663\"}},\"paper_bgcolor\":\"#FFFFFF\",\"plot_bgcolor\":\"#FFFFFF\",\"template\":{\"data\":{\"barpolar\":[{\"marker\":{\"line\":{\"color\":\"#E5ECF6\",\"width\":0.5},\"pattern\":{\"fillmode\":\"overlay\",\"size\":10,\"solidity\":0.2}},\"type\":\"barpolar\"}],\"bar\":[{\"error_x\":{\"color\":\"#2a3f5f\"},\"error_y\":{\"color\":\"#2a3f5f\"},\"marker\":{\"line\":{\"color\":\"#E5ECF6\",\"width\":0.5},\"pattern\":{\"fillmode\":\"overlay\",\"size\":10,\"solidity\":0.2}},\"type\":\"bar\"}],\"carpet\":[{\"aaxis\":{\"endlinecolor\":\"#2a3f5f\",\"gridcolor\":\"white\",\"linecolor\":\"white\",\"minorgridcolor\":\"white\",\"startlinecolor\":\"#2a3f5f\"},\"baxis\":{\"endlinecolor\":\"#2a3f5f\",\"gridcolor\":\"white\",\"linecolor\":\"white\",\"minorgridcolor\":\"white\",\"startlinecolor\":\"#2a3f5f\"},\"type\":\"carpet\"}],\"choropleth\":[{\"colorbar\":{\"outlinewidth\":0,\"ticks\":\"\"},\"type\":\"choropleth\"}],\"contourcarpet\":[{\"colorbar\":{\"outlinewidth\":0,\"ticks\":\"\"},\"type\":\"contourcarpet\"}],\"contour\":[{\"colorbar\":{\"outlinewidth\":0,\"ticks\":\"\"},\"colorscale\":[[0.0,\"#0d0887\"],[0.1111111111111111,\"#46039f\"],[0.2222222222222222,\"#7201a8\"],[0.3333333333333333,\"#9c179e\"],[0.4444444444444444,\"#bd3786\"],[0.5555555555555556,\"#d8576b\"],[0.6666666666666666,\"#ed7953\"],[0.7777777777777778,\"#fb9f3a\"],[0.8888888888888888,\"#fdca26\"],[1.0,\"#f0f921\"]],\"type\":\"contour\"}],\"heatmapgl\":[{\"colorbar\":{\"outlinewidth\":0,\"ticks\":\"\"},\"colorscale\":[[0.0,\"#0d0887\"],[0.1111111111111111,\"#46039f\"],[0.2222222222222222,\"#7201a8\"],[0.3333333333333333,\"#9c179e\"],[0.4444444444444444,\"#bd3786\"],[0.5555555555555556,\"#d8576b\"],[0.6666666666666666,\"#ed7953\"],[0.7777777777777778,\"#fb9f3a\"],[0.8888888888888888,\"#fdca26\"],[1.0,\"#f0f921\"]],\"type\":\"heatmapgl\"}],\"heatmap\":[{\"colorbar\":{\"outlinewidth\":0,\"ticks\":\"\"},\"colorscale\":[[0.0,\"#0d0887\"],[0.1111111111111111,\"#46039f\"],[0.2222222222222222,\"#7201a8\"],[0.3333333333333333,\"#9c179e\"],[0.4444444444444444,\"#bd3786\"],[0.5555555555555556,\"#d8576b\"],[0.6666666666666666,\"#ed7953\"],[0.7777777777777778,\"#fb9f3a\"],[0.8888888888888888,\"#fdca26\"],[1.0,\"#f0f921\"]],\"type\":\"heatmap\"}],\"histogram2dcontour\":[{\"colorbar\":{\"outlinewidth\":0,\"ticks\":\"\"},\"colorscale\":[[0.0,\"#0d0887\"],[0.1111111111111111,\"#46039f\"],[0.2222222222222222,\"#7201a8\"],[0.3333333333333333,\"#9c179e\"],[0.4444444444444444,\"#bd3786\"],[0.5555555555555556,\"#d8576b\"],[0.6666666666666666,\"#ed7953\"],[0.7777777777777778,\"#fb9f3a\"],[0.8888888888888888,\"#fdca26\"],[1.0,\"#f0f921\"]],\"type\":\"histogram2dcontour\"}],\"histogram2d\":[{\"colorbar\":{\"outlinewidth\":0,\"ticks\":\"\"},\"colorscale\":[[0.0,\"#0d0887\"],[0.1111111111111111,\"#46039f\"],[0.2222222222222222,\"#7201a8\"],[0.3333333333333333,\"#9c179e\"],[0.4444444444444444,\"#bd3786\"],[0.5555555555555556,\"#d8576b\"],[0.6666666666666666,\"#ed7953\"],[0.7777777777777778,\"#fb9f3a\"],[0.8888888888888888,\"#fdca26\"],[1.0,\"#f0f921\"]],\"type\":\"histogram2d\"}],\"histogram\":[{\"marker\":{\"pattern\":{\"fillmode\":\"overlay\",\"size\":10,\"solidity\":0.2}},\"type\":\"histogram\"}],\"mesh3d\":[{\"colorbar\":{\"outlinewidth\":0,\"ticks\":\"\"},\"type\":\"mesh3d\"}],\"parcoords\":[{\"line\":{\"colorbar\":{\"outlinewidth\":0,\"ticks\":\"\"}},\"type\":\"parcoords\"}],\"pie\":[{\"automargin\":true,\"type\":\"pie\"}],\"scatter3d\":[{\"line\":{\"colorbar\":{\"outlinewidth\":0,\"ticks\":\"\"}},\"marker\":{\"colorbar\":{\"outlinewidth\":0,\"ticks\":\"\"}},\"type\":\"scatter3d\"}],\"scattercarpet\":[{\"marker\":{\"colorbar\":{\"outlinewidth\":0,\"ticks\":\"\"}},\"type\":\"scattercarpet\"}],\"scattergeo\":[{\"marker\":{\"colorbar\":{\"outlinewidth\":0,\"ticks\":\"\"}},\"type\":\"scattergeo\"}],\"scattergl\":[{\"marker\":{\"colorbar\":{\"outlinewidth\":0,\"ticks\":\"\"}},\"type\":\"scattergl\"}],\"scattermapbox\":[{\"marker\":{\"colorbar\":{\"outlinewidth\":0,\"ticks\":\"\"}},\"type\":\"scattermapbox\"}],\"scatterpolargl\":[{\"marker\":{\"colorbar\":{\"outlinewidth\":0,\"ticks\":\"\"}},\"type\":\"scatterpolargl\"}],\"scatterpolar\":[{\"marker\":{\"colorbar\":{\"outlinewidth\":0,\"ticks\":\"\"}},\"type\":\"scatterpolar\"}],\"scatter\":[{\"fillpattern\":{\"fillmode\":\"overlay\",\"size\":10,\"solidity\":0.2},\"type\":\"scatter\"}],\"scatterternary\":[{\"marker\":{\"colorbar\":{\"outlinewidth\":0,\"ticks\":\"\"}},\"type\":\"scatterternary\"}],\"surface\":[{\"colorbar\":{\"outlinewidth\":0,\"ticks\":\"\"},\"colorscale\":[[0.0,\"#0d0887\"],[0.1111111111111111,\"#46039f\"],[0.2222222222222222,\"#7201a8\"],[0.3333333333333333,\"#9c179e\"],[0.4444444444444444,\"#bd3786\"],[0.5555555555555556,\"#d8576b\"],[0.6666666666666666,\"#ed7953\"],[0.7777777777777778,\"#fb9f3a\"],[0.8888888888888888,\"#fdca26\"],[1.0,\"#f0f921\"]],\"type\":\"surface\"}],\"table\":[{\"cells\":{\"fill\":{\"color\":\"#EBF0F8\"},\"line\":{\"color\":\"white\"}},\"header\":{\"fill\":{\"color\":\"#C8D4E3\"},\"line\":{\"color\":\"white\"}},\"type\":\"table\"}]},\"layout\":{\"annotationdefaults\":{\"arrowcolor\":\"#2a3f5f\",\"arrowhead\":0,\"arrowwidth\":1},\"autotypenumbers\":\"strict\",\"coloraxis\":{\"colorbar\":{\"outlinewidth\":0,\"ticks\":\"\"}},\"colorscale\":{\"diverging\":[[0,\"#8e0152\"],[0.1,\"#c51b7d\"],[0.2,\"#de77ae\"],[0.3,\"#f1b6da\"],[0.4,\"#fde0ef\"],[0.5,\"#f7f7f7\"],[0.6,\"#e6f5d0\"],[0.7,\"#b8e186\"],[0.8,\"#7fbc41\"],[0.9,\"#4d9221\"],[1,\"#276419\"]],\"sequential\":[[0.0,\"#0d0887\"],[0.1111111111111111,\"#46039f\"],[0.2222222222222222,\"#7201a8\"],[0.3333333333333333,\"#9c179e\"],[0.4444444444444444,\"#bd3786\"],[0.5555555555555556,\"#d8576b\"],[0.6666666666666666,\"#ed7953\"],[0.7777777777777778,\"#fb9f3a\"],[0.8888888888888888,\"#fdca26\"],[1.0,\"#f0f921\"]],\"sequentialminus\":[[0.0,\"#0d0887\"],[0.1111111111111111,\"#46039f\"],[0.2222222222222222,\"#7201a8\"],[0.3333333333333333,\"#9c179e\"],[0.4444444444444444,\"#bd3786\"],[0.5555555555555556,\"#d8576b\"],[0.6666666666666666,\"#ed7953\"],[0.7777777777777778,\"#fb9f3a\"],[0.8888888888888888,\"#fdca26\"],[1.0,\"#f0f921\"]]},\"colorway\":[\"#636efa\",\"#EF553B\",\"#00cc96\",\"#ab63fa\",\"#FFA15A\",\"#19d3f3\",\"#FF6692\",\"#B6E880\",\"#FF97FF\",\"#FECB52\"],\"font\":{\"color\":\"#2a3f5f\"},\"geo\":{\"bgcolor\":\"white\",\"lakecolor\":\"white\",\"landcolor\":\"#E5ECF6\",\"showlakes\":true,\"showland\":true,\"subunitcolor\":\"white\"},\"hoverlabel\":{\"align\":\"left\"},\"hovermode\":\"closest\",\"mapbox\":{\"style\":\"light\"},\"paper_bgcolor\":\"white\",\"plot_bgcolor\":\"#E5ECF6\",\"polar\":{\"angularaxis\":{\"gridcolor\":\"white\",\"linecolor\":\"white\",\"ticks\":\"\"},\"bgcolor\":\"#E5ECF6\",\"radialaxis\":{\"gridcolor\":\"white\",\"linecolor\":\"white\",\"ticks\":\"\"}},\"scene\":{\"xaxis\":{\"backgroundcolor\":\"#E5ECF6\",\"gridcolor\":\"white\",\"gridwidth\":2,\"linecolor\":\"white\",\"showbackground\":true,\"ticks\":\"\",\"zerolinecolor\":\"white\"},\"yaxis\":{\"backgroundcolor\":\"#E5ECF6\",\"gridcolor\":\"white\",\"gridwidth\":2,\"linecolor\":\"white\",\"showbackground\":true,\"ticks\":\"\",\"zerolinecolor\":\"white\"},\"zaxis\":{\"backgroundcolor\":\"#E5ECF6\",\"gridcolor\":\"white\",\"gridwidth\":2,\"linecolor\":\"white\",\"showbackground\":true,\"ticks\":\"\",\"zerolinecolor\":\"white\"}},\"shapedefaults\":{\"line\":{\"color\":\"#2a3f5f\"}},\"ternary\":{\"aaxis\":{\"gridcolor\":\"white\",\"linecolor\":\"white\",\"ticks\":\"\"},\"baxis\":{\"gridcolor\":\"white\",\"linecolor\":\"white\",\"ticks\":\"\"},\"bgcolor\":\"#E5ECF6\",\"caxis\":{\"gridcolor\":\"white\",\"linecolor\":\"white\",\"ticks\":\"\"}},\"title\":{\"x\":0.05},\"xaxis\":{\"automargin\":true,\"gridcolor\":\"white\",\"linecolor\":\"white\",\"ticks\":\"\",\"title\":{\"standoff\":15},\"zerolinecolor\":\"white\",\"zerolinewidth\":2},\"yaxis\":{\"automargin\":true,\"gridcolor\":\"white\",\"linecolor\":\"white\",\"ticks\":\"\",\"title\":{\"standoff\":15},\"zerolinecolor\":\"white\",\"zerolinewidth\":2}}},\"title\":{\"font\":{\"color\":\"#4D5663\"},\"text\":\"Muestra de 2 pasajeros del Titanic\"},\"xaxis\":{\"gridcolor\":\"#E1E5ED\",\"showgrid\":true,\"tickfont\":{\"color\":\"#4D5663\"},\"title\":{\"font\":{\"color\":\"#4D5663\"},\"text\":\"Nombre\"},\"zerolinecolor\":\"#E1E5ED\"},\"yaxis\":{\"gridcolor\":\"#E1E5ED\",\"showgrid\":true,\"tickfont\":{\"color\":\"#4D5663\"},\"title\":{\"font\":{\"color\":\"#4D5663\"},\"text\":\"Edad\"},\"zerolinecolor\":\"#E1E5ED\"}},                        {\"showLink\": true, \"linkText\": \"Export to plot.ly\", \"plotlyServerURL\": \"https://plot.ly\", \"responsive\": true}                    ).then(function(){\n",
       "                            \n",
       "var gd = document.getElementById('45c6eeba-5496-49f7-b5d9-fdedb9d55b89');\n",
       "var x = new MutationObserver(function (mutations, observer) {{\n",
       "        var display = window.getComputedStyle(gd).display;\n",
       "        if (!display || display === 'none') {{\n",
       "            console.log([gd, 'removed!']);\n",
       "            Plotly.purge(gd);\n",
       "            observer.disconnect();\n",
       "        }}\n",
       "}});\n",
       "\n",
       "// Listen for the removal of the full notebook cells\n",
       "var notebookContainer = gd.closest('#notebook-container');\n",
       "if (notebookContainer) {{\n",
       "    x.observe(notebookContainer, {childList: true});\n",
       "}}\n",
       "\n",
       "// Listen for the clearing of the current output cell\n",
       "var outputEl = gd.closest('.output');\n",
       "if (outputEl) {{\n",
       "    x.observe(outputEl, {childList: true});\n",
       "}}\n",
       "\n",
       "                        })                };                });            </script>        </div>"
      ]
     },
     "metadata": {},
     "output_type": "display_data"
    }
   ],
   "source": [
    "# Barplot o grafico de barras\n",
    "Edad_muestra = Data[Data.index.isin([\"Wick, Miss. Mary Natalie\", \"White, Mr. Percival Wayland\"])]\n",
    "\n",
    "# plotting\n",
    "Edad_muestra.iplot(kind='bar', xTitle='Nombre',\n",
    "                           yTitle='Edad', title='Muestra de 2 pasajeros del Titanic')"
   ]
  },
  {
   "cell_type": "code",
   "execution_count": 7,
   "metadata": {},
   "outputs": [
    {
     "data": {
      "application/vnd.plotly.v1+json": {
       "config": {
        "linkText": "Export to plot.ly",
        "plotlyServerURL": "https://plot.ly",
        "showLink": true
       },
       "data": [
        {
         "boxpoints": false,
         "line": {
          "width": 1.3
         },
         "marker": {
          "color": "rgba(255, 153, 51, 1.0)"
         },
         "name": "female",
         "orientation": "v",
         "type": "box",
         "y": [
          29,
          null,
          2,
          25,
          null,
          63,
          null,
          53,
          18,
          24,
          36,
          null,
          null,
          50,
          32,
          null,
          4,
          null,
          47,
          null,
          null,
          null,
          19,
          35,
          null,
          null,
          null,
          58,
          22,
          24,
          44,
          41,
          null,
          null,
          null,
          null,
          null,
          14,
          null,
          36,
          null,
          null,
          null,
          33,
          30,
          null,
          39,
          null,
          36,
          38,
          null,
          null,
          null,
          17,
          null,
          null,
          48,
          null,
          38,
          54,
          null,
          null,
          24,
          23,
          null,
          null,
          30,
          22,
          null,
          null,
          35,
          null,
          null,
          null,
          null,
          19,
          null,
          58,
          null,
          null,
          null,
          null,
          49,
          null,
          35,
          null,
          null,
          24,
          52,
          16,
          44,
          51,
          null,
          35,
          null,
          50,
          23,
          null,
          null,
          49,
          34,
          null,
          null,
          16,
          null,
          21,
          58,
          57,
          15,
          16,
          null,
          24,
          null,
          null,
          null,
          null,
          33,
          null,
          null,
          null,
          27,
          null,
          null,
          null,
          null,
          31,
          23,
          null,
          19,
          29,
          null,
          null,
          null,
          22,
          null,
          17,
          30,
          null,
          null,
          null,
          56,
          43,
          null,
          null,
          33,
          18,
          21,
          24,
          4,
          24,
          40,
          null,
          null,
          39,
          null,
          null,
          null,
          null,
          40,
          null,
          null,
          52,
          2,
          29,
          null,
          48,
          18,
          null,
          39,
          null,
          null,
          null,
          39,
          27,
          null,
          null,
          60,
          32.5,
          null,
          null,
          31,
          null,
          36
         ]
        },
        {
         "boxpoints": false,
         "line": {
          "width": 1.3
         },
         "marker": {
          "color": "rgba(55, 128, 191, 1.0)"
         },
         "name": "male",
         "orientation": "v",
         "type": "box",
         "y": [
          null,
          0.92,
          null,
          null,
          48,
          null,
          39,
          null,
          null,
          null,
          null,
          80,
          24,
          null,
          null,
          1,
          null,
          37,
          null,
          34,
          26,
          25,
          null,
          null,
          28,
          45,
          40,
          null,
          null,
          null,
          null,
          null,
          45,
          42,
          36,
          33,
          11,
          null,
          36,
          null,
          36,
          46,
          27,
          null,
          null,
          47,
          null,
          70,
          null,
          null,
          51,
          31,
          31,
          null,
          4,
          50,
          null,
          49,
          null,
          null,
          36,
          30,
          null,
          null,
          19,
          64,
          null,
          null,
          60,
          37,
          null,
          47,
          24,
          49,
          71,
          null,
          38,
          null,
          23,
          46,
          25,
          48,
          null,
          45,
          null,
          40,
          27,
          null,
          null,
          null,
          null,
          null,
          38,
          null,
          42,
          null,
          null,
          58,
          42,
          null,
          null,
          35,
          36,
          null,
          29,
          null,
          null,
          null,
          null,
          null,
          19,
          null,
          54,
          36,
          65,
          44,
          null,
          25,
          55,
          6,
          null,
          37,
          2,
          3,
          36.5,
          null,
          null,
          58,
          null,
          null,
          65,
          45.5,
          29,
          null,
          18,
          null,
          null,
          52,
          32,
          47,
          null,
          null,
          31,
          36,
          null,
          null,
          null,
          null,
          null,
          null,
          null,
          35,
          50,
          null,
          56,
          28,
          56,
          19,
          null,
          32,
          62,
          null,
          null,
          null,
          61,
          null,
          null,
          52,
          null,
          48,
          49,
          17,
          null,
          null,
          61,
          47,
          null,
          null,
          54,
          21,
          null,
          27,
          null
         ]
        }
       ],
       "layout": {
        "legend": {
         "bgcolor": "#FFFFFF",
         "font": {
          "color": "#4D5663"
         }
        },
        "paper_bgcolor": "#FFFFFF",
        "plot_bgcolor": "#FFFFFF",
        "template": {
         "data": {
          "bar": [
           {
            "error_x": {
             "color": "#2a3f5f"
            },
            "error_y": {
             "color": "#2a3f5f"
            },
            "marker": {
             "line": {
              "color": "#E5ECF6",
              "width": 0.5
             },
             "pattern": {
              "fillmode": "overlay",
              "size": 10,
              "solidity": 0.2
             }
            },
            "type": "bar"
           }
          ],
          "barpolar": [
           {
            "marker": {
             "line": {
              "color": "#E5ECF6",
              "width": 0.5
             },
             "pattern": {
              "fillmode": "overlay",
              "size": 10,
              "solidity": 0.2
             }
            },
            "type": "barpolar"
           }
          ],
          "carpet": [
           {
            "aaxis": {
             "endlinecolor": "#2a3f5f",
             "gridcolor": "white",
             "linecolor": "white",
             "minorgridcolor": "white",
             "startlinecolor": "#2a3f5f"
            },
            "baxis": {
             "endlinecolor": "#2a3f5f",
             "gridcolor": "white",
             "linecolor": "white",
             "minorgridcolor": "white",
             "startlinecolor": "#2a3f5f"
            },
            "type": "carpet"
           }
          ],
          "choropleth": [
           {
            "colorbar": {
             "outlinewidth": 0,
             "ticks": ""
            },
            "type": "choropleth"
           }
          ],
          "contour": [
           {
            "colorbar": {
             "outlinewidth": 0,
             "ticks": ""
            },
            "colorscale": [
             [
              0,
              "#0d0887"
             ],
             [
              0.1111111111111111,
              "#46039f"
             ],
             [
              0.2222222222222222,
              "#7201a8"
             ],
             [
              0.3333333333333333,
              "#9c179e"
             ],
             [
              0.4444444444444444,
              "#bd3786"
             ],
             [
              0.5555555555555556,
              "#d8576b"
             ],
             [
              0.6666666666666666,
              "#ed7953"
             ],
             [
              0.7777777777777778,
              "#fb9f3a"
             ],
             [
              0.8888888888888888,
              "#fdca26"
             ],
             [
              1,
              "#f0f921"
             ]
            ],
            "type": "contour"
           }
          ],
          "contourcarpet": [
           {
            "colorbar": {
             "outlinewidth": 0,
             "ticks": ""
            },
            "type": "contourcarpet"
           }
          ],
          "heatmap": [
           {
            "colorbar": {
             "outlinewidth": 0,
             "ticks": ""
            },
            "colorscale": [
             [
              0,
              "#0d0887"
             ],
             [
              0.1111111111111111,
              "#46039f"
             ],
             [
              0.2222222222222222,
              "#7201a8"
             ],
             [
              0.3333333333333333,
              "#9c179e"
             ],
             [
              0.4444444444444444,
              "#bd3786"
             ],
             [
              0.5555555555555556,
              "#d8576b"
             ],
             [
              0.6666666666666666,
              "#ed7953"
             ],
             [
              0.7777777777777778,
              "#fb9f3a"
             ],
             [
              0.8888888888888888,
              "#fdca26"
             ],
             [
              1,
              "#f0f921"
             ]
            ],
            "type": "heatmap"
           }
          ],
          "heatmapgl": [
           {
            "colorbar": {
             "outlinewidth": 0,
             "ticks": ""
            },
            "colorscale": [
             [
              0,
              "#0d0887"
             ],
             [
              0.1111111111111111,
              "#46039f"
             ],
             [
              0.2222222222222222,
              "#7201a8"
             ],
             [
              0.3333333333333333,
              "#9c179e"
             ],
             [
              0.4444444444444444,
              "#bd3786"
             ],
             [
              0.5555555555555556,
              "#d8576b"
             ],
             [
              0.6666666666666666,
              "#ed7953"
             ],
             [
              0.7777777777777778,
              "#fb9f3a"
             ],
             [
              0.8888888888888888,
              "#fdca26"
             ],
             [
              1,
              "#f0f921"
             ]
            ],
            "type": "heatmapgl"
           }
          ],
          "histogram": [
           {
            "marker": {
             "pattern": {
              "fillmode": "overlay",
              "size": 10,
              "solidity": 0.2
             }
            },
            "type": "histogram"
           }
          ],
          "histogram2d": [
           {
            "colorbar": {
             "outlinewidth": 0,
             "ticks": ""
            },
            "colorscale": [
             [
              0,
              "#0d0887"
             ],
             [
              0.1111111111111111,
              "#46039f"
             ],
             [
              0.2222222222222222,
              "#7201a8"
             ],
             [
              0.3333333333333333,
              "#9c179e"
             ],
             [
              0.4444444444444444,
              "#bd3786"
             ],
             [
              0.5555555555555556,
              "#d8576b"
             ],
             [
              0.6666666666666666,
              "#ed7953"
             ],
             [
              0.7777777777777778,
              "#fb9f3a"
             ],
             [
              0.8888888888888888,
              "#fdca26"
             ],
             [
              1,
              "#f0f921"
             ]
            ],
            "type": "histogram2d"
           }
          ],
          "histogram2dcontour": [
           {
            "colorbar": {
             "outlinewidth": 0,
             "ticks": ""
            },
            "colorscale": [
             [
              0,
              "#0d0887"
             ],
             [
              0.1111111111111111,
              "#46039f"
             ],
             [
              0.2222222222222222,
              "#7201a8"
             ],
             [
              0.3333333333333333,
              "#9c179e"
             ],
             [
              0.4444444444444444,
              "#bd3786"
             ],
             [
              0.5555555555555556,
              "#d8576b"
             ],
             [
              0.6666666666666666,
              "#ed7953"
             ],
             [
              0.7777777777777778,
              "#fb9f3a"
             ],
             [
              0.8888888888888888,
              "#fdca26"
             ],
             [
              1,
              "#f0f921"
             ]
            ],
            "type": "histogram2dcontour"
           }
          ],
          "mesh3d": [
           {
            "colorbar": {
             "outlinewidth": 0,
             "ticks": ""
            },
            "type": "mesh3d"
           }
          ],
          "parcoords": [
           {
            "line": {
             "colorbar": {
              "outlinewidth": 0,
              "ticks": ""
             }
            },
            "type": "parcoords"
           }
          ],
          "pie": [
           {
            "automargin": true,
            "type": "pie"
           }
          ],
          "scatter": [
           {
            "fillpattern": {
             "fillmode": "overlay",
             "size": 10,
             "solidity": 0.2
            },
            "type": "scatter"
           }
          ],
          "scatter3d": [
           {
            "line": {
             "colorbar": {
              "outlinewidth": 0,
              "ticks": ""
             }
            },
            "marker": {
             "colorbar": {
              "outlinewidth": 0,
              "ticks": ""
             }
            },
            "type": "scatter3d"
           }
          ],
          "scattercarpet": [
           {
            "marker": {
             "colorbar": {
              "outlinewidth": 0,
              "ticks": ""
             }
            },
            "type": "scattercarpet"
           }
          ],
          "scattergeo": [
           {
            "marker": {
             "colorbar": {
              "outlinewidth": 0,
              "ticks": ""
             }
            },
            "type": "scattergeo"
           }
          ],
          "scattergl": [
           {
            "marker": {
             "colorbar": {
              "outlinewidth": 0,
              "ticks": ""
             }
            },
            "type": "scattergl"
           }
          ],
          "scattermapbox": [
           {
            "marker": {
             "colorbar": {
              "outlinewidth": 0,
              "ticks": ""
             }
            },
            "type": "scattermapbox"
           }
          ],
          "scatterpolar": [
           {
            "marker": {
             "colorbar": {
              "outlinewidth": 0,
              "ticks": ""
             }
            },
            "type": "scatterpolar"
           }
          ],
          "scatterpolargl": [
           {
            "marker": {
             "colorbar": {
              "outlinewidth": 0,
              "ticks": ""
             }
            },
            "type": "scatterpolargl"
           }
          ],
          "scatterternary": [
           {
            "marker": {
             "colorbar": {
              "outlinewidth": 0,
              "ticks": ""
             }
            },
            "type": "scatterternary"
           }
          ],
          "surface": [
           {
            "colorbar": {
             "outlinewidth": 0,
             "ticks": ""
            },
            "colorscale": [
             [
              0,
              "#0d0887"
             ],
             [
              0.1111111111111111,
              "#46039f"
             ],
             [
              0.2222222222222222,
              "#7201a8"
             ],
             [
              0.3333333333333333,
              "#9c179e"
             ],
             [
              0.4444444444444444,
              "#bd3786"
             ],
             [
              0.5555555555555556,
              "#d8576b"
             ],
             [
              0.6666666666666666,
              "#ed7953"
             ],
             [
              0.7777777777777778,
              "#fb9f3a"
             ],
             [
              0.8888888888888888,
              "#fdca26"
             ],
             [
              1,
              "#f0f921"
             ]
            ],
            "type": "surface"
           }
          ],
          "table": [
           {
            "cells": {
             "fill": {
              "color": "#EBF0F8"
             },
             "line": {
              "color": "white"
             }
            },
            "header": {
             "fill": {
              "color": "#C8D4E3"
             },
             "line": {
              "color": "white"
             }
            },
            "type": "table"
           }
          ]
         },
         "layout": {
          "annotationdefaults": {
           "arrowcolor": "#2a3f5f",
           "arrowhead": 0,
           "arrowwidth": 1
          },
          "autotypenumbers": "strict",
          "coloraxis": {
           "colorbar": {
            "outlinewidth": 0,
            "ticks": ""
           }
          },
          "colorscale": {
           "diverging": [
            [
             0,
             "#8e0152"
            ],
            [
             0.1,
             "#c51b7d"
            ],
            [
             0.2,
             "#de77ae"
            ],
            [
             0.3,
             "#f1b6da"
            ],
            [
             0.4,
             "#fde0ef"
            ],
            [
             0.5,
             "#f7f7f7"
            ],
            [
             0.6,
             "#e6f5d0"
            ],
            [
             0.7,
             "#b8e186"
            ],
            [
             0.8,
             "#7fbc41"
            ],
            [
             0.9,
             "#4d9221"
            ],
            [
             1,
             "#276419"
            ]
           ],
           "sequential": [
            [
             0,
             "#0d0887"
            ],
            [
             0.1111111111111111,
             "#46039f"
            ],
            [
             0.2222222222222222,
             "#7201a8"
            ],
            [
             0.3333333333333333,
             "#9c179e"
            ],
            [
             0.4444444444444444,
             "#bd3786"
            ],
            [
             0.5555555555555556,
             "#d8576b"
            ],
            [
             0.6666666666666666,
             "#ed7953"
            ],
            [
             0.7777777777777778,
             "#fb9f3a"
            ],
            [
             0.8888888888888888,
             "#fdca26"
            ],
            [
             1,
             "#f0f921"
            ]
           ],
           "sequentialminus": [
            [
             0,
             "#0d0887"
            ],
            [
             0.1111111111111111,
             "#46039f"
            ],
            [
             0.2222222222222222,
             "#7201a8"
            ],
            [
             0.3333333333333333,
             "#9c179e"
            ],
            [
             0.4444444444444444,
             "#bd3786"
            ],
            [
             0.5555555555555556,
             "#d8576b"
            ],
            [
             0.6666666666666666,
             "#ed7953"
            ],
            [
             0.7777777777777778,
             "#fb9f3a"
            ],
            [
             0.8888888888888888,
             "#fdca26"
            ],
            [
             1,
             "#f0f921"
            ]
           ]
          },
          "colorway": [
           "#636efa",
           "#EF553B",
           "#00cc96",
           "#ab63fa",
           "#FFA15A",
           "#19d3f3",
           "#FF6692",
           "#B6E880",
           "#FF97FF",
           "#FECB52"
          ],
          "font": {
           "color": "#2a3f5f"
          },
          "geo": {
           "bgcolor": "white",
           "lakecolor": "white",
           "landcolor": "#E5ECF6",
           "showlakes": true,
           "showland": true,
           "subunitcolor": "white"
          },
          "hoverlabel": {
           "align": "left"
          },
          "hovermode": "closest",
          "mapbox": {
           "style": "light"
          },
          "paper_bgcolor": "white",
          "plot_bgcolor": "#E5ECF6",
          "polar": {
           "angularaxis": {
            "gridcolor": "white",
            "linecolor": "white",
            "ticks": ""
           },
           "bgcolor": "#E5ECF6",
           "radialaxis": {
            "gridcolor": "white",
            "linecolor": "white",
            "ticks": ""
           }
          },
          "scene": {
           "xaxis": {
            "backgroundcolor": "#E5ECF6",
            "gridcolor": "white",
            "gridwidth": 2,
            "linecolor": "white",
            "showbackground": true,
            "ticks": "",
            "zerolinecolor": "white"
           },
           "yaxis": {
            "backgroundcolor": "#E5ECF6",
            "gridcolor": "white",
            "gridwidth": 2,
            "linecolor": "white",
            "showbackground": true,
            "ticks": "",
            "zerolinecolor": "white"
           },
           "zaxis": {
            "backgroundcolor": "#E5ECF6",
            "gridcolor": "white",
            "gridwidth": 2,
            "linecolor": "white",
            "showbackground": true,
            "ticks": "",
            "zerolinecolor": "white"
           }
          },
          "shapedefaults": {
           "line": {
            "color": "#2a3f5f"
           }
          },
          "ternary": {
           "aaxis": {
            "gridcolor": "white",
            "linecolor": "white",
            "ticks": ""
           },
           "baxis": {
            "gridcolor": "white",
            "linecolor": "white",
            "ticks": ""
           },
           "bgcolor": "#E5ECF6",
           "caxis": {
            "gridcolor": "white",
            "linecolor": "white",
            "ticks": ""
           }
          },
          "title": {
           "x": 0.05
          },
          "xaxis": {
           "automargin": true,
           "gridcolor": "white",
           "linecolor": "white",
           "ticks": "",
           "title": {
            "standoff": 15
           },
           "zerolinecolor": "white",
           "zerolinewidth": 2
          },
          "yaxis": {
           "automargin": true,
           "gridcolor": "white",
           "linecolor": "white",
           "ticks": "",
           "title": {
            "standoff": 15
           },
           "zerolinecolor": "white",
           "zerolinewidth": 2
          }
         }
        },
        "title": {
         "font": {
          "color": "#4D5663"
         },
         "text": "Rango de edades de pasajeros del Titanic"
        },
        "xaxis": {
         "gridcolor": "#E1E5ED",
         "showgrid": true,
         "tickfont": {
          "color": "#4D5663"
         },
         "title": {
          "font": {
           "color": "#4D5663"
          },
          "text": "Género"
         },
         "zerolinecolor": "#E1E5ED"
        },
        "yaxis": {
         "gridcolor": "#E1E5ED",
         "showgrid": true,
         "tickfont": {
          "color": "#4D5663"
         },
         "title": {
          "font": {
           "color": "#4D5663"
          },
          "text": "Edad"
         },
         "zerolinecolor": "#E1E5ED"
        }
       }
      },
      "text/html": [
       "<div>                            <div id=\"c8dc673a-15c2-45fe-98e8-fb57f9a07c70\" class=\"plotly-graph-div\" style=\"height:525px; width:100%;\"></div>            <script type=\"text/javascript\">                require([\"plotly\"], function(Plotly) {                    window.PLOTLYENV=window.PLOTLYENV || {};\n",
       "                    window.PLOTLYENV.BASE_URL='https://plot.ly';                                    if (document.getElementById(\"c8dc673a-15c2-45fe-98e8-fb57f9a07c70\")) {                    Plotly.newPlot(                        \"c8dc673a-15c2-45fe-98e8-fb57f9a07c70\",                        [{\"boxpoints\":false,\"line\":{\"width\":1.3},\"marker\":{\"color\":\"rgba(255, 153, 51, 1.0)\"},\"name\":\"female\",\"orientation\":\"v\",\"y\":[29.0,null,2.0,25.0,null,63.0,null,53.0,18.0,24.0,36.0,null,null,50.0,32.0,null,4.0,null,47.0,null,null,null,19.0,35.0,null,null,null,58.0,22.0,24.0,44.0,41.0,null,null,null,null,null,14.0,null,36.0,null,null,null,33.0,30.0,null,39.0,null,36.0,38.0,null,null,null,17.0,null,null,48.0,null,38.0,54.0,null,null,24.0,23.0,null,null,30.0,22.0,null,null,35.0,null,null,null,null,19.0,null,58.0,null,null,null,null,49.0,null,35.0,null,null,24.0,52.0,16.0,44.0,51.0,null,35.0,null,50.0,23.0,null,null,49.0,34.0,null,null,16.0,null,21.0,58.0,57.0,15.0,16.0,null,24.0,null,null,null,null,33.0,null,null,null,27.0,null,null,null,null,31.0,23.0,null,19.0,29.0,null,null,null,22.0,null,17.0,30.0,null,null,null,56.0,43.0,null,null,33.0,18.0,21.0,24.0,4.0,24.0,40.0,null,null,39.0,null,null,null,null,40.0,null,null,52.0,2.0,29.0,null,48.0,18.0,null,39.0,null,null,null,39.0,27.0,null,null,60.0,32.5,null,null,31.0,null,36.0],\"type\":\"box\"},{\"boxpoints\":false,\"line\":{\"width\":1.3},\"marker\":{\"color\":\"rgba(55, 128, 191, 1.0)\"},\"name\":\"male\",\"orientation\":\"v\",\"y\":[null,0.92,null,null,48.0,null,39.0,null,null,null,null,80.0,24.0,null,null,1.0,null,37.0,null,34.0,26.0,25.0,null,null,28.0,45.0,40.0,null,null,null,null,null,45.0,42.0,36.0,33.0,11.0,null,36.0,null,36.0,46.0,27.0,null,null,47.0,null,70.0,null,null,51.0,31.0,31.0,null,4.0,50.0,null,49.0,null,null,36.0,30.0,null,null,19.0,64.0,null,null,60.0,37.0,null,47.0,24.0,49.0,71.0,null,38.0,null,23.0,46.0,25.0,48.0,null,45.0,null,40.0,27.0,null,null,null,null,null,38.0,null,42.0,null,null,58.0,42.0,null,null,35.0,36.0,null,29.0,null,null,null,null,null,19.0,null,54.0,36.0,65.0,44.0,null,25.0,55.0,6.0,null,37.0,2.0,3.0,36.5,null,null,58.0,null,null,65.0,45.5,29.0,null,18.0,null,null,52.0,32.0,47.0,null,null,31.0,36.0,null,null,null,null,null,null,null,35.0,50.0,null,56.0,28.0,56.0,19.0,null,32.0,62.0,null,null,null,61.0,null,null,52.0,null,48.0,49.0,17.0,null,null,61.0,47.0,null,null,54.0,21.0,null,27.0,null],\"type\":\"box\"}],                        {\"legend\":{\"bgcolor\":\"#FFFFFF\",\"font\":{\"color\":\"#4D5663\"}},\"paper_bgcolor\":\"#FFFFFF\",\"plot_bgcolor\":\"#FFFFFF\",\"template\":{\"data\":{\"barpolar\":[{\"marker\":{\"line\":{\"color\":\"#E5ECF6\",\"width\":0.5},\"pattern\":{\"fillmode\":\"overlay\",\"size\":10,\"solidity\":0.2}},\"type\":\"barpolar\"}],\"bar\":[{\"error_x\":{\"color\":\"#2a3f5f\"},\"error_y\":{\"color\":\"#2a3f5f\"},\"marker\":{\"line\":{\"color\":\"#E5ECF6\",\"width\":0.5},\"pattern\":{\"fillmode\":\"overlay\",\"size\":10,\"solidity\":0.2}},\"type\":\"bar\"}],\"carpet\":[{\"aaxis\":{\"endlinecolor\":\"#2a3f5f\",\"gridcolor\":\"white\",\"linecolor\":\"white\",\"minorgridcolor\":\"white\",\"startlinecolor\":\"#2a3f5f\"},\"baxis\":{\"endlinecolor\":\"#2a3f5f\",\"gridcolor\":\"white\",\"linecolor\":\"white\",\"minorgridcolor\":\"white\",\"startlinecolor\":\"#2a3f5f\"},\"type\":\"carpet\"}],\"choropleth\":[{\"colorbar\":{\"outlinewidth\":0,\"ticks\":\"\"},\"type\":\"choropleth\"}],\"contourcarpet\":[{\"colorbar\":{\"outlinewidth\":0,\"ticks\":\"\"},\"type\":\"contourcarpet\"}],\"contour\":[{\"colorbar\":{\"outlinewidth\":0,\"ticks\":\"\"},\"colorscale\":[[0.0,\"#0d0887\"],[0.1111111111111111,\"#46039f\"],[0.2222222222222222,\"#7201a8\"],[0.3333333333333333,\"#9c179e\"],[0.4444444444444444,\"#bd3786\"],[0.5555555555555556,\"#d8576b\"],[0.6666666666666666,\"#ed7953\"],[0.7777777777777778,\"#fb9f3a\"],[0.8888888888888888,\"#fdca26\"],[1.0,\"#f0f921\"]],\"type\":\"contour\"}],\"heatmapgl\":[{\"colorbar\":{\"outlinewidth\":0,\"ticks\":\"\"},\"colorscale\":[[0.0,\"#0d0887\"],[0.1111111111111111,\"#46039f\"],[0.2222222222222222,\"#7201a8\"],[0.3333333333333333,\"#9c179e\"],[0.4444444444444444,\"#bd3786\"],[0.5555555555555556,\"#d8576b\"],[0.6666666666666666,\"#ed7953\"],[0.7777777777777778,\"#fb9f3a\"],[0.8888888888888888,\"#fdca26\"],[1.0,\"#f0f921\"]],\"type\":\"heatmapgl\"}],\"heatmap\":[{\"colorbar\":{\"outlinewidth\":0,\"ticks\":\"\"},\"colorscale\":[[0.0,\"#0d0887\"],[0.1111111111111111,\"#46039f\"],[0.2222222222222222,\"#7201a8\"],[0.3333333333333333,\"#9c179e\"],[0.4444444444444444,\"#bd3786\"],[0.5555555555555556,\"#d8576b\"],[0.6666666666666666,\"#ed7953\"],[0.7777777777777778,\"#fb9f3a\"],[0.8888888888888888,\"#fdca26\"],[1.0,\"#f0f921\"]],\"type\":\"heatmap\"}],\"histogram2dcontour\":[{\"colorbar\":{\"outlinewidth\":0,\"ticks\":\"\"},\"colorscale\":[[0.0,\"#0d0887\"],[0.1111111111111111,\"#46039f\"],[0.2222222222222222,\"#7201a8\"],[0.3333333333333333,\"#9c179e\"],[0.4444444444444444,\"#bd3786\"],[0.5555555555555556,\"#d8576b\"],[0.6666666666666666,\"#ed7953\"],[0.7777777777777778,\"#fb9f3a\"],[0.8888888888888888,\"#fdca26\"],[1.0,\"#f0f921\"]],\"type\":\"histogram2dcontour\"}],\"histogram2d\":[{\"colorbar\":{\"outlinewidth\":0,\"ticks\":\"\"},\"colorscale\":[[0.0,\"#0d0887\"],[0.1111111111111111,\"#46039f\"],[0.2222222222222222,\"#7201a8\"],[0.3333333333333333,\"#9c179e\"],[0.4444444444444444,\"#bd3786\"],[0.5555555555555556,\"#d8576b\"],[0.6666666666666666,\"#ed7953\"],[0.7777777777777778,\"#fb9f3a\"],[0.8888888888888888,\"#fdca26\"],[1.0,\"#f0f921\"]],\"type\":\"histogram2d\"}],\"histogram\":[{\"marker\":{\"pattern\":{\"fillmode\":\"overlay\",\"size\":10,\"solidity\":0.2}},\"type\":\"histogram\"}],\"mesh3d\":[{\"colorbar\":{\"outlinewidth\":0,\"ticks\":\"\"},\"type\":\"mesh3d\"}],\"parcoords\":[{\"line\":{\"colorbar\":{\"outlinewidth\":0,\"ticks\":\"\"}},\"type\":\"parcoords\"}],\"pie\":[{\"automargin\":true,\"type\":\"pie\"}],\"scatter3d\":[{\"line\":{\"colorbar\":{\"outlinewidth\":0,\"ticks\":\"\"}},\"marker\":{\"colorbar\":{\"outlinewidth\":0,\"ticks\":\"\"}},\"type\":\"scatter3d\"}],\"scattercarpet\":[{\"marker\":{\"colorbar\":{\"outlinewidth\":0,\"ticks\":\"\"}},\"type\":\"scattercarpet\"}],\"scattergeo\":[{\"marker\":{\"colorbar\":{\"outlinewidth\":0,\"ticks\":\"\"}},\"type\":\"scattergeo\"}],\"scattergl\":[{\"marker\":{\"colorbar\":{\"outlinewidth\":0,\"ticks\":\"\"}},\"type\":\"scattergl\"}],\"scattermapbox\":[{\"marker\":{\"colorbar\":{\"outlinewidth\":0,\"ticks\":\"\"}},\"type\":\"scattermapbox\"}],\"scatterpolargl\":[{\"marker\":{\"colorbar\":{\"outlinewidth\":0,\"ticks\":\"\"}},\"type\":\"scatterpolargl\"}],\"scatterpolar\":[{\"marker\":{\"colorbar\":{\"outlinewidth\":0,\"ticks\":\"\"}},\"type\":\"scatterpolar\"}],\"scatter\":[{\"fillpattern\":{\"fillmode\":\"overlay\",\"size\":10,\"solidity\":0.2},\"type\":\"scatter\"}],\"scatterternary\":[{\"marker\":{\"colorbar\":{\"outlinewidth\":0,\"ticks\":\"\"}},\"type\":\"scatterternary\"}],\"surface\":[{\"colorbar\":{\"outlinewidth\":0,\"ticks\":\"\"},\"colorscale\":[[0.0,\"#0d0887\"],[0.1111111111111111,\"#46039f\"],[0.2222222222222222,\"#7201a8\"],[0.3333333333333333,\"#9c179e\"],[0.4444444444444444,\"#bd3786\"],[0.5555555555555556,\"#d8576b\"],[0.6666666666666666,\"#ed7953\"],[0.7777777777777778,\"#fb9f3a\"],[0.8888888888888888,\"#fdca26\"],[1.0,\"#f0f921\"]],\"type\":\"surface\"}],\"table\":[{\"cells\":{\"fill\":{\"color\":\"#EBF0F8\"},\"line\":{\"color\":\"white\"}},\"header\":{\"fill\":{\"color\":\"#C8D4E3\"},\"line\":{\"color\":\"white\"}},\"type\":\"table\"}]},\"layout\":{\"annotationdefaults\":{\"arrowcolor\":\"#2a3f5f\",\"arrowhead\":0,\"arrowwidth\":1},\"autotypenumbers\":\"strict\",\"coloraxis\":{\"colorbar\":{\"outlinewidth\":0,\"ticks\":\"\"}},\"colorscale\":{\"diverging\":[[0,\"#8e0152\"],[0.1,\"#c51b7d\"],[0.2,\"#de77ae\"],[0.3,\"#f1b6da\"],[0.4,\"#fde0ef\"],[0.5,\"#f7f7f7\"],[0.6,\"#e6f5d0\"],[0.7,\"#b8e186\"],[0.8,\"#7fbc41\"],[0.9,\"#4d9221\"],[1,\"#276419\"]],\"sequential\":[[0.0,\"#0d0887\"],[0.1111111111111111,\"#46039f\"],[0.2222222222222222,\"#7201a8\"],[0.3333333333333333,\"#9c179e\"],[0.4444444444444444,\"#bd3786\"],[0.5555555555555556,\"#d8576b\"],[0.6666666666666666,\"#ed7953\"],[0.7777777777777778,\"#fb9f3a\"],[0.8888888888888888,\"#fdca26\"],[1.0,\"#f0f921\"]],\"sequentialminus\":[[0.0,\"#0d0887\"],[0.1111111111111111,\"#46039f\"],[0.2222222222222222,\"#7201a8\"],[0.3333333333333333,\"#9c179e\"],[0.4444444444444444,\"#bd3786\"],[0.5555555555555556,\"#d8576b\"],[0.6666666666666666,\"#ed7953\"],[0.7777777777777778,\"#fb9f3a\"],[0.8888888888888888,\"#fdca26\"],[1.0,\"#f0f921\"]]},\"colorway\":[\"#636efa\",\"#EF553B\",\"#00cc96\",\"#ab63fa\",\"#FFA15A\",\"#19d3f3\",\"#FF6692\",\"#B6E880\",\"#FF97FF\",\"#FECB52\"],\"font\":{\"color\":\"#2a3f5f\"},\"geo\":{\"bgcolor\":\"white\",\"lakecolor\":\"white\",\"landcolor\":\"#E5ECF6\",\"showlakes\":true,\"showland\":true,\"subunitcolor\":\"white\"},\"hoverlabel\":{\"align\":\"left\"},\"hovermode\":\"closest\",\"mapbox\":{\"style\":\"light\"},\"paper_bgcolor\":\"white\",\"plot_bgcolor\":\"#E5ECF6\",\"polar\":{\"angularaxis\":{\"gridcolor\":\"white\",\"linecolor\":\"white\",\"ticks\":\"\"},\"bgcolor\":\"#E5ECF6\",\"radialaxis\":{\"gridcolor\":\"white\",\"linecolor\":\"white\",\"ticks\":\"\"}},\"scene\":{\"xaxis\":{\"backgroundcolor\":\"#E5ECF6\",\"gridcolor\":\"white\",\"gridwidth\":2,\"linecolor\":\"white\",\"showbackground\":true,\"ticks\":\"\",\"zerolinecolor\":\"white\"},\"yaxis\":{\"backgroundcolor\":\"#E5ECF6\",\"gridcolor\":\"white\",\"gridwidth\":2,\"linecolor\":\"white\",\"showbackground\":true,\"ticks\":\"\",\"zerolinecolor\":\"white\"},\"zaxis\":{\"backgroundcolor\":\"#E5ECF6\",\"gridcolor\":\"white\",\"gridwidth\":2,\"linecolor\":\"white\",\"showbackground\":true,\"ticks\":\"\",\"zerolinecolor\":\"white\"}},\"shapedefaults\":{\"line\":{\"color\":\"#2a3f5f\"}},\"ternary\":{\"aaxis\":{\"gridcolor\":\"white\",\"linecolor\":\"white\",\"ticks\":\"\"},\"baxis\":{\"gridcolor\":\"white\",\"linecolor\":\"white\",\"ticks\":\"\"},\"bgcolor\":\"#E5ECF6\",\"caxis\":{\"gridcolor\":\"white\",\"linecolor\":\"white\",\"ticks\":\"\"}},\"title\":{\"x\":0.05},\"xaxis\":{\"automargin\":true,\"gridcolor\":\"white\",\"linecolor\":\"white\",\"ticks\":\"\",\"title\":{\"standoff\":15},\"zerolinecolor\":\"white\",\"zerolinewidth\":2},\"yaxis\":{\"automargin\":true,\"gridcolor\":\"white\",\"linecolor\":\"white\",\"ticks\":\"\",\"title\":{\"standoff\":15},\"zerolinecolor\":\"white\",\"zerolinewidth\":2}}},\"title\":{\"font\":{\"color\":\"#4D5663\"},\"text\":\"Rango de edades de pasajeros del Titanic\"},\"xaxis\":{\"gridcolor\":\"#E1E5ED\",\"showgrid\":true,\"tickfont\":{\"color\":\"#4D5663\"},\"title\":{\"font\":{\"color\":\"#4D5663\"},\"text\":\"G\\u00e9nero\"},\"zerolinecolor\":\"#E1E5ED\"},\"yaxis\":{\"gridcolor\":\"#E1E5ED\",\"showgrid\":true,\"tickfont\":{\"color\":\"#4D5663\"},\"title\":{\"font\":{\"color\":\"#4D5663\"},\"text\":\"Edad\"},\"zerolinecolor\":\"#E1E5ED\"}},                        {\"showLink\": true, \"linkText\": \"Export to plot.ly\", \"plotlyServerURL\": \"https://plot.ly\", \"responsive\": true}                    ).then(function(){\n",
       "                            \n",
       "var gd = document.getElementById('c8dc673a-15c2-45fe-98e8-fb57f9a07c70');\n",
       "var x = new MutationObserver(function (mutations, observer) {{\n",
       "        var display = window.getComputedStyle(gd).display;\n",
       "        if (!display || display === 'none') {{\n",
       "            console.log([gd, 'removed!']);\n",
       "            Plotly.purge(gd);\n",
       "            observer.disconnect();\n",
       "        }}\n",
       "}});\n",
       "\n",
       "// Listen for the removal of the full notebook cells\n",
       "var notebookContainer = gd.closest('#notebook-container');\n",
       "if (notebookContainer) {{\n",
       "    x.observe(notebookContainer, {childList: true});\n",
       "}}\n",
       "\n",
       "// Listen for the clearing of the current output cell\n",
       "var outputEl = gd.closest('.output');\n",
       "if (outputEl) {{\n",
       "    x.observe(outputEl, {childList: true});\n",
       "}}\n",
       "\n",
       "                        })                };                });            </script>        </div>"
      ]
     },
     "metadata": {},
     "output_type": "display_data"
    }
   ],
   "source": [
    "# Boxplot o grafico de caja\n",
    "\n",
    "Data.iplot(kind='box', xTitle='Género',\n",
    "                    yTitle='Edad', title='Rango de edades de pasajeros del Titanic')\n"
   ]
  },
  {
   "cell_type": "code",
   "execution_count": 8,
   "metadata": {},
   "outputs": [
    {
     "data": {
      "application/vnd.plotly.v1+json": {
       "config": {
        "linkText": "Export to plot.ly",
        "plotlyServerURL": "https://plot.ly",
        "showLink": true
       },
       "data": [
        {
         "histfunc": "count",
         "histnorm": "",
         "marker": {
          "color": "rgba(255, 153, 51, 1.0)",
          "line": {
           "color": "#4D5663",
           "width": 1.3
          }
         },
         "name": "female",
         "opacity": 0.8,
         "orientation": "v",
         "type": "histogram",
         "x": [
          29,
          null,
          2,
          25,
          null,
          63,
          null,
          53,
          18,
          24,
          36,
          null,
          null,
          50,
          32,
          null,
          4,
          null,
          47,
          null,
          null,
          null,
          19,
          35,
          null,
          null,
          null,
          58,
          22,
          24,
          44,
          41,
          null,
          null,
          null,
          null,
          null,
          14,
          null,
          36,
          null,
          null,
          null,
          33,
          30,
          null,
          39,
          null,
          36,
          38,
          null,
          null,
          null,
          17,
          null,
          null,
          48,
          null,
          38,
          54,
          null,
          null,
          24,
          23,
          null,
          null,
          30,
          22,
          null,
          null,
          35,
          null,
          null,
          null,
          null,
          19,
          null,
          58,
          null,
          null,
          null,
          null,
          49,
          null,
          35,
          null,
          null,
          24,
          52,
          16,
          44,
          51,
          null,
          35,
          null,
          50,
          23,
          null,
          null,
          49,
          34,
          null,
          null,
          16,
          null,
          21,
          58,
          57,
          15,
          16,
          null,
          24,
          null,
          null,
          null,
          null,
          33,
          null,
          null,
          null,
          27,
          null,
          null,
          null,
          null,
          31,
          23,
          null,
          19,
          29,
          null,
          null,
          null,
          22,
          null,
          17,
          30,
          null,
          null,
          null,
          56,
          43,
          null,
          null,
          33,
          18,
          21,
          24,
          4,
          24,
          40,
          null,
          null,
          39,
          null,
          null,
          null,
          null,
          40,
          null,
          null,
          52,
          2,
          29,
          null,
          48,
          18,
          null,
          39,
          null,
          null,
          null,
          39,
          27,
          null,
          null,
          60,
          32.5,
          null,
          null,
          31,
          null,
          36
         ]
        }
       ],
       "layout": {
        "barmode": "overlay",
        "legend": {
         "bgcolor": "#FFFFFF",
         "font": {
          "color": "#4D5663"
         }
        },
        "paper_bgcolor": "#FFFFFF",
        "plot_bgcolor": "#FFFFFF",
        "template": {
         "data": {
          "bar": [
           {
            "error_x": {
             "color": "#2a3f5f"
            },
            "error_y": {
             "color": "#2a3f5f"
            },
            "marker": {
             "line": {
              "color": "#E5ECF6",
              "width": 0.5
             },
             "pattern": {
              "fillmode": "overlay",
              "size": 10,
              "solidity": 0.2
             }
            },
            "type": "bar"
           }
          ],
          "barpolar": [
           {
            "marker": {
             "line": {
              "color": "#E5ECF6",
              "width": 0.5
             },
             "pattern": {
              "fillmode": "overlay",
              "size": 10,
              "solidity": 0.2
             }
            },
            "type": "barpolar"
           }
          ],
          "carpet": [
           {
            "aaxis": {
             "endlinecolor": "#2a3f5f",
             "gridcolor": "white",
             "linecolor": "white",
             "minorgridcolor": "white",
             "startlinecolor": "#2a3f5f"
            },
            "baxis": {
             "endlinecolor": "#2a3f5f",
             "gridcolor": "white",
             "linecolor": "white",
             "minorgridcolor": "white",
             "startlinecolor": "#2a3f5f"
            },
            "type": "carpet"
           }
          ],
          "choropleth": [
           {
            "colorbar": {
             "outlinewidth": 0,
             "ticks": ""
            },
            "type": "choropleth"
           }
          ],
          "contour": [
           {
            "colorbar": {
             "outlinewidth": 0,
             "ticks": ""
            },
            "colorscale": [
             [
              0,
              "#0d0887"
             ],
             [
              0.1111111111111111,
              "#46039f"
             ],
             [
              0.2222222222222222,
              "#7201a8"
             ],
             [
              0.3333333333333333,
              "#9c179e"
             ],
             [
              0.4444444444444444,
              "#bd3786"
             ],
             [
              0.5555555555555556,
              "#d8576b"
             ],
             [
              0.6666666666666666,
              "#ed7953"
             ],
             [
              0.7777777777777778,
              "#fb9f3a"
             ],
             [
              0.8888888888888888,
              "#fdca26"
             ],
             [
              1,
              "#f0f921"
             ]
            ],
            "type": "contour"
           }
          ],
          "contourcarpet": [
           {
            "colorbar": {
             "outlinewidth": 0,
             "ticks": ""
            },
            "type": "contourcarpet"
           }
          ],
          "heatmap": [
           {
            "colorbar": {
             "outlinewidth": 0,
             "ticks": ""
            },
            "colorscale": [
             [
              0,
              "#0d0887"
             ],
             [
              0.1111111111111111,
              "#46039f"
             ],
             [
              0.2222222222222222,
              "#7201a8"
             ],
             [
              0.3333333333333333,
              "#9c179e"
             ],
             [
              0.4444444444444444,
              "#bd3786"
             ],
             [
              0.5555555555555556,
              "#d8576b"
             ],
             [
              0.6666666666666666,
              "#ed7953"
             ],
             [
              0.7777777777777778,
              "#fb9f3a"
             ],
             [
              0.8888888888888888,
              "#fdca26"
             ],
             [
              1,
              "#f0f921"
             ]
            ],
            "type": "heatmap"
           }
          ],
          "heatmapgl": [
           {
            "colorbar": {
             "outlinewidth": 0,
             "ticks": ""
            },
            "colorscale": [
             [
              0,
              "#0d0887"
             ],
             [
              0.1111111111111111,
              "#46039f"
             ],
             [
              0.2222222222222222,
              "#7201a8"
             ],
             [
              0.3333333333333333,
              "#9c179e"
             ],
             [
              0.4444444444444444,
              "#bd3786"
             ],
             [
              0.5555555555555556,
              "#d8576b"
             ],
             [
              0.6666666666666666,
              "#ed7953"
             ],
             [
              0.7777777777777778,
              "#fb9f3a"
             ],
             [
              0.8888888888888888,
              "#fdca26"
             ],
             [
              1,
              "#f0f921"
             ]
            ],
            "type": "heatmapgl"
           }
          ],
          "histogram": [
           {
            "marker": {
             "pattern": {
              "fillmode": "overlay",
              "size": 10,
              "solidity": 0.2
             }
            },
            "type": "histogram"
           }
          ],
          "histogram2d": [
           {
            "colorbar": {
             "outlinewidth": 0,
             "ticks": ""
            },
            "colorscale": [
             [
              0,
              "#0d0887"
             ],
             [
              0.1111111111111111,
              "#46039f"
             ],
             [
              0.2222222222222222,
              "#7201a8"
             ],
             [
              0.3333333333333333,
              "#9c179e"
             ],
             [
              0.4444444444444444,
              "#bd3786"
             ],
             [
              0.5555555555555556,
              "#d8576b"
             ],
             [
              0.6666666666666666,
              "#ed7953"
             ],
             [
              0.7777777777777778,
              "#fb9f3a"
             ],
             [
              0.8888888888888888,
              "#fdca26"
             ],
             [
              1,
              "#f0f921"
             ]
            ],
            "type": "histogram2d"
           }
          ],
          "histogram2dcontour": [
           {
            "colorbar": {
             "outlinewidth": 0,
             "ticks": ""
            },
            "colorscale": [
             [
              0,
              "#0d0887"
             ],
             [
              0.1111111111111111,
              "#46039f"
             ],
             [
              0.2222222222222222,
              "#7201a8"
             ],
             [
              0.3333333333333333,
              "#9c179e"
             ],
             [
              0.4444444444444444,
              "#bd3786"
             ],
             [
              0.5555555555555556,
              "#d8576b"
             ],
             [
              0.6666666666666666,
              "#ed7953"
             ],
             [
              0.7777777777777778,
              "#fb9f3a"
             ],
             [
              0.8888888888888888,
              "#fdca26"
             ],
             [
              1,
              "#f0f921"
             ]
            ],
            "type": "histogram2dcontour"
           }
          ],
          "mesh3d": [
           {
            "colorbar": {
             "outlinewidth": 0,
             "ticks": ""
            },
            "type": "mesh3d"
           }
          ],
          "parcoords": [
           {
            "line": {
             "colorbar": {
              "outlinewidth": 0,
              "ticks": ""
             }
            },
            "type": "parcoords"
           }
          ],
          "pie": [
           {
            "automargin": true,
            "type": "pie"
           }
          ],
          "scatter": [
           {
            "fillpattern": {
             "fillmode": "overlay",
             "size": 10,
             "solidity": 0.2
            },
            "type": "scatter"
           }
          ],
          "scatter3d": [
           {
            "line": {
             "colorbar": {
              "outlinewidth": 0,
              "ticks": ""
             }
            },
            "marker": {
             "colorbar": {
              "outlinewidth": 0,
              "ticks": ""
             }
            },
            "type": "scatter3d"
           }
          ],
          "scattercarpet": [
           {
            "marker": {
             "colorbar": {
              "outlinewidth": 0,
              "ticks": ""
             }
            },
            "type": "scattercarpet"
           }
          ],
          "scattergeo": [
           {
            "marker": {
             "colorbar": {
              "outlinewidth": 0,
              "ticks": ""
             }
            },
            "type": "scattergeo"
           }
          ],
          "scattergl": [
           {
            "marker": {
             "colorbar": {
              "outlinewidth": 0,
              "ticks": ""
             }
            },
            "type": "scattergl"
           }
          ],
          "scattermapbox": [
           {
            "marker": {
             "colorbar": {
              "outlinewidth": 0,
              "ticks": ""
             }
            },
            "type": "scattermapbox"
           }
          ],
          "scatterpolar": [
           {
            "marker": {
             "colorbar": {
              "outlinewidth": 0,
              "ticks": ""
             }
            },
            "type": "scatterpolar"
           }
          ],
          "scatterpolargl": [
           {
            "marker": {
             "colorbar": {
              "outlinewidth": 0,
              "ticks": ""
             }
            },
            "type": "scatterpolargl"
           }
          ],
          "scatterternary": [
           {
            "marker": {
             "colorbar": {
              "outlinewidth": 0,
              "ticks": ""
             }
            },
            "type": "scatterternary"
           }
          ],
          "surface": [
           {
            "colorbar": {
             "outlinewidth": 0,
             "ticks": ""
            },
            "colorscale": [
             [
              0,
              "#0d0887"
             ],
             [
              0.1111111111111111,
              "#46039f"
             ],
             [
              0.2222222222222222,
              "#7201a8"
             ],
             [
              0.3333333333333333,
              "#9c179e"
             ],
             [
              0.4444444444444444,
              "#bd3786"
             ],
             [
              0.5555555555555556,
              "#d8576b"
             ],
             [
              0.6666666666666666,
              "#ed7953"
             ],
             [
              0.7777777777777778,
              "#fb9f3a"
             ],
             [
              0.8888888888888888,
              "#fdca26"
             ],
             [
              1,
              "#f0f921"
             ]
            ],
            "type": "surface"
           }
          ],
          "table": [
           {
            "cells": {
             "fill": {
              "color": "#EBF0F8"
             },
             "line": {
              "color": "white"
             }
            },
            "header": {
             "fill": {
              "color": "#C8D4E3"
             },
             "line": {
              "color": "white"
             }
            },
            "type": "table"
           }
          ]
         },
         "layout": {
          "annotationdefaults": {
           "arrowcolor": "#2a3f5f",
           "arrowhead": 0,
           "arrowwidth": 1
          },
          "autotypenumbers": "strict",
          "coloraxis": {
           "colorbar": {
            "outlinewidth": 0,
            "ticks": ""
           }
          },
          "colorscale": {
           "diverging": [
            [
             0,
             "#8e0152"
            ],
            [
             0.1,
             "#c51b7d"
            ],
            [
             0.2,
             "#de77ae"
            ],
            [
             0.3,
             "#f1b6da"
            ],
            [
             0.4,
             "#fde0ef"
            ],
            [
             0.5,
             "#f7f7f7"
            ],
            [
             0.6,
             "#e6f5d0"
            ],
            [
             0.7,
             "#b8e186"
            ],
            [
             0.8,
             "#7fbc41"
            ],
            [
             0.9,
             "#4d9221"
            ],
            [
             1,
             "#276419"
            ]
           ],
           "sequential": [
            [
             0,
             "#0d0887"
            ],
            [
             0.1111111111111111,
             "#46039f"
            ],
            [
             0.2222222222222222,
             "#7201a8"
            ],
            [
             0.3333333333333333,
             "#9c179e"
            ],
            [
             0.4444444444444444,
             "#bd3786"
            ],
            [
             0.5555555555555556,
             "#d8576b"
            ],
            [
             0.6666666666666666,
             "#ed7953"
            ],
            [
             0.7777777777777778,
             "#fb9f3a"
            ],
            [
             0.8888888888888888,
             "#fdca26"
            ],
            [
             1,
             "#f0f921"
            ]
           ],
           "sequentialminus": [
            [
             0,
             "#0d0887"
            ],
            [
             0.1111111111111111,
             "#46039f"
            ],
            [
             0.2222222222222222,
             "#7201a8"
            ],
            [
             0.3333333333333333,
             "#9c179e"
            ],
            [
             0.4444444444444444,
             "#bd3786"
            ],
            [
             0.5555555555555556,
             "#d8576b"
            ],
            [
             0.6666666666666666,
             "#ed7953"
            ],
            [
             0.7777777777777778,
             "#fb9f3a"
            ],
            [
             0.8888888888888888,
             "#fdca26"
            ],
            [
             1,
             "#f0f921"
            ]
           ]
          },
          "colorway": [
           "#636efa",
           "#EF553B",
           "#00cc96",
           "#ab63fa",
           "#FFA15A",
           "#19d3f3",
           "#FF6692",
           "#B6E880",
           "#FF97FF",
           "#FECB52"
          ],
          "font": {
           "color": "#2a3f5f"
          },
          "geo": {
           "bgcolor": "white",
           "lakecolor": "white",
           "landcolor": "#E5ECF6",
           "showlakes": true,
           "showland": true,
           "subunitcolor": "white"
          },
          "hoverlabel": {
           "align": "left"
          },
          "hovermode": "closest",
          "mapbox": {
           "style": "light"
          },
          "paper_bgcolor": "white",
          "plot_bgcolor": "#E5ECF6",
          "polar": {
           "angularaxis": {
            "gridcolor": "white",
            "linecolor": "white",
            "ticks": ""
           },
           "bgcolor": "#E5ECF6",
           "radialaxis": {
            "gridcolor": "white",
            "linecolor": "white",
            "ticks": ""
           }
          },
          "scene": {
           "xaxis": {
            "backgroundcolor": "#E5ECF6",
            "gridcolor": "white",
            "gridwidth": 2,
            "linecolor": "white",
            "showbackground": true,
            "ticks": "",
            "zerolinecolor": "white"
           },
           "yaxis": {
            "backgroundcolor": "#E5ECF6",
            "gridcolor": "white",
            "gridwidth": 2,
            "linecolor": "white",
            "showbackground": true,
            "ticks": "",
            "zerolinecolor": "white"
           },
           "zaxis": {
            "backgroundcolor": "#E5ECF6",
            "gridcolor": "white",
            "gridwidth": 2,
            "linecolor": "white",
            "showbackground": true,
            "ticks": "",
            "zerolinecolor": "white"
           }
          },
          "shapedefaults": {
           "line": {
            "color": "#2a3f5f"
           }
          },
          "ternary": {
           "aaxis": {
            "gridcolor": "white",
            "linecolor": "white",
            "ticks": ""
           },
           "baxis": {
            "gridcolor": "white",
            "linecolor": "white",
            "ticks": ""
           },
           "bgcolor": "#E5ECF6",
           "caxis": {
            "gridcolor": "white",
            "linecolor": "white",
            "ticks": ""
           }
          },
          "title": {
           "x": 0.05
          },
          "xaxis": {
           "automargin": true,
           "gridcolor": "white",
           "linecolor": "white",
           "ticks": "",
           "title": {
            "standoff": 15
           },
           "zerolinecolor": "white",
           "zerolinewidth": 2
          },
          "yaxis": {
           "automargin": true,
           "gridcolor": "white",
           "linecolor": "white",
           "ticks": "",
           "title": {
            "standoff": 15
           },
           "zerolinecolor": "white",
           "zerolinewidth": 2
          }
         }
        },
        "title": {
         "font": {
          "color": "#4D5663"
         },
         "text": "Distibución de edades de pasajeras del Titanic"
        },
        "xaxis": {
         "gridcolor": "#E1E5ED",
         "showgrid": true,
         "tickfont": {
          "color": "#4D5663"
         },
         "title": {
          "font": {
           "color": "#4D5663"
          },
          "text": "Population"
         },
         "zerolinecolor": "#E1E5ED"
        },
        "yaxis": {
         "gridcolor": "#E1E5ED",
         "showgrid": true,
         "tickfont": {
          "color": "#4D5663"
         },
         "title": {
          "font": {
           "color": "#4D5663"
          },
          "text": ""
         },
         "zerolinecolor": "#E1E5ED"
        }
       }
      },
      "text/html": [
       "<div>                            <div id=\"f532f7f6-37c9-46ff-993f-510cfd52891b\" class=\"plotly-graph-div\" style=\"height:525px; width:100%;\"></div>            <script type=\"text/javascript\">                require([\"plotly\"], function(Plotly) {                    window.PLOTLYENV=window.PLOTLYENV || {};\n",
       "                    window.PLOTLYENV.BASE_URL='https://plot.ly';                                    if (document.getElementById(\"f532f7f6-37c9-46ff-993f-510cfd52891b\")) {                    Plotly.newPlot(                        \"f532f7f6-37c9-46ff-993f-510cfd52891b\",                        [{\"histfunc\":\"count\",\"histnorm\":\"\",\"marker\":{\"color\":\"rgba(255, 153, 51, 1.0)\",\"line\":{\"color\":\"#4D5663\",\"width\":1.3}},\"name\":\"female\",\"opacity\":0.8,\"orientation\":\"v\",\"x\":[29.0,null,2.0,25.0,null,63.0,null,53.0,18.0,24.0,36.0,null,null,50.0,32.0,null,4.0,null,47.0,null,null,null,19.0,35.0,null,null,null,58.0,22.0,24.0,44.0,41.0,null,null,null,null,null,14.0,null,36.0,null,null,null,33.0,30.0,null,39.0,null,36.0,38.0,null,null,null,17.0,null,null,48.0,null,38.0,54.0,null,null,24.0,23.0,null,null,30.0,22.0,null,null,35.0,null,null,null,null,19.0,null,58.0,null,null,null,null,49.0,null,35.0,null,null,24.0,52.0,16.0,44.0,51.0,null,35.0,null,50.0,23.0,null,null,49.0,34.0,null,null,16.0,null,21.0,58.0,57.0,15.0,16.0,null,24.0,null,null,null,null,33.0,null,null,null,27.0,null,null,null,null,31.0,23.0,null,19.0,29.0,null,null,null,22.0,null,17.0,30.0,null,null,null,56.0,43.0,null,null,33.0,18.0,21.0,24.0,4.0,24.0,40.0,null,null,39.0,null,null,null,null,40.0,null,null,52.0,2.0,29.0,null,48.0,18.0,null,39.0,null,null,null,39.0,27.0,null,null,60.0,32.5,null,null,31.0,null,36.0],\"type\":\"histogram\"}],                        {\"barmode\":\"overlay\",\"legend\":{\"bgcolor\":\"#FFFFFF\",\"font\":{\"color\":\"#4D5663\"}},\"paper_bgcolor\":\"#FFFFFF\",\"plot_bgcolor\":\"#FFFFFF\",\"template\":{\"data\":{\"barpolar\":[{\"marker\":{\"line\":{\"color\":\"#E5ECF6\",\"width\":0.5},\"pattern\":{\"fillmode\":\"overlay\",\"size\":10,\"solidity\":0.2}},\"type\":\"barpolar\"}],\"bar\":[{\"error_x\":{\"color\":\"#2a3f5f\"},\"error_y\":{\"color\":\"#2a3f5f\"},\"marker\":{\"line\":{\"color\":\"#E5ECF6\",\"width\":0.5},\"pattern\":{\"fillmode\":\"overlay\",\"size\":10,\"solidity\":0.2}},\"type\":\"bar\"}],\"carpet\":[{\"aaxis\":{\"endlinecolor\":\"#2a3f5f\",\"gridcolor\":\"white\",\"linecolor\":\"white\",\"minorgridcolor\":\"white\",\"startlinecolor\":\"#2a3f5f\"},\"baxis\":{\"endlinecolor\":\"#2a3f5f\",\"gridcolor\":\"white\",\"linecolor\":\"white\",\"minorgridcolor\":\"white\",\"startlinecolor\":\"#2a3f5f\"},\"type\":\"carpet\"}],\"choropleth\":[{\"colorbar\":{\"outlinewidth\":0,\"ticks\":\"\"},\"type\":\"choropleth\"}],\"contourcarpet\":[{\"colorbar\":{\"outlinewidth\":0,\"ticks\":\"\"},\"type\":\"contourcarpet\"}],\"contour\":[{\"colorbar\":{\"outlinewidth\":0,\"ticks\":\"\"},\"colorscale\":[[0.0,\"#0d0887\"],[0.1111111111111111,\"#46039f\"],[0.2222222222222222,\"#7201a8\"],[0.3333333333333333,\"#9c179e\"],[0.4444444444444444,\"#bd3786\"],[0.5555555555555556,\"#d8576b\"],[0.6666666666666666,\"#ed7953\"],[0.7777777777777778,\"#fb9f3a\"],[0.8888888888888888,\"#fdca26\"],[1.0,\"#f0f921\"]],\"type\":\"contour\"}],\"heatmapgl\":[{\"colorbar\":{\"outlinewidth\":0,\"ticks\":\"\"},\"colorscale\":[[0.0,\"#0d0887\"],[0.1111111111111111,\"#46039f\"],[0.2222222222222222,\"#7201a8\"],[0.3333333333333333,\"#9c179e\"],[0.4444444444444444,\"#bd3786\"],[0.5555555555555556,\"#d8576b\"],[0.6666666666666666,\"#ed7953\"],[0.7777777777777778,\"#fb9f3a\"],[0.8888888888888888,\"#fdca26\"],[1.0,\"#f0f921\"]],\"type\":\"heatmapgl\"}],\"heatmap\":[{\"colorbar\":{\"outlinewidth\":0,\"ticks\":\"\"},\"colorscale\":[[0.0,\"#0d0887\"],[0.1111111111111111,\"#46039f\"],[0.2222222222222222,\"#7201a8\"],[0.3333333333333333,\"#9c179e\"],[0.4444444444444444,\"#bd3786\"],[0.5555555555555556,\"#d8576b\"],[0.6666666666666666,\"#ed7953\"],[0.7777777777777778,\"#fb9f3a\"],[0.8888888888888888,\"#fdca26\"],[1.0,\"#f0f921\"]],\"type\":\"heatmap\"}],\"histogram2dcontour\":[{\"colorbar\":{\"outlinewidth\":0,\"ticks\":\"\"},\"colorscale\":[[0.0,\"#0d0887\"],[0.1111111111111111,\"#46039f\"],[0.2222222222222222,\"#7201a8\"],[0.3333333333333333,\"#9c179e\"],[0.4444444444444444,\"#bd3786\"],[0.5555555555555556,\"#d8576b\"],[0.6666666666666666,\"#ed7953\"],[0.7777777777777778,\"#fb9f3a\"],[0.8888888888888888,\"#fdca26\"],[1.0,\"#f0f921\"]],\"type\":\"histogram2dcontour\"}],\"histogram2d\":[{\"colorbar\":{\"outlinewidth\":0,\"ticks\":\"\"},\"colorscale\":[[0.0,\"#0d0887\"],[0.1111111111111111,\"#46039f\"],[0.2222222222222222,\"#7201a8\"],[0.3333333333333333,\"#9c179e\"],[0.4444444444444444,\"#bd3786\"],[0.5555555555555556,\"#d8576b\"],[0.6666666666666666,\"#ed7953\"],[0.7777777777777778,\"#fb9f3a\"],[0.8888888888888888,\"#fdca26\"],[1.0,\"#f0f921\"]],\"type\":\"histogram2d\"}],\"histogram\":[{\"marker\":{\"pattern\":{\"fillmode\":\"overlay\",\"size\":10,\"solidity\":0.2}},\"type\":\"histogram\"}],\"mesh3d\":[{\"colorbar\":{\"outlinewidth\":0,\"ticks\":\"\"},\"type\":\"mesh3d\"}],\"parcoords\":[{\"line\":{\"colorbar\":{\"outlinewidth\":0,\"ticks\":\"\"}},\"type\":\"parcoords\"}],\"pie\":[{\"automargin\":true,\"type\":\"pie\"}],\"scatter3d\":[{\"line\":{\"colorbar\":{\"outlinewidth\":0,\"ticks\":\"\"}},\"marker\":{\"colorbar\":{\"outlinewidth\":0,\"ticks\":\"\"}},\"type\":\"scatter3d\"}],\"scattercarpet\":[{\"marker\":{\"colorbar\":{\"outlinewidth\":0,\"ticks\":\"\"}},\"type\":\"scattercarpet\"}],\"scattergeo\":[{\"marker\":{\"colorbar\":{\"outlinewidth\":0,\"ticks\":\"\"}},\"type\":\"scattergeo\"}],\"scattergl\":[{\"marker\":{\"colorbar\":{\"outlinewidth\":0,\"ticks\":\"\"}},\"type\":\"scattergl\"}],\"scattermapbox\":[{\"marker\":{\"colorbar\":{\"outlinewidth\":0,\"ticks\":\"\"}},\"type\":\"scattermapbox\"}],\"scatterpolargl\":[{\"marker\":{\"colorbar\":{\"outlinewidth\":0,\"ticks\":\"\"}},\"type\":\"scatterpolargl\"}],\"scatterpolar\":[{\"marker\":{\"colorbar\":{\"outlinewidth\":0,\"ticks\":\"\"}},\"type\":\"scatterpolar\"}],\"scatter\":[{\"fillpattern\":{\"fillmode\":\"overlay\",\"size\":10,\"solidity\":0.2},\"type\":\"scatter\"}],\"scatterternary\":[{\"marker\":{\"colorbar\":{\"outlinewidth\":0,\"ticks\":\"\"}},\"type\":\"scatterternary\"}],\"surface\":[{\"colorbar\":{\"outlinewidth\":0,\"ticks\":\"\"},\"colorscale\":[[0.0,\"#0d0887\"],[0.1111111111111111,\"#46039f\"],[0.2222222222222222,\"#7201a8\"],[0.3333333333333333,\"#9c179e\"],[0.4444444444444444,\"#bd3786\"],[0.5555555555555556,\"#d8576b\"],[0.6666666666666666,\"#ed7953\"],[0.7777777777777778,\"#fb9f3a\"],[0.8888888888888888,\"#fdca26\"],[1.0,\"#f0f921\"]],\"type\":\"surface\"}],\"table\":[{\"cells\":{\"fill\":{\"color\":\"#EBF0F8\"},\"line\":{\"color\":\"white\"}},\"header\":{\"fill\":{\"color\":\"#C8D4E3\"},\"line\":{\"color\":\"white\"}},\"type\":\"table\"}]},\"layout\":{\"annotationdefaults\":{\"arrowcolor\":\"#2a3f5f\",\"arrowhead\":0,\"arrowwidth\":1},\"autotypenumbers\":\"strict\",\"coloraxis\":{\"colorbar\":{\"outlinewidth\":0,\"ticks\":\"\"}},\"colorscale\":{\"diverging\":[[0,\"#8e0152\"],[0.1,\"#c51b7d\"],[0.2,\"#de77ae\"],[0.3,\"#f1b6da\"],[0.4,\"#fde0ef\"],[0.5,\"#f7f7f7\"],[0.6,\"#e6f5d0\"],[0.7,\"#b8e186\"],[0.8,\"#7fbc41\"],[0.9,\"#4d9221\"],[1,\"#276419\"]],\"sequential\":[[0.0,\"#0d0887\"],[0.1111111111111111,\"#46039f\"],[0.2222222222222222,\"#7201a8\"],[0.3333333333333333,\"#9c179e\"],[0.4444444444444444,\"#bd3786\"],[0.5555555555555556,\"#d8576b\"],[0.6666666666666666,\"#ed7953\"],[0.7777777777777778,\"#fb9f3a\"],[0.8888888888888888,\"#fdca26\"],[1.0,\"#f0f921\"]],\"sequentialminus\":[[0.0,\"#0d0887\"],[0.1111111111111111,\"#46039f\"],[0.2222222222222222,\"#7201a8\"],[0.3333333333333333,\"#9c179e\"],[0.4444444444444444,\"#bd3786\"],[0.5555555555555556,\"#d8576b\"],[0.6666666666666666,\"#ed7953\"],[0.7777777777777778,\"#fb9f3a\"],[0.8888888888888888,\"#fdca26\"],[1.0,\"#f0f921\"]]},\"colorway\":[\"#636efa\",\"#EF553B\",\"#00cc96\",\"#ab63fa\",\"#FFA15A\",\"#19d3f3\",\"#FF6692\",\"#B6E880\",\"#FF97FF\",\"#FECB52\"],\"font\":{\"color\":\"#2a3f5f\"},\"geo\":{\"bgcolor\":\"white\",\"lakecolor\":\"white\",\"landcolor\":\"#E5ECF6\",\"showlakes\":true,\"showland\":true,\"subunitcolor\":\"white\"},\"hoverlabel\":{\"align\":\"left\"},\"hovermode\":\"closest\",\"mapbox\":{\"style\":\"light\"},\"paper_bgcolor\":\"white\",\"plot_bgcolor\":\"#E5ECF6\",\"polar\":{\"angularaxis\":{\"gridcolor\":\"white\",\"linecolor\":\"white\",\"ticks\":\"\"},\"bgcolor\":\"#E5ECF6\",\"radialaxis\":{\"gridcolor\":\"white\",\"linecolor\":\"white\",\"ticks\":\"\"}},\"scene\":{\"xaxis\":{\"backgroundcolor\":\"#E5ECF6\",\"gridcolor\":\"white\",\"gridwidth\":2,\"linecolor\":\"white\",\"showbackground\":true,\"ticks\":\"\",\"zerolinecolor\":\"white\"},\"yaxis\":{\"backgroundcolor\":\"#E5ECF6\",\"gridcolor\":\"white\",\"gridwidth\":2,\"linecolor\":\"white\",\"showbackground\":true,\"ticks\":\"\",\"zerolinecolor\":\"white\"},\"zaxis\":{\"backgroundcolor\":\"#E5ECF6\",\"gridcolor\":\"white\",\"gridwidth\":2,\"linecolor\":\"white\",\"showbackground\":true,\"ticks\":\"\",\"zerolinecolor\":\"white\"}},\"shapedefaults\":{\"line\":{\"color\":\"#2a3f5f\"}},\"ternary\":{\"aaxis\":{\"gridcolor\":\"white\",\"linecolor\":\"white\",\"ticks\":\"\"},\"baxis\":{\"gridcolor\":\"white\",\"linecolor\":\"white\",\"ticks\":\"\"},\"bgcolor\":\"#E5ECF6\",\"caxis\":{\"gridcolor\":\"white\",\"linecolor\":\"white\",\"ticks\":\"\"}},\"title\":{\"x\":0.05},\"xaxis\":{\"automargin\":true,\"gridcolor\":\"white\",\"linecolor\":\"white\",\"ticks\":\"\",\"title\":{\"standoff\":15},\"zerolinecolor\":\"white\",\"zerolinewidth\":2},\"yaxis\":{\"automargin\":true,\"gridcolor\":\"white\",\"linecolor\":\"white\",\"ticks\":\"\",\"title\":{\"standoff\":15},\"zerolinecolor\":\"white\",\"zerolinewidth\":2}}},\"title\":{\"font\":{\"color\":\"#4D5663\"},\"text\":\"Distibuci\\u00f3n de edades de pasajeras del Titanic\"},\"xaxis\":{\"gridcolor\":\"#E1E5ED\",\"showgrid\":true,\"tickfont\":{\"color\":\"#4D5663\"},\"title\":{\"font\":{\"color\":\"#4D5663\"},\"text\":\"Population\"},\"zerolinecolor\":\"#E1E5ED\"},\"yaxis\":{\"gridcolor\":\"#E1E5ED\",\"showgrid\":true,\"tickfont\":{\"color\":\"#4D5663\"},\"title\":{\"font\":{\"color\":\"#4D5663\"},\"text\":\"\"},\"zerolinecolor\":\"#E1E5ED\"}},                        {\"showLink\": true, \"linkText\": \"Export to plot.ly\", \"plotlyServerURL\": \"https://plot.ly\", \"responsive\": true}                    ).then(function(){\n",
       "                            \n",
       "var gd = document.getElementById('f532f7f6-37c9-46ff-993f-510cfd52891b');\n",
       "var x = new MutationObserver(function (mutations, observer) {{\n",
       "        var display = window.getComputedStyle(gd).display;\n",
       "        if (!display || display === 'none') {{\n",
       "            console.log([gd, 'removed!']);\n",
       "            Plotly.purge(gd);\n",
       "            observer.disconnect();\n",
       "        }}\n",
       "}});\n",
       "\n",
       "// Listen for the removal of the full notebook cells\n",
       "var notebookContainer = gd.closest('#notebook-container');\n",
       "if (notebookContainer) {{\n",
       "    x.observe(notebookContainer, {childList: true});\n",
       "}}\n",
       "\n",
       "// Listen for the clearing of the current output cell\n",
       "var outputEl = gd.closest('.output');\n",
       "if (outputEl) {{\n",
       "    x.observe(outputEl, {childList: true});\n",
       "}}\n",
       "\n",
       "                        })                };                });            </script>        </div>"
      ]
     },
     "metadata": {},
     "output_type": "display_data"
    }
   ],
   "source": [
    "#Histplot o Histograma\n",
    "\n",
    "Data[['female']].iplot(kind='hist',xTitle='Population', \n",
    "                               title='Distibución de edades de pasajeras del Titanic')\n"
   ]
  },
  {
   "cell_type": "code",
   "execution_count": 9,
   "metadata": {},
   "outputs": [
    {
     "data": {
      "application/vnd.plotly.v1+json": {
       "config": {
        "linkText": "Export to plot.ly",
        "plotlyServerURL": "https://plot.ly",
        "showLink": true
       },
       "data": [
        {
         "line": {
          "color": "rgba(255, 153, 51, 1.0)",
          "dash": "solid",
          "shape": "linear",
          "width": 1.3
         },
         "marker": {
          "size": 12,
          "symbol": "circle"
         },
         "mode": "markers",
         "name": "female",
         "text": "",
         "type": "scatter",
         "x": [
          "Allen, Miss. Elisabeth Walton",
          "Allison, Master. Hudson Trevor",
          "Allison, Miss. Helen Loraine",
          "Allison, Mrs. Hudson J C (Bessie Waldo Daniels)",
          "Anderson, Mr. Harry",
          "Andrews, Miss. Kornelia Theodosia",
          "Andrews, Mr. Thomas Jr",
          "Appleton, Mrs. Edward Dale (Charlotte Lamson)",
          "Astor, Mrs. John Jacob (Madeleine Talmadge Force)",
          "Aubart, Mme. Leontine Pauline",
          "Ball, Mrs. (Ada E Hall)",
          "Barkworth, Mr. Algernon Henry Wilson",
          "Baxter, Mr. Quigg Edmond",
          "Baxter, Mrs. James (Helene DeLaudeniere Chaput)",
          "Bazzani, Miss. Albina",
          "Becker, Master. Richard F",
          "Becker, Miss. Marion Louise",
          "Beckwith, Mr. Richard Leonard",
          "Beckwith, Mrs. Richard Leonard (Sallie Monypeny)",
          "Beesley, Mr. Lawrence",
          "Behr, Mr. Karl Howell",
          "Bishop, Mr. Dickinson H",
          "Bishop, Mrs. Dickinson H (Helen Walton)",
          "Bissette, Miss. Amelia",
          "Bjornstrom-Steffansson, Mr. Mauritz Hakan",
          "Blackwell, Mr. Stephen Weart",
          "Blank, Mr. Henry",
          "Bonnell, Miss. Elizabeth",
          "Bowerman, Miss. Elsie Edith",
          "Brown, Miss. Amelia \"Mildred\"",
          "Brown, Mrs. James Joseph (Margaret Tobin)",
          "Burns, Miss. Elizabeth Margaret",
          "Butt, Major. Archibald Willingham",
          "Calderhead, Mr. Edward Pennington",
          "Cardeza, Mr. Thomas Drake Martinez",
          "Carlsson, Mr. Frans Olof",
          "Carter, Master. William Thornton II",
          "Carter, Miss. Lucile Polk",
          "Carter, Mr. William Ernest",
          "Carter, Mrs. William Ernest (Lucile Polk)",
          "Cavendish, Mr. Tyrell William",
          "Chaffee, Mr. Herbert Fuller",
          "Chambers, Mr. Norman Campbell",
          "Chambers, Mrs. Norman Campbell (Bertha Griggs)",
          "Cherry, Miss. Gladys",
          "Colley, Mr. Edward Pomeroy",
          "Compton, Miss. Sara Rebecca",
          "Crosby, Capt. Edward Gifford",
          "Crosby, Miss. Harriet R",
          "Cumings, Mrs. John Bradley (Florence Briggs Thayer)",
          "Daly, Mr. Peter Denis ",
          "Davidson, Mr. Thornton",
          "Dick, Mr. Albert Adrian",
          "Dick, Mrs. Albert Adrian (Vera Gillespie)",
          "Dodge, Master. Washington",
          "Douglas, Mr. Walter Donald",
          "Duff Gordon, Lady. (Lucille Christiana Sutherland) (\"Mrs Morgan\")",
          "Duff Gordon, Sir. Cosmo Edmund (\"Mr Morgan\")",
          "Endres, Miss. Caroline Louise",
          "Eustis, Miss. Elizabeth Mussey",
          "Flynn, Mr. John Irwin (\"Irving\")",
          "Foreman, Mr. Benjamin Laventall",
          "Fortune, Miss. Alice Elizabeth",
          "Fortune, Miss. Mabel Helen",
          "Fortune, Mr. Charles Alexander",
          "Fortune, Mr. Mark",
          "Francatelli, Miss. Laura Mabel",
          "Frolicher, Miss. Hedwig Margaritha",
          "Frolicher-Stehli, Mr. Maxmillian",
          "Futrelle, Mr. Jacques Heath",
          "Futrelle, Mrs. Jacques Heath (Lily May Peel)",
          "Gee, Mr. Arthur H",
          "Giglio, Mr. Victor",
          "Goldenberg, Mr. Samuel L",
          "Goldschmidt, Mr. George B",
          "Graham, Miss. Margaret Edith",
          "Graham, Mr. George Edward",
          "Graham, Mrs. William Thompson (Edith Junkins)",
          "Greenfield, Mr. William Bertram",
          "Guggenheim, Mr. Benjamin",
          "Harder, Mr. George Achilles",
          "Harper, Mr. Henry Sleeper",
          "Harper, Mrs. Henry Sleeper (Myna Haxtun)",
          "Harris, Mr. Henry Birkhardt",
          "Harris, Mrs. Henry Birkhardt (Irene Wallach)",
          "Harrison, Mr. William",
          "Hassab, Mr. Hammad",
          "Hays, Miss. Margaret Bechstein",
          "Hays, Mrs. Charles Melville (Clara Jennings Gregg)",
          "Hippach, Miss. Jean Gertrude",
          "Hippach, Mrs. Louis Albert (Ida Sophia Fischer)",
          "Hogeboom, Mrs. John C (Anna Andrews)",
          "Hoyt, Mr. Frederick Maxfield",
          "Hoyt, Mrs. Frederick Maxfield (Jane Anne Forby)",
          "Humblen, Mr. Adolf Mathias Nicolai Olsen",
          "Isham, Miss. Ann Elizabeth",
          "Jerwan, Mrs. Amin S (Marie Marthe Thuillard)",
          "Kent, Mr. Edward Austin",
          "Kimball, Mr. Edwin Nelson Jr",
          "Leader, Dr. Alice (Farnham)",
          "Lemore, Mrs. (Amelia Milley)",
          "Lesurer, Mr. Gustave J",
          "Levy, Mr. Rene Jacques",
          "Lines, Miss. Mary Conover",
          "Long, Mr. Milton Clyde",
          "Longley, Miss. Gretchen Fiske",
          "Lurette, Miss. Elise",
          "Mack, Mrs. (Mary)",
          "Madill, Miss. Georgette Alexandra",
          "Maioni, Miss. Roberta",
          "Marvin, Mr. Daniel Warner",
          "Mayne, Mlle. Berthe Antonine (\"Mrs de Villiers\")",
          "McCarthy, Mr. Timothy J",
          "McGough, Mr. James Robert",
          "Millet, Mr. Francis Davis",
          "Minahan, Dr. William Edward",
          "Minahan, Miss. Daisy E",
          "Moen, Mr. Sigurd Hansen",
          "Molson, Mr. Harry Markland",
          "Moor, Master. Meier",
          "Moor, Mrs. (Beila)",
          "Natsch, Mr. Charles H",
          "Navratil, Master. Edmond Roger",
          "Navratil, Master. Michel M",
          "Navratil, Mr. Michel (\"Louis M Hoffman\")",
          "Newell, Miss. Madeleine",
          "Newell, Miss. Marjorie",
          "Newell, Mr. Arthur Webster",
          "Newsom, Miss. Helen Monypeny",
          "Nye, Mrs. (Elizabeth Ramell)",
          "Ostby, Mr. Engelhart Cornelius",
          "Partner, Mr. Austen",
          "Pears, Mr. Thomas Clinton",
          "Pears, Mrs. Thomas (Edith Wearne)",
          "Penasco y Castellana, Mr. Victor de Satode",
          "Penasco y Castellana, Mrs. Victor de Satode (Maria Josefa Perez de Soto y Vallejo)",
          "Perreault, Miss. Anne",
          "Peuchen, Major. Arthur Godfrey",
          "Pickard, Mr. Berk (Berk Trembisky)",
          "Porter, Mr. Walter Chamberlain",
          "Potter, Mrs. Thomas Jr (Lily Alexenia Wilson)",
          "Robert, Mrs. Edward Scott (Elisabeth Walton McMillan)",
          "Roebling, Mr. Washington Augustus II",
          "Ross, Mr. John Hugo",
          "Rothes, the Countess. of (Lucy Noel Martha Dyer-Edwards)",
          "Ryerson, Miss. Emily Borie",
          "Ryerson, Miss. Susan Parker \"Suzette\"",
          "Sagesser, Mlle. Emma",
          "Sandstrom, Miss. Marguerite Rut",
          "Sandstrom, Mrs. Hjalmar (Agnes Charlotta Bengtsson)",
          "Shutes, Miss. Elizabeth W",
          "Silverthorne, Mr. Spencer Victor",
          "Silvey, Mr. William Baird",
          "Silvey, Mrs. William Baird (Alice Munger)",
          "Simonius-Blumer, Col. Oberst Alfons",
          "Sloper, Mr. William Thompson",
          "Smith, Mr. James Clinch",
          "Soholt, Mr. Peter Andreas Lauritz Andersen",
          "Spedden, Mrs. Frederic Oakley (Margaretta Corning Stone)",
          "Stahelin-Maeglin, Dr. Max",
          "Stead, Mr. William Thomas",
          "Stephenson, Mrs. Walter Bertram (Martha Eustis)",
          "Strom, Miss. Telma Matilda",
          "Strom, Mrs. Wilhelm (Elna Matilda Persson)",
          "Sutton, Mr. Frederick",
          "Swift, Mrs. Frederick Joel (Margaret Welles Barron)",
          "Taussig, Miss. Ruth",
          "Taussig, Mr. Emil",
          "Taussig, Mrs. Emil (Tillie Mandelbaum)",
          "Taylor, Mr. Elmer Zebley",
          "Thayer, Mr. John Borland",
          "Thayer, Mr. John Borland Jr",
          "Thayer, Mrs. John Borland (Marian Longstreth Morris)",
          "Troutt, Miss. Edwina Celia \"Winnie\"",
          "Van der hoef, Mr. Wyckoff",
          "Walker, Mr. William Anderson",
          "Warren, Mrs. Frank Manley (Anna Sophia Atkinson)",
          "Webber, Miss. Susan",
          "White, Mr. Percival Wayland",
          "White, Mr. Richard Frasar",
          "Wick, Miss. Mary Natalie",
          "Widener, Mr. Harry Elkins",
          "Young, Miss. Marie Grice"
         ],
         "y": [
          29,
          "",
          2,
          25,
          "",
          63,
          "",
          53,
          18,
          24,
          36,
          "",
          "",
          50,
          32,
          "",
          4,
          "",
          47,
          "",
          "",
          "",
          19,
          35,
          "",
          "",
          "",
          58,
          22,
          24,
          44,
          41,
          "",
          "",
          "",
          "",
          "",
          14,
          "",
          36,
          "",
          "",
          "",
          33,
          30,
          "",
          39,
          "",
          36,
          38,
          "",
          "",
          "",
          17,
          "",
          "",
          48,
          "",
          38,
          54,
          "",
          "",
          24,
          23,
          "",
          "",
          30,
          22,
          "",
          "",
          35,
          "",
          "",
          "",
          "",
          19,
          "",
          58,
          "",
          "",
          "",
          "",
          49,
          "",
          35,
          "",
          "",
          24,
          52,
          16,
          44,
          51,
          "",
          35,
          "",
          50,
          23,
          "",
          "",
          49,
          34,
          "",
          "",
          16,
          "",
          21,
          58,
          57,
          15,
          16,
          "",
          24,
          "",
          "",
          "",
          "",
          33,
          "",
          "",
          "",
          27,
          "",
          "",
          "",
          "",
          31,
          23,
          "",
          19,
          29,
          "",
          "",
          "",
          22,
          "",
          17,
          30,
          "",
          "",
          "",
          56,
          43,
          "",
          "",
          33,
          18,
          21,
          24,
          4,
          24,
          40,
          "",
          "",
          39,
          "",
          "",
          "",
          "",
          40,
          "",
          "",
          52,
          2,
          29,
          "",
          48,
          18,
          "",
          39,
          "",
          "",
          "",
          39,
          27,
          "",
          "",
          60,
          32.5,
          "",
          "",
          31,
          "",
          36
         ]
        }
       ],
       "layout": {
        "legend": {
         "bgcolor": "#FFFFFF",
         "font": {
          "color": "#4D5663"
         }
        },
        "paper_bgcolor": "#FFFFFF",
        "plot_bgcolor": "#FFFFFF",
        "template": {
         "data": {
          "bar": [
           {
            "error_x": {
             "color": "#2a3f5f"
            },
            "error_y": {
             "color": "#2a3f5f"
            },
            "marker": {
             "line": {
              "color": "#E5ECF6",
              "width": 0.5
             },
             "pattern": {
              "fillmode": "overlay",
              "size": 10,
              "solidity": 0.2
             }
            },
            "type": "bar"
           }
          ],
          "barpolar": [
           {
            "marker": {
             "line": {
              "color": "#E5ECF6",
              "width": 0.5
             },
             "pattern": {
              "fillmode": "overlay",
              "size": 10,
              "solidity": 0.2
             }
            },
            "type": "barpolar"
           }
          ],
          "carpet": [
           {
            "aaxis": {
             "endlinecolor": "#2a3f5f",
             "gridcolor": "white",
             "linecolor": "white",
             "minorgridcolor": "white",
             "startlinecolor": "#2a3f5f"
            },
            "baxis": {
             "endlinecolor": "#2a3f5f",
             "gridcolor": "white",
             "linecolor": "white",
             "minorgridcolor": "white",
             "startlinecolor": "#2a3f5f"
            },
            "type": "carpet"
           }
          ],
          "choropleth": [
           {
            "colorbar": {
             "outlinewidth": 0,
             "ticks": ""
            },
            "type": "choropleth"
           }
          ],
          "contour": [
           {
            "colorbar": {
             "outlinewidth": 0,
             "ticks": ""
            },
            "colorscale": [
             [
              0,
              "#0d0887"
             ],
             [
              0.1111111111111111,
              "#46039f"
             ],
             [
              0.2222222222222222,
              "#7201a8"
             ],
             [
              0.3333333333333333,
              "#9c179e"
             ],
             [
              0.4444444444444444,
              "#bd3786"
             ],
             [
              0.5555555555555556,
              "#d8576b"
             ],
             [
              0.6666666666666666,
              "#ed7953"
             ],
             [
              0.7777777777777778,
              "#fb9f3a"
             ],
             [
              0.8888888888888888,
              "#fdca26"
             ],
             [
              1,
              "#f0f921"
             ]
            ],
            "type": "contour"
           }
          ],
          "contourcarpet": [
           {
            "colorbar": {
             "outlinewidth": 0,
             "ticks": ""
            },
            "type": "contourcarpet"
           }
          ],
          "heatmap": [
           {
            "colorbar": {
             "outlinewidth": 0,
             "ticks": ""
            },
            "colorscale": [
             [
              0,
              "#0d0887"
             ],
             [
              0.1111111111111111,
              "#46039f"
             ],
             [
              0.2222222222222222,
              "#7201a8"
             ],
             [
              0.3333333333333333,
              "#9c179e"
             ],
             [
              0.4444444444444444,
              "#bd3786"
             ],
             [
              0.5555555555555556,
              "#d8576b"
             ],
             [
              0.6666666666666666,
              "#ed7953"
             ],
             [
              0.7777777777777778,
              "#fb9f3a"
             ],
             [
              0.8888888888888888,
              "#fdca26"
             ],
             [
              1,
              "#f0f921"
             ]
            ],
            "type": "heatmap"
           }
          ],
          "heatmapgl": [
           {
            "colorbar": {
             "outlinewidth": 0,
             "ticks": ""
            },
            "colorscale": [
             [
              0,
              "#0d0887"
             ],
             [
              0.1111111111111111,
              "#46039f"
             ],
             [
              0.2222222222222222,
              "#7201a8"
             ],
             [
              0.3333333333333333,
              "#9c179e"
             ],
             [
              0.4444444444444444,
              "#bd3786"
             ],
             [
              0.5555555555555556,
              "#d8576b"
             ],
             [
              0.6666666666666666,
              "#ed7953"
             ],
             [
              0.7777777777777778,
              "#fb9f3a"
             ],
             [
              0.8888888888888888,
              "#fdca26"
             ],
             [
              1,
              "#f0f921"
             ]
            ],
            "type": "heatmapgl"
           }
          ],
          "histogram": [
           {
            "marker": {
             "pattern": {
              "fillmode": "overlay",
              "size": 10,
              "solidity": 0.2
             }
            },
            "type": "histogram"
           }
          ],
          "histogram2d": [
           {
            "colorbar": {
             "outlinewidth": 0,
             "ticks": ""
            },
            "colorscale": [
             [
              0,
              "#0d0887"
             ],
             [
              0.1111111111111111,
              "#46039f"
             ],
             [
              0.2222222222222222,
              "#7201a8"
             ],
             [
              0.3333333333333333,
              "#9c179e"
             ],
             [
              0.4444444444444444,
              "#bd3786"
             ],
             [
              0.5555555555555556,
              "#d8576b"
             ],
             [
              0.6666666666666666,
              "#ed7953"
             ],
             [
              0.7777777777777778,
              "#fb9f3a"
             ],
             [
              0.8888888888888888,
              "#fdca26"
             ],
             [
              1,
              "#f0f921"
             ]
            ],
            "type": "histogram2d"
           }
          ],
          "histogram2dcontour": [
           {
            "colorbar": {
             "outlinewidth": 0,
             "ticks": ""
            },
            "colorscale": [
             [
              0,
              "#0d0887"
             ],
             [
              0.1111111111111111,
              "#46039f"
             ],
             [
              0.2222222222222222,
              "#7201a8"
             ],
             [
              0.3333333333333333,
              "#9c179e"
             ],
             [
              0.4444444444444444,
              "#bd3786"
             ],
             [
              0.5555555555555556,
              "#d8576b"
             ],
             [
              0.6666666666666666,
              "#ed7953"
             ],
             [
              0.7777777777777778,
              "#fb9f3a"
             ],
             [
              0.8888888888888888,
              "#fdca26"
             ],
             [
              1,
              "#f0f921"
             ]
            ],
            "type": "histogram2dcontour"
           }
          ],
          "mesh3d": [
           {
            "colorbar": {
             "outlinewidth": 0,
             "ticks": ""
            },
            "type": "mesh3d"
           }
          ],
          "parcoords": [
           {
            "line": {
             "colorbar": {
              "outlinewidth": 0,
              "ticks": ""
             }
            },
            "type": "parcoords"
           }
          ],
          "pie": [
           {
            "automargin": true,
            "type": "pie"
           }
          ],
          "scatter": [
           {
            "fillpattern": {
             "fillmode": "overlay",
             "size": 10,
             "solidity": 0.2
            },
            "type": "scatter"
           }
          ],
          "scatter3d": [
           {
            "line": {
             "colorbar": {
              "outlinewidth": 0,
              "ticks": ""
             }
            },
            "marker": {
             "colorbar": {
              "outlinewidth": 0,
              "ticks": ""
             }
            },
            "type": "scatter3d"
           }
          ],
          "scattercarpet": [
           {
            "marker": {
             "colorbar": {
              "outlinewidth": 0,
              "ticks": ""
             }
            },
            "type": "scattercarpet"
           }
          ],
          "scattergeo": [
           {
            "marker": {
             "colorbar": {
              "outlinewidth": 0,
              "ticks": ""
             }
            },
            "type": "scattergeo"
           }
          ],
          "scattergl": [
           {
            "marker": {
             "colorbar": {
              "outlinewidth": 0,
              "ticks": ""
             }
            },
            "type": "scattergl"
           }
          ],
          "scattermapbox": [
           {
            "marker": {
             "colorbar": {
              "outlinewidth": 0,
              "ticks": ""
             }
            },
            "type": "scattermapbox"
           }
          ],
          "scatterpolar": [
           {
            "marker": {
             "colorbar": {
              "outlinewidth": 0,
              "ticks": ""
             }
            },
            "type": "scatterpolar"
           }
          ],
          "scatterpolargl": [
           {
            "marker": {
             "colorbar": {
              "outlinewidth": 0,
              "ticks": ""
             }
            },
            "type": "scatterpolargl"
           }
          ],
          "scatterternary": [
           {
            "marker": {
             "colorbar": {
              "outlinewidth": 0,
              "ticks": ""
             }
            },
            "type": "scatterternary"
           }
          ],
          "surface": [
           {
            "colorbar": {
             "outlinewidth": 0,
             "ticks": ""
            },
            "colorscale": [
             [
              0,
              "#0d0887"
             ],
             [
              0.1111111111111111,
              "#46039f"
             ],
             [
              0.2222222222222222,
              "#7201a8"
             ],
             [
              0.3333333333333333,
              "#9c179e"
             ],
             [
              0.4444444444444444,
              "#bd3786"
             ],
             [
              0.5555555555555556,
              "#d8576b"
             ],
             [
              0.6666666666666666,
              "#ed7953"
             ],
             [
              0.7777777777777778,
              "#fb9f3a"
             ],
             [
              0.8888888888888888,
              "#fdca26"
             ],
             [
              1,
              "#f0f921"
             ]
            ],
            "type": "surface"
           }
          ],
          "table": [
           {
            "cells": {
             "fill": {
              "color": "#EBF0F8"
             },
             "line": {
              "color": "white"
             }
            },
            "header": {
             "fill": {
              "color": "#C8D4E3"
             },
             "line": {
              "color": "white"
             }
            },
            "type": "table"
           }
          ]
         },
         "layout": {
          "annotationdefaults": {
           "arrowcolor": "#2a3f5f",
           "arrowhead": 0,
           "arrowwidth": 1
          },
          "autotypenumbers": "strict",
          "coloraxis": {
           "colorbar": {
            "outlinewidth": 0,
            "ticks": ""
           }
          },
          "colorscale": {
           "diverging": [
            [
             0,
             "#8e0152"
            ],
            [
             0.1,
             "#c51b7d"
            ],
            [
             0.2,
             "#de77ae"
            ],
            [
             0.3,
             "#f1b6da"
            ],
            [
             0.4,
             "#fde0ef"
            ],
            [
             0.5,
             "#f7f7f7"
            ],
            [
             0.6,
             "#e6f5d0"
            ],
            [
             0.7,
             "#b8e186"
            ],
            [
             0.8,
             "#7fbc41"
            ],
            [
             0.9,
             "#4d9221"
            ],
            [
             1,
             "#276419"
            ]
           ],
           "sequential": [
            [
             0,
             "#0d0887"
            ],
            [
             0.1111111111111111,
             "#46039f"
            ],
            [
             0.2222222222222222,
             "#7201a8"
            ],
            [
             0.3333333333333333,
             "#9c179e"
            ],
            [
             0.4444444444444444,
             "#bd3786"
            ],
            [
             0.5555555555555556,
             "#d8576b"
            ],
            [
             0.6666666666666666,
             "#ed7953"
            ],
            [
             0.7777777777777778,
             "#fb9f3a"
            ],
            [
             0.8888888888888888,
             "#fdca26"
            ],
            [
             1,
             "#f0f921"
            ]
           ],
           "sequentialminus": [
            [
             0,
             "#0d0887"
            ],
            [
             0.1111111111111111,
             "#46039f"
            ],
            [
             0.2222222222222222,
             "#7201a8"
            ],
            [
             0.3333333333333333,
             "#9c179e"
            ],
            [
             0.4444444444444444,
             "#bd3786"
            ],
            [
             0.5555555555555556,
             "#d8576b"
            ],
            [
             0.6666666666666666,
             "#ed7953"
            ],
            [
             0.7777777777777778,
             "#fb9f3a"
            ],
            [
             0.8888888888888888,
             "#fdca26"
            ],
            [
             1,
             "#f0f921"
            ]
           ]
          },
          "colorway": [
           "#636efa",
           "#EF553B",
           "#00cc96",
           "#ab63fa",
           "#FFA15A",
           "#19d3f3",
           "#FF6692",
           "#B6E880",
           "#FF97FF",
           "#FECB52"
          ],
          "font": {
           "color": "#2a3f5f"
          },
          "geo": {
           "bgcolor": "white",
           "lakecolor": "white",
           "landcolor": "#E5ECF6",
           "showlakes": true,
           "showland": true,
           "subunitcolor": "white"
          },
          "hoverlabel": {
           "align": "left"
          },
          "hovermode": "closest",
          "mapbox": {
           "style": "light"
          },
          "paper_bgcolor": "white",
          "plot_bgcolor": "#E5ECF6",
          "polar": {
           "angularaxis": {
            "gridcolor": "white",
            "linecolor": "white",
            "ticks": ""
           },
           "bgcolor": "#E5ECF6",
           "radialaxis": {
            "gridcolor": "white",
            "linecolor": "white",
            "ticks": ""
           }
          },
          "scene": {
           "xaxis": {
            "backgroundcolor": "#E5ECF6",
            "gridcolor": "white",
            "gridwidth": 2,
            "linecolor": "white",
            "showbackground": true,
            "ticks": "",
            "zerolinecolor": "white"
           },
           "yaxis": {
            "backgroundcolor": "#E5ECF6",
            "gridcolor": "white",
            "gridwidth": 2,
            "linecolor": "white",
            "showbackground": true,
            "ticks": "",
            "zerolinecolor": "white"
           },
           "zaxis": {
            "backgroundcolor": "#E5ECF6",
            "gridcolor": "white",
            "gridwidth": 2,
            "linecolor": "white",
            "showbackground": true,
            "ticks": "",
            "zerolinecolor": "white"
           }
          },
          "shapedefaults": {
           "line": {
            "color": "#2a3f5f"
           }
          },
          "ternary": {
           "aaxis": {
            "gridcolor": "white",
            "linecolor": "white",
            "ticks": ""
           },
           "baxis": {
            "gridcolor": "white",
            "linecolor": "white",
            "ticks": ""
           },
           "bgcolor": "#E5ECF6",
           "caxis": {
            "gridcolor": "white",
            "linecolor": "white",
            "ticks": ""
           }
          },
          "title": {
           "x": 0.05
          },
          "xaxis": {
           "automargin": true,
           "gridcolor": "white",
           "linecolor": "white",
           "ticks": "",
           "title": {
            "standoff": 15
           },
           "zerolinecolor": "white",
           "zerolinewidth": 2
          },
          "yaxis": {
           "automargin": true,
           "gridcolor": "white",
           "linecolor": "white",
           "ticks": "",
           "title": {
            "standoff": 15
           },
           "zerolinecolor": "white",
           "zerolinewidth": 2
          }
         }
        },
        "title": {
         "font": {
          "color": "#4D5663"
         },
         "text": "Distibución de edades de pasajeras del Titanic"
        },
        "xaxis": {
         "gridcolor": "#E1E5ED",
         "showgrid": true,
         "tickfont": {
          "color": "#4D5663"
         },
         "title": {
          "font": {
           "color": "#4D5663"
          },
          "text": "Nombres"
         },
         "zerolinecolor": "#E1E5ED"
        },
        "yaxis": {
         "gridcolor": "#E1E5ED",
         "showgrid": true,
         "tickfont": {
          "color": "#4D5663"
         },
         "title": {
          "font": {
           "color": "#4D5663"
          },
          "text": ""
         },
         "zerolinecolor": "#E1E5ED"
        }
       }
      },
      "text/html": [
       "<div>                            <div id=\"03a27207-a744-4d2c-833d-a479da6f34e7\" class=\"plotly-graph-div\" style=\"height:525px; width:100%;\"></div>            <script type=\"text/javascript\">                require([\"plotly\"], function(Plotly) {                    window.PLOTLYENV=window.PLOTLYENV || {};\n",
       "                    window.PLOTLYENV.BASE_URL='https://plot.ly';                                    if (document.getElementById(\"03a27207-a744-4d2c-833d-a479da6f34e7\")) {                    Plotly.newPlot(                        \"03a27207-a744-4d2c-833d-a479da6f34e7\",                        [{\"line\":{\"color\":\"rgba(255, 153, 51, 1.0)\",\"dash\":\"solid\",\"shape\":\"linear\",\"width\":1.3},\"marker\":{\"size\":12,\"symbol\":\"circle\"},\"mode\":\"markers\",\"name\":\"female\",\"text\":\"\",\"x\":[\"Allen, Miss. Elisabeth Walton\",\"Allison, Master. Hudson Trevor\",\"Allison, Miss. Helen Loraine\",\"Allison, Mrs. Hudson J C (Bessie Waldo Daniels)\",\"Anderson, Mr. Harry\",\"Andrews, Miss. Kornelia Theodosia\",\"Andrews, Mr. Thomas Jr\",\"Appleton, Mrs. Edward Dale (Charlotte Lamson)\",\"Astor, Mrs. John Jacob (Madeleine Talmadge Force)\",\"Aubart, Mme. Leontine Pauline\",\"Ball, Mrs. (Ada E Hall)\",\"Barkworth, Mr. Algernon Henry Wilson\",\"Baxter, Mr. Quigg Edmond\",\"Baxter, Mrs. James (Helene DeLaudeniere Chaput)\",\"Bazzani, Miss. Albina\",\"Becker, Master. Richard F\",\"Becker, Miss. Marion Louise\",\"Beckwith, Mr. Richard Leonard\",\"Beckwith, Mrs. Richard Leonard (Sallie Monypeny)\",\"Beesley, Mr. Lawrence\",\"Behr, Mr. Karl Howell\",\"Bishop, Mr. Dickinson H\",\"Bishop, Mrs. Dickinson H (Helen Walton)\",\"Bissette, Miss. Amelia\",\"Bjornstrom-Steffansson, Mr. Mauritz Hakan\",\"Blackwell, Mr. Stephen Weart\",\"Blank, Mr. Henry\",\"Bonnell, Miss. Elizabeth\",\"Bowerman, Miss. Elsie Edith\",\"Brown, Miss. Amelia \\\"Mildred\\\"\",\"Brown, Mrs. James Joseph (Margaret Tobin)\",\"Burns, Miss. Elizabeth Margaret\",\"Butt, Major. Archibald Willingham\",\"Calderhead, Mr. Edward Pennington\",\"Cardeza, Mr. Thomas Drake Martinez\",\"Carlsson, Mr. Frans Olof\",\"Carter, Master. William Thornton II\",\"Carter, Miss. Lucile Polk\",\"Carter, Mr. William Ernest\",\"Carter, Mrs. William Ernest (Lucile Polk)\",\"Cavendish, Mr. Tyrell William\",\"Chaffee, Mr. Herbert Fuller\",\"Chambers, Mr. Norman Campbell\",\"Chambers, Mrs. Norman Campbell (Bertha Griggs)\",\"Cherry, Miss. Gladys\",\"Colley, Mr. Edward Pomeroy\",\"Compton, Miss. Sara Rebecca\",\"Crosby, Capt. Edward Gifford\",\"Crosby, Miss. Harriet R\",\"Cumings, Mrs. John Bradley (Florence Briggs Thayer)\",\"Daly, Mr. Peter Denis \",\"Davidson, Mr. Thornton\",\"Dick, Mr. Albert Adrian\",\"Dick, Mrs. Albert Adrian (Vera Gillespie)\",\"Dodge, Master. Washington\",\"Douglas, Mr. Walter Donald\",\"Duff Gordon, Lady. (Lucille Christiana Sutherland) (\\\"Mrs Morgan\\\")\",\"Duff Gordon, Sir. Cosmo Edmund (\\\"Mr Morgan\\\")\",\"Endres, Miss. Caroline Louise\",\"Eustis, Miss. Elizabeth Mussey\",\"Flynn, Mr. John Irwin (\\\"Irving\\\")\",\"Foreman, Mr. Benjamin Laventall\",\"Fortune, Miss. Alice Elizabeth\",\"Fortune, Miss. Mabel Helen\",\"Fortune, Mr. Charles Alexander\",\"Fortune, Mr. Mark\",\"Francatelli, Miss. Laura Mabel\",\"Frolicher, Miss. Hedwig Margaritha\",\"Frolicher-Stehli, Mr. Maxmillian\",\"Futrelle, Mr. Jacques Heath\",\"Futrelle, Mrs. Jacques Heath (Lily May Peel)\",\"Gee, Mr. Arthur H\",\"Giglio, Mr. Victor\",\"Goldenberg, Mr. Samuel L\",\"Goldschmidt, Mr. George B\",\"Graham, Miss. Margaret Edith\",\"Graham, Mr. George Edward\",\"Graham, Mrs. William Thompson (Edith Junkins)\",\"Greenfield, Mr. William Bertram\",\"Guggenheim, Mr. Benjamin\",\"Harder, Mr. George Achilles\",\"Harper, Mr. Henry Sleeper\",\"Harper, Mrs. Henry Sleeper (Myna Haxtun)\",\"Harris, Mr. Henry Birkhardt\",\"Harris, Mrs. Henry Birkhardt (Irene Wallach)\",\"Harrison, Mr. William\",\"Hassab, Mr. Hammad\",\"Hays, Miss. Margaret Bechstein\",\"Hays, Mrs. Charles Melville (Clara Jennings Gregg)\",\"Hippach, Miss. Jean Gertrude\",\"Hippach, Mrs. Louis Albert (Ida Sophia Fischer)\",\"Hogeboom, Mrs. John C (Anna Andrews)\",\"Hoyt, Mr. Frederick Maxfield\",\"Hoyt, Mrs. Frederick Maxfield (Jane Anne Forby)\",\"Humblen, Mr. Adolf Mathias Nicolai Olsen\",\"Isham, Miss. Ann Elizabeth\",\"Jerwan, Mrs. Amin S (Marie Marthe Thuillard)\",\"Kent, Mr. Edward Austin\",\"Kimball, Mr. Edwin Nelson Jr\",\"Leader, Dr. Alice (Farnham)\",\"Lemore, Mrs. (Amelia Milley)\",\"Lesurer, Mr. Gustave J\",\"Levy, Mr. Rene Jacques\",\"Lines, Miss. Mary Conover\",\"Long, Mr. Milton Clyde\",\"Longley, Miss. Gretchen Fiske\",\"Lurette, Miss. Elise\",\"Mack, Mrs. (Mary)\",\"Madill, Miss. Georgette Alexandra\",\"Maioni, Miss. Roberta\",\"Marvin, Mr. Daniel Warner\",\"Mayne, Mlle. Berthe Antonine (\\\"Mrs de Villiers\\\")\",\"McCarthy, Mr. Timothy J\",\"McGough, Mr. James Robert\",\"Millet, Mr. Francis Davis\",\"Minahan, Dr. William Edward\",\"Minahan, Miss. Daisy E\",\"Moen, Mr. Sigurd Hansen\",\"Molson, Mr. Harry Markland\",\"Moor, Master. Meier\",\"Moor, Mrs. (Beila)\",\"Natsch, Mr. Charles H\",\"Navratil, Master. Edmond Roger\",\"Navratil, Master. Michel M\",\"Navratil, Mr. Michel (\\\"Louis M Hoffman\\\")\",\"Newell, Miss. Madeleine\",\"Newell, Miss. Marjorie\",\"Newell, Mr. Arthur Webster\",\"Newsom, Miss. Helen Monypeny\",\"Nye, Mrs. (Elizabeth Ramell)\",\"Ostby, Mr. Engelhart Cornelius\",\"Partner, Mr. Austen\",\"Pears, Mr. Thomas Clinton\",\"Pears, Mrs. Thomas (Edith Wearne)\",\"Penasco y Castellana, Mr. Victor de Satode\",\"Penasco y Castellana, Mrs. Victor de Satode (Maria Josefa Perez de Soto y Vallejo)\",\"Perreault, Miss. Anne\",\"Peuchen, Major. Arthur Godfrey\",\"Pickard, Mr. Berk (Berk Trembisky)\",\"Porter, Mr. Walter Chamberlain\",\"Potter, Mrs. Thomas Jr (Lily Alexenia Wilson)\",\"Robert, Mrs. Edward Scott (Elisabeth Walton McMillan)\",\"Roebling, Mr. Washington Augustus II\",\"Ross, Mr. John Hugo\",\"Rothes, the Countess. of (Lucy Noel Martha Dyer-Edwards)\",\"Ryerson, Miss. Emily Borie\",\"Ryerson, Miss. Susan Parker \\\"Suzette\\\"\",\"Sagesser, Mlle. Emma\",\"Sandstrom, Miss. Marguerite Rut\",\"Sandstrom, Mrs. Hjalmar (Agnes Charlotta Bengtsson)\",\"Shutes, Miss. Elizabeth W\",\"Silverthorne, Mr. Spencer Victor\",\"Silvey, Mr. William Baird\",\"Silvey, Mrs. William Baird (Alice Munger)\",\"Simonius-Blumer, Col. Oberst Alfons\",\"Sloper, Mr. William Thompson\",\"Smith, Mr. James Clinch\",\"Soholt, Mr. Peter Andreas Lauritz Andersen\",\"Spedden, Mrs. Frederic Oakley (Margaretta Corning Stone)\",\"Stahelin-Maeglin, Dr. Max\",\"Stead, Mr. William Thomas\",\"Stephenson, Mrs. Walter Bertram (Martha Eustis)\",\"Strom, Miss. Telma Matilda\",\"Strom, Mrs. Wilhelm (Elna Matilda Persson)\",\"Sutton, Mr. Frederick\",\"Swift, Mrs. Frederick Joel (Margaret Welles Barron)\",\"Taussig, Miss. Ruth\",\"Taussig, Mr. Emil\",\"Taussig, Mrs. Emil (Tillie Mandelbaum)\",\"Taylor, Mr. Elmer Zebley\",\"Thayer, Mr. John Borland\",\"Thayer, Mr. John Borland Jr\",\"Thayer, Mrs. John Borland (Marian Longstreth Morris)\",\"Troutt, Miss. Edwina Celia \\\"Winnie\\\"\",\"Van der hoef, Mr. Wyckoff\",\"Walker, Mr. William Anderson\",\"Warren, Mrs. Frank Manley (Anna Sophia Atkinson)\",\"Webber, Miss. Susan\",\"White, Mr. Percival Wayland\",\"White, Mr. Richard Frasar\",\"Wick, Miss. Mary Natalie\",\"Widener, Mr. Harry Elkins\",\"Young, Miss. Marie Grice\"],\"y\":[29.0,\"\",2.0,25.0,\"\",63.0,\"\",53.0,18.0,24.0,36.0,\"\",\"\",50.0,32.0,\"\",4.0,\"\",47.0,\"\",\"\",\"\",19.0,35.0,\"\",\"\",\"\",58.0,22.0,24.0,44.0,41.0,\"\",\"\",\"\",\"\",\"\",14.0,\"\",36.0,\"\",\"\",\"\",33.0,30.0,\"\",39.0,\"\",36.0,38.0,\"\",\"\",\"\",17.0,\"\",\"\",48.0,\"\",38.0,54.0,\"\",\"\",24.0,23.0,\"\",\"\",30.0,22.0,\"\",\"\",35.0,\"\",\"\",\"\",\"\",19.0,\"\",58.0,\"\",\"\",\"\",\"\",49.0,\"\",35.0,\"\",\"\",24.0,52.0,16.0,44.0,51.0,\"\",35.0,\"\",50.0,23.0,\"\",\"\",49.0,34.0,\"\",\"\",16.0,\"\",21.0,58.0,57.0,15.0,16.0,\"\",24.0,\"\",\"\",\"\",\"\",33.0,\"\",\"\",\"\",27.0,\"\",\"\",\"\",\"\",31.0,23.0,\"\",19.0,29.0,\"\",\"\",\"\",22.0,\"\",17.0,30.0,\"\",\"\",\"\",56.0,43.0,\"\",\"\",33.0,18.0,21.0,24.0,4.0,24.0,40.0,\"\",\"\",39.0,\"\",\"\",\"\",\"\",40.0,\"\",\"\",52.0,2.0,29.0,\"\",48.0,18.0,\"\",39.0,\"\",\"\",\"\",39.0,27.0,\"\",\"\",60.0,32.5,\"\",\"\",31.0,\"\",36.0],\"type\":\"scatter\"}],                        {\"legend\":{\"bgcolor\":\"#FFFFFF\",\"font\":{\"color\":\"#4D5663\"}},\"paper_bgcolor\":\"#FFFFFF\",\"plot_bgcolor\":\"#FFFFFF\",\"template\":{\"data\":{\"barpolar\":[{\"marker\":{\"line\":{\"color\":\"#E5ECF6\",\"width\":0.5},\"pattern\":{\"fillmode\":\"overlay\",\"size\":10,\"solidity\":0.2}},\"type\":\"barpolar\"}],\"bar\":[{\"error_x\":{\"color\":\"#2a3f5f\"},\"error_y\":{\"color\":\"#2a3f5f\"},\"marker\":{\"line\":{\"color\":\"#E5ECF6\",\"width\":0.5},\"pattern\":{\"fillmode\":\"overlay\",\"size\":10,\"solidity\":0.2}},\"type\":\"bar\"}],\"carpet\":[{\"aaxis\":{\"endlinecolor\":\"#2a3f5f\",\"gridcolor\":\"white\",\"linecolor\":\"white\",\"minorgridcolor\":\"white\",\"startlinecolor\":\"#2a3f5f\"},\"baxis\":{\"endlinecolor\":\"#2a3f5f\",\"gridcolor\":\"white\",\"linecolor\":\"white\",\"minorgridcolor\":\"white\",\"startlinecolor\":\"#2a3f5f\"},\"type\":\"carpet\"}],\"choropleth\":[{\"colorbar\":{\"outlinewidth\":0,\"ticks\":\"\"},\"type\":\"choropleth\"}],\"contourcarpet\":[{\"colorbar\":{\"outlinewidth\":0,\"ticks\":\"\"},\"type\":\"contourcarpet\"}],\"contour\":[{\"colorbar\":{\"outlinewidth\":0,\"ticks\":\"\"},\"colorscale\":[[0.0,\"#0d0887\"],[0.1111111111111111,\"#46039f\"],[0.2222222222222222,\"#7201a8\"],[0.3333333333333333,\"#9c179e\"],[0.4444444444444444,\"#bd3786\"],[0.5555555555555556,\"#d8576b\"],[0.6666666666666666,\"#ed7953\"],[0.7777777777777778,\"#fb9f3a\"],[0.8888888888888888,\"#fdca26\"],[1.0,\"#f0f921\"]],\"type\":\"contour\"}],\"heatmapgl\":[{\"colorbar\":{\"outlinewidth\":0,\"ticks\":\"\"},\"colorscale\":[[0.0,\"#0d0887\"],[0.1111111111111111,\"#46039f\"],[0.2222222222222222,\"#7201a8\"],[0.3333333333333333,\"#9c179e\"],[0.4444444444444444,\"#bd3786\"],[0.5555555555555556,\"#d8576b\"],[0.6666666666666666,\"#ed7953\"],[0.7777777777777778,\"#fb9f3a\"],[0.8888888888888888,\"#fdca26\"],[1.0,\"#f0f921\"]],\"type\":\"heatmapgl\"}],\"heatmap\":[{\"colorbar\":{\"outlinewidth\":0,\"ticks\":\"\"},\"colorscale\":[[0.0,\"#0d0887\"],[0.1111111111111111,\"#46039f\"],[0.2222222222222222,\"#7201a8\"],[0.3333333333333333,\"#9c179e\"],[0.4444444444444444,\"#bd3786\"],[0.5555555555555556,\"#d8576b\"],[0.6666666666666666,\"#ed7953\"],[0.7777777777777778,\"#fb9f3a\"],[0.8888888888888888,\"#fdca26\"],[1.0,\"#f0f921\"]],\"type\":\"heatmap\"}],\"histogram2dcontour\":[{\"colorbar\":{\"outlinewidth\":0,\"ticks\":\"\"},\"colorscale\":[[0.0,\"#0d0887\"],[0.1111111111111111,\"#46039f\"],[0.2222222222222222,\"#7201a8\"],[0.3333333333333333,\"#9c179e\"],[0.4444444444444444,\"#bd3786\"],[0.5555555555555556,\"#d8576b\"],[0.6666666666666666,\"#ed7953\"],[0.7777777777777778,\"#fb9f3a\"],[0.8888888888888888,\"#fdca26\"],[1.0,\"#f0f921\"]],\"type\":\"histogram2dcontour\"}],\"histogram2d\":[{\"colorbar\":{\"outlinewidth\":0,\"ticks\":\"\"},\"colorscale\":[[0.0,\"#0d0887\"],[0.1111111111111111,\"#46039f\"],[0.2222222222222222,\"#7201a8\"],[0.3333333333333333,\"#9c179e\"],[0.4444444444444444,\"#bd3786\"],[0.5555555555555556,\"#d8576b\"],[0.6666666666666666,\"#ed7953\"],[0.7777777777777778,\"#fb9f3a\"],[0.8888888888888888,\"#fdca26\"],[1.0,\"#f0f921\"]],\"type\":\"histogram2d\"}],\"histogram\":[{\"marker\":{\"pattern\":{\"fillmode\":\"overlay\",\"size\":10,\"solidity\":0.2}},\"type\":\"histogram\"}],\"mesh3d\":[{\"colorbar\":{\"outlinewidth\":0,\"ticks\":\"\"},\"type\":\"mesh3d\"}],\"parcoords\":[{\"line\":{\"colorbar\":{\"outlinewidth\":0,\"ticks\":\"\"}},\"type\":\"parcoords\"}],\"pie\":[{\"automargin\":true,\"type\":\"pie\"}],\"scatter3d\":[{\"line\":{\"colorbar\":{\"outlinewidth\":0,\"ticks\":\"\"}},\"marker\":{\"colorbar\":{\"outlinewidth\":0,\"ticks\":\"\"}},\"type\":\"scatter3d\"}],\"scattercarpet\":[{\"marker\":{\"colorbar\":{\"outlinewidth\":0,\"ticks\":\"\"}},\"type\":\"scattercarpet\"}],\"scattergeo\":[{\"marker\":{\"colorbar\":{\"outlinewidth\":0,\"ticks\":\"\"}},\"type\":\"scattergeo\"}],\"scattergl\":[{\"marker\":{\"colorbar\":{\"outlinewidth\":0,\"ticks\":\"\"}},\"type\":\"scattergl\"}],\"scattermapbox\":[{\"marker\":{\"colorbar\":{\"outlinewidth\":0,\"ticks\":\"\"}},\"type\":\"scattermapbox\"}],\"scatterpolargl\":[{\"marker\":{\"colorbar\":{\"outlinewidth\":0,\"ticks\":\"\"}},\"type\":\"scatterpolargl\"}],\"scatterpolar\":[{\"marker\":{\"colorbar\":{\"outlinewidth\":0,\"ticks\":\"\"}},\"type\":\"scatterpolar\"}],\"scatter\":[{\"fillpattern\":{\"fillmode\":\"overlay\",\"size\":10,\"solidity\":0.2},\"type\":\"scatter\"}],\"scatterternary\":[{\"marker\":{\"colorbar\":{\"outlinewidth\":0,\"ticks\":\"\"}},\"type\":\"scatterternary\"}],\"surface\":[{\"colorbar\":{\"outlinewidth\":0,\"ticks\":\"\"},\"colorscale\":[[0.0,\"#0d0887\"],[0.1111111111111111,\"#46039f\"],[0.2222222222222222,\"#7201a8\"],[0.3333333333333333,\"#9c179e\"],[0.4444444444444444,\"#bd3786\"],[0.5555555555555556,\"#d8576b\"],[0.6666666666666666,\"#ed7953\"],[0.7777777777777778,\"#fb9f3a\"],[0.8888888888888888,\"#fdca26\"],[1.0,\"#f0f921\"]],\"type\":\"surface\"}],\"table\":[{\"cells\":{\"fill\":{\"color\":\"#EBF0F8\"},\"line\":{\"color\":\"white\"}},\"header\":{\"fill\":{\"color\":\"#C8D4E3\"},\"line\":{\"color\":\"white\"}},\"type\":\"table\"}]},\"layout\":{\"annotationdefaults\":{\"arrowcolor\":\"#2a3f5f\",\"arrowhead\":0,\"arrowwidth\":1},\"autotypenumbers\":\"strict\",\"coloraxis\":{\"colorbar\":{\"outlinewidth\":0,\"ticks\":\"\"}},\"colorscale\":{\"diverging\":[[0,\"#8e0152\"],[0.1,\"#c51b7d\"],[0.2,\"#de77ae\"],[0.3,\"#f1b6da\"],[0.4,\"#fde0ef\"],[0.5,\"#f7f7f7\"],[0.6,\"#e6f5d0\"],[0.7,\"#b8e186\"],[0.8,\"#7fbc41\"],[0.9,\"#4d9221\"],[1,\"#276419\"]],\"sequential\":[[0.0,\"#0d0887\"],[0.1111111111111111,\"#46039f\"],[0.2222222222222222,\"#7201a8\"],[0.3333333333333333,\"#9c179e\"],[0.4444444444444444,\"#bd3786\"],[0.5555555555555556,\"#d8576b\"],[0.6666666666666666,\"#ed7953\"],[0.7777777777777778,\"#fb9f3a\"],[0.8888888888888888,\"#fdca26\"],[1.0,\"#f0f921\"]],\"sequentialminus\":[[0.0,\"#0d0887\"],[0.1111111111111111,\"#46039f\"],[0.2222222222222222,\"#7201a8\"],[0.3333333333333333,\"#9c179e\"],[0.4444444444444444,\"#bd3786\"],[0.5555555555555556,\"#d8576b\"],[0.6666666666666666,\"#ed7953\"],[0.7777777777777778,\"#fb9f3a\"],[0.8888888888888888,\"#fdca26\"],[1.0,\"#f0f921\"]]},\"colorway\":[\"#636efa\",\"#EF553B\",\"#00cc96\",\"#ab63fa\",\"#FFA15A\",\"#19d3f3\",\"#FF6692\",\"#B6E880\",\"#FF97FF\",\"#FECB52\"],\"font\":{\"color\":\"#2a3f5f\"},\"geo\":{\"bgcolor\":\"white\",\"lakecolor\":\"white\",\"landcolor\":\"#E5ECF6\",\"showlakes\":true,\"showland\":true,\"subunitcolor\":\"white\"},\"hoverlabel\":{\"align\":\"left\"},\"hovermode\":\"closest\",\"mapbox\":{\"style\":\"light\"},\"paper_bgcolor\":\"white\",\"plot_bgcolor\":\"#E5ECF6\",\"polar\":{\"angularaxis\":{\"gridcolor\":\"white\",\"linecolor\":\"white\",\"ticks\":\"\"},\"bgcolor\":\"#E5ECF6\",\"radialaxis\":{\"gridcolor\":\"white\",\"linecolor\":\"white\",\"ticks\":\"\"}},\"scene\":{\"xaxis\":{\"backgroundcolor\":\"#E5ECF6\",\"gridcolor\":\"white\",\"gridwidth\":2,\"linecolor\":\"white\",\"showbackground\":true,\"ticks\":\"\",\"zerolinecolor\":\"white\"},\"yaxis\":{\"backgroundcolor\":\"#E5ECF6\",\"gridcolor\":\"white\",\"gridwidth\":2,\"linecolor\":\"white\",\"showbackground\":true,\"ticks\":\"\",\"zerolinecolor\":\"white\"},\"zaxis\":{\"backgroundcolor\":\"#E5ECF6\",\"gridcolor\":\"white\",\"gridwidth\":2,\"linecolor\":\"white\",\"showbackground\":true,\"ticks\":\"\",\"zerolinecolor\":\"white\"}},\"shapedefaults\":{\"line\":{\"color\":\"#2a3f5f\"}},\"ternary\":{\"aaxis\":{\"gridcolor\":\"white\",\"linecolor\":\"white\",\"ticks\":\"\"},\"baxis\":{\"gridcolor\":\"white\",\"linecolor\":\"white\",\"ticks\":\"\"},\"bgcolor\":\"#E5ECF6\",\"caxis\":{\"gridcolor\":\"white\",\"linecolor\":\"white\",\"ticks\":\"\"}},\"title\":{\"x\":0.05},\"xaxis\":{\"automargin\":true,\"gridcolor\":\"white\",\"linecolor\":\"white\",\"ticks\":\"\",\"title\":{\"standoff\":15},\"zerolinecolor\":\"white\",\"zerolinewidth\":2},\"yaxis\":{\"automargin\":true,\"gridcolor\":\"white\",\"linecolor\":\"white\",\"ticks\":\"\",\"title\":{\"standoff\":15},\"zerolinecolor\":\"white\",\"zerolinewidth\":2}}},\"title\":{\"font\":{\"color\":\"#4D5663\"},\"text\":\"Distibuci\\u00f3n de edades de pasajeras del Titanic\"},\"xaxis\":{\"gridcolor\":\"#E1E5ED\",\"showgrid\":true,\"tickfont\":{\"color\":\"#4D5663\"},\"title\":{\"font\":{\"color\":\"#4D5663\"},\"text\":\"Nombres\"},\"zerolinecolor\":\"#E1E5ED\"},\"yaxis\":{\"gridcolor\":\"#E1E5ED\",\"showgrid\":true,\"tickfont\":{\"color\":\"#4D5663\"},\"title\":{\"font\":{\"color\":\"#4D5663\"},\"text\":\"\"},\"zerolinecolor\":\"#E1E5ED\"}},                        {\"showLink\": true, \"linkText\": \"Export to plot.ly\", \"plotlyServerURL\": \"https://plot.ly\", \"responsive\": true}                    ).then(function(){\n",
       "                            \n",
       "var gd = document.getElementById('03a27207-a744-4d2c-833d-a479da6f34e7');\n",
       "var x = new MutationObserver(function (mutations, observer) {{\n",
       "        var display = window.getComputedStyle(gd).display;\n",
       "        if (!display || display === 'none') {{\n",
       "            console.log([gd, 'removed!']);\n",
       "            Plotly.purge(gd);\n",
       "            observer.disconnect();\n",
       "        }}\n",
       "}});\n",
       "\n",
       "// Listen for the removal of the full notebook cells\n",
       "var notebookContainer = gd.closest('#notebook-container');\n",
       "if (notebookContainer) {{\n",
       "    x.observe(notebookContainer, {childList: true});\n",
       "}}\n",
       "\n",
       "// Listen for the clearing of the current output cell\n",
       "var outputEl = gd.closest('.output');\n",
       "if (outputEl) {{\n",
       "    x.observe(outputEl, {childList: true});\n",
       "}}\n",
       "\n",
       "                        })                };                });            </script>        </div>"
      ]
     },
     "metadata": {},
     "output_type": "display_data"
    }
   ],
   "source": [
    "#Scatterplot o Mapa de dispersión\n",
    "\n",
    "Data[['female']].iplot(kind='scatter', mode='markers',xTitle='Nombres', \n",
    "                               title='Distibución de edades de pasajeras del Titanic')\n"
   ]
  }
 ],
 "metadata": {
  "kernelspec": {
   "display_name": "Python 3.10.6 64-bit",
   "language": "python",
   "name": "python3"
  },
  "language_info": {
   "codemirror_mode": {
    "name": "ipython",
    "version": 3
   },
   "file_extension": ".py",
   "mimetype": "text/x-python",
   "name": "python",
   "nbconvert_exporter": "python",
   "pygments_lexer": "ipython3",
   "version": "3.10.6"
  },
  "orig_nbformat": 4,
  "vscode": {
   "interpreter": {
    "hash": "aee8b7b246df8f9039afb4144a1f6fd8d2ca17a180786b69acc140d282b71a49"
   }
  }
 },
 "nbformat": 4,
 "nbformat_minor": 2
}
